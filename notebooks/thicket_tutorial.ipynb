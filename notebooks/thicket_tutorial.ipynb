{
 "cells": [
  {
   "cell_type": "markdown",
   "metadata": {},
   "source": [
    "# Basic Thicket Tutorial: Thicket 101\n",
    "\n",
    "Thicket is a python-based toolkit for Exploratory Data Analysis (EDA) of parallel performance data that enables performance optimization and understanding of applications’ performance on supercomputers. It bridges the performance tool gap between being able to consider only a single instance of a simulation run (e.g., single platform, single measurement tool, or single scale) and finding actionable insights in multi-dimensional, multi-scale, multi-architecture, and multi-tool performance datasets.\n",
    "\n",
    "#### NOTE: An interactive version of this notebook is available in the Binder environment.\n",
    "\n",
    "[![Binder](https://mybinder.org/badge_logo.svg)](https://mybinder.org/v2/gh/llnl/thicket-tutorial/develop)\n",
    "\n",
    "***\n",
    "\n",
    "## 1. Import Necessary Packages\n",
    "\n",
    "To explore the structure and various capabilities of thicket components, we begin by importing necessary packages. These include python extensions and thicket's statistical functions."
   ]
  },
  {
   "cell_type": "code",
   "execution_count": null,
   "metadata": {
    "scrolled": true
   },
   "outputs": [],
   "source": [
    "import re\n",
    "\n",
    "import numpy as np\n",
    "import pandas as pd\n",
    "import matplotlib.pyplot as plt\n",
    "from IPython.display import display\n",
    "from IPython.display import HTML\n",
    "import hatchet as ht\n",
    "\n",
    "import thicket as tt\n",
    "\n",
    "display(HTML(\"<style>.container { width:80% !important; }</style>\"))"
   ]
  },
  {
   "cell_type": "markdown",
   "metadata": {},
   "source": [
    "## 2. Read in Performance Profiles\n",
    "\n",
    "For this notebook, we select profiles generated on Lawrence Livermore National Lab(LLNL) machine, lassen. We create two thicket objects, one generated with the same problem size of 1048576 and the other generated with different problem sizes (1048576 and 4194304).   "
   ]
  },
  {
   "cell_type": "code",
   "execution_count": null,
   "metadata": {},
   "outputs": [],
   "source": [
    "lassen1 = [f\"../data/lassen/XL_BaseCuda_01048576_0{x}.cali\" for x in range(1, 4)]\n",
    "lassen2 = [f\"../data/lassen/XL_BaseCuda_04194304_01.cali\"]\n",
    "\n",
    "# generate thicket(s)\n",
    "th_lassen = tt.Thicket.from_caliperreader(lassen1)\n",
    "th_obj = tt.Thicket.from_caliperreader(lassen1+lassen2)"
   ]
  },
  {
   "cell_type": "markdown",
   "metadata": {},
   "source": [
    "## 3. More Information on a Function\n",
    "***\n",
    "You can use the help() method within Python to see the information for a given object. You can do this by typing help(object). \n",
    "This will allow you to see the arguments for the function, and what will be returned. An example is below."
   ]
  },
  {
   "cell_type": "code",
   "execution_count": null,
   "metadata": {},
   "outputs": [],
   "source": [
    "help(tt.median)"
   ]
  },
  {
   "cell_type": "markdown",
   "metadata": {},
   "source": [
    "## 4. Thicket Components\n",
    "\n",
    "### 4.1 Performance Data\n",
    "\n",
    "The performance data table is a multi-dimensional, multi-indexed component of thicket. The rows represent nodes that each contain a different execution (i.e., profile index) of the associated call tree node. \n",
    "\n",
    "\n",
    "#### View performance data table:"
   ]
  },
  {
   "cell_type": "code",
   "execution_count": null,
   "metadata": {},
   "outputs": [],
   "source": [
    "th_lassen.dataframe"
   ]
  },
  {
   "cell_type": "markdown",
   "metadata": {},
   "source": [
    "### 4.2 Metadata\n",
    "\n",
    "The metadata table stores HPC simulation information such as an application’s build settings and execution context. A row corresponds to a single execution of the application and is identified by a unique profile index.\n",
    "\n",
    "#### View metadata table:"
   ]
  },
  {
   "cell_type": "code",
   "execution_count": null,
   "metadata": {
    "scrolled": true
   },
   "outputs": [],
   "source": [
    "th_lassen.metadata"
   ]
  },
  {
   "cell_type": "markdown",
   "metadata": {},
   "source": [
    "#### Composing multiple Thickets:\n",
    "We can compose thickets in a hierarchical, horizontal ordering using thicket's `columnar_join` function. In this example, we compose profiles of two different problem sizes and four different block sizes seamlessly."
   ]
  },
  {
   "cell_type": "code",
   "execution_count": null,
   "metadata": {},
   "outputs": [],
   "source": [
    "problem_sizes = [\"1M\", \"4M\"]\n",
    "data = {\n",
    "    \"block_128\": [f\"../data/lassen/new-cali/Base_CUDA-block_128-{i}.cali\" for i in problem_sizes],\n",
    "    \"block_256\": [f\"../data/lassen/new-cali/Base_CUDA-block_256-{i}.cali\" for i in problem_sizes],\n",
    "    \"block_512\": [f\"../data/lassen/new-cali/Base_CUDA-block_512-{i}.cali\" for i in problem_sizes],\n",
    "    \"block_1024\": [f\"../data/lassen/new-cali/Base_CUDA-block_1024-{i}.cali\" for i in problem_sizes],\n",
    "}"
   ]
  },
  {
   "cell_type": "code",
   "execution_count": null,
   "metadata": {},
   "outputs": [],
   "source": [
    "block_128 = tt.Thicket.from_caliperreader(data[\"block_128\"])\n",
    "block_256 = tt.Thicket.from_caliperreader(data[\"block_256\"])\n",
    "block_512 = tt.Thicket.from_caliperreader(data[\"block_512\"])\n",
    "block_1024 = tt.Thicket.from_caliperreader(data[\"block_1024\"])"
   ]
  },
  {
   "cell_type": "code",
   "execution_count": null,
   "metadata": {},
   "outputs": [],
   "source": [
    "th_cj = tt.Thicket.columnar_join(\n",
    "    thicket_list=[block_128, block_256, block_512, block_1024],\n",
    "    header_list=[\"Block 128\", \"Block 256\", \"Block 512\", \"Block 1024\"],\n",
    "    column_name=\"ProblemSizeRunParam\"\n",
    ")"
   ]
  },
  {
   "cell_type": "code",
   "execution_count": null,
   "metadata": {},
   "outputs": [],
   "source": [
    "print(th_cj.tree())"
   ]
  },
  {
   "cell_type": "code",
   "execution_count": null,
   "metadata": {},
   "outputs": [],
   "source": [
    "th_cj.dataframe"
   ]
  },
  {
   "cell_type": "markdown",
   "metadata": {},
   "source": [
    "#### Filter with respect to metadata\n",
    "\n",
    "The metadata table of a thicket helps select certain variation based on specific metadata. For example, selecting a certain compiler. In this example, we filter the metadata to select the profiles generated with a block size of `128`."
   ]
  },
  {
   "cell_type": "code",
   "execution_count": null,
   "metadata": {
    "scrolled": true
   },
   "outputs": [],
   "source": [
    "# selecting profiles originating form the quartz cluster\n",
    "filter_metadata_func = lambda x: x['gpu_targets_block_sizes'] == \"128\"\n",
    "th_example = th_obj.filter_metadata(filter_metadata_func)\n",
    "th_example.metadata"
   ]
  },
  {
   "cell_type": "markdown",
   "metadata": {},
   "source": [
    "#### Group with the metadata \n",
    "\n",
    "The metadata table also supports the grouping of the thicket based on the unique values present in the provided column(s). The following example groups the thicket according to any unique combination of values in the `launchdate` and `gpu_targets_block_sizes` columns."
   ]
  },
  {
   "cell_type": "code",
   "execution_count": null,
   "metadata": {
    "scrolled": false
   },
   "outputs": [],
   "source": [
    "# create sub-thickets from unique values in the cluster column\n",
    "grouping_metadata_cols = ['launchdate', 'gpu_targets_block_sizes']\n",
    "sub_thickets = th_lassen.groupby(grouping_metadata_cols)\n",
    "for th in sub_thickets:\n",
    "    display(th.metadata)"
   ]
  },
  {
   "cell_type": "markdown",
   "metadata": {},
   "source": [
    "### 4.3 Aggregated Statistics\n",
    "\n",
    "The aggregated statistics in a thicket is a GraphFrame. Therefore, it contains a graph and corresponding dataframe component. The table supports an order-reduction mechanism and stores processed applications’ performance. Each row of the aggregated statistics table holds data aggregated across all profiles associated with a particular call tree node. Below is an example of an empty aggregated statistics table \n",
    "\n",
    "\n",
    "#### View aggregated statistics table:"
   ]
  },
  {
   "cell_type": "code",
   "execution_count": null,
   "metadata": {},
   "outputs": [],
   "source": [
    "th_lassen.statsframe.dataframe"
   ]
  },
  {
   "cell_type": "markdown",
   "metadata": {},
   "source": [
    "#### Filter with respect to aggregated statistics\n",
    "\n",
    "The aggregated statistics table also supports a filter function. In the example below, we filter the table to select the nodes with the names `Base_CUDA`, `Algorithm`, and `Stream_MUL`."
   ]
  },
  {
   "cell_type": "code",
   "execution_count": null,
   "metadata": {
    "scrolled": true
   },
   "outputs": [],
   "source": [
    "stats_nodes = [\"Base_CUDA\", \"Algorithm\", \"Stream_MUL\"]\n",
    "th_stats_name = th_obj.filter_stats(lambda x: x['name'] in stats_nodes)\n",
    "th_stats_name.statsframe.dataframe"
   ]
  },
  {
   "cell_type": "markdown",
   "metadata": {},
   "source": [
    "#### Append the average (mean and median) of performance data\n",
    "\n",
    "The aggregated statistics table allows users to select a column from the performance data to perform an average on the values in a column. After performing the `median()` and `mean()` operation on said column, two new columns are appended to the statistics table with the mean and median values corresponding to the columns provided by the user. \n",
    "\n",
    "Below is an example where we calculate the mean and median of the values in the `sum#sum#sum#time.duration` column, which is the total exclusive time corresponding to the respective nodes.  "
   ]
  },
  {
   "cell_type": "code",
   "execution_count": null,
   "metadata": {
    "scrolled": true
   },
   "outputs": [],
   "source": [
    "metrics = ['Total time (exc)']\n",
    "tt.median(th_lassen,columns=metrics)\n",
    "th_lassen.statsframe.dataframe"
   ]
  },
  {
   "cell_type": "code",
   "execution_count": null,
   "metadata": {},
   "outputs": [],
   "source": [
    "tt.mean(th_lassen,columns=metrics)\n",
    "th_lassen.statsframe.dataframe"
   ]
  },
  {
   "cell_type": "markdown",
   "metadata": {},
   "source": [
    "#### Append the percentile of exclusive time on performance data\n",
    "\n",
    "The aggregated statistics table allows users to select a column from the performance data to perform the `percentiles()` operation. This results in a new column appended to the statistics table containing the 25th, 50th, and 75th percentiles of the values in the provided column.\n",
    "\n",
    "Below is an example where we calculate the percentiles of the values in the same `sum#sum#sum#time.duration` column."
   ]
  },
  {
   "cell_type": "code",
   "execution_count": null,
   "metadata": {
    "scrolled": true
   },
   "outputs": [],
   "source": [
    "tt.percentiles(th_lassen,columns=metrics)\n",
    "th_lassen.statsframe.dataframe"
   ]
  },
  {
   "cell_type": "markdown",
   "metadata": {},
   "source": [
    "#### View aggregated statistics call tree:\n",
    "\n",
    "* More explanation about the calc_average() function and the selected column `sum#sum#sum#time.duration_median` below."
   ]
  },
  {
   "cell_type": "code",
   "execution_count": null,
   "metadata": {},
   "outputs": [],
   "source": [
    "th_lassen.dataframe.columns"
   ]
  },
  {
   "cell_type": "code",
   "execution_count": null,
   "metadata": {
    "scrolled": false
   },
   "outputs": [],
   "source": [
    "tt.median(th_lassen, columns=['Total time (exc)'])\n",
    "print(th_lassen.statsframe.tree(metric_column='Total time (exc)_median'))"
   ]
  },
  {
   "cell_type": "markdown",
   "metadata": {},
   "source": [
    "#### Use the Query Language\n",
    "\n",
    "Thicket's query language provides users the capability to select or `query` specific nodes based on the call tree of the thicket. The performance data is then updated as part of the operation. \n",
    "\n",
    "**Initial call tree:** "
   ]
  },
  {
   "cell_type": "code",
   "execution_count": null,
   "metadata": {
    "scrolled": false
   },
   "outputs": [],
   "source": [
    "print(th_lassen.statsframe.tree('Total time (exc)_median'))"
   ]
  },
  {
   "cell_type": "markdown",
   "metadata": {},
   "source": [
    "**Example 1**\n",
    "\n",
    "**Queried call tree:**\n",
    "\n",
    "In the example below, we use a thicket query that only select the parents and children nodes of `Algorithm`, maintaining the structure of the call tree.\n",
    "\n",
    "NOTE: A DeprecationWarning is generated when using “old-style” queries (i.e., queries with QueryMatcher) if you have the newest version of Hatchet installed."
   ]
  },
  {
   "cell_type": "code",
   "execution_count": null,
   "metadata": {
    "scrolled": false
   },
   "outputs": [],
   "source": [
    "alg_query_ex1 = (\n",
    "    ht.QueryMatcher()\n",
    "    .match(\"*\")\n",
    "    .rel(\n",
    "        \".\", \n",
    "        lambda row: row[\"name\"].apply(\n",
    "        lambda x: re.match(\n",
    "            r\"Algorithm.*\", x\n",
    "        ) \n",
    "        is not None).all()\n",
    "    )\n",
    ")\n",
    "    \n",
    "# applying the query on the lassen thicket\n",
    "th_algorithm_ex1 = th_lassen.query(alg_query_ex1)\n",
    "tt.median(th_algorithm_ex1, columns=['Total time (exc)'])\n",
    "print(th_algorithm_ex1.statsframe.tree('Total time (exc)_median'))"
   ]
  },
  {
   "cell_type": "markdown",
   "metadata": {},
   "source": [
    "**Example 2**\n",
    "\n",
    "**Queried call tree:**\n",
    "\n",
    "In the example below, we use a thicket query that selects the only the `Algorithm` node and it's children nodes, maintaining the structure of the call tree.\n",
    "\n",
    "NOTE: A DeprecationWarning is generated when using “old-style” queries (i.e., queries with QueryMatcher) if you have the newest version of Hatchet installed."
   ]
  },
  {
   "cell_type": "code",
   "execution_count": null,
   "metadata": {
    "scrolled": false
   },
   "outputs": [],
   "source": [
    "alg_query_ex2 = (\n",
    "    ht.QueryMatcher()\n",
    "    .match(\n",
    "        \".\",\n",
    "        lambda row: row[\"name\"].apply(\n",
    "        lambda x: re.match(\n",
    "            r\"Algorithm.*\", x\n",
    "        ) \n",
    "        is not None).all()\n",
    "    )\n",
    "    .rel(\"*\")\n",
    ")\n",
    "\n",
    "# applying the second query on the lassen thicket\n",
    "th_algorithm_ex2 = th_lassen.query(alg_query_ex2)\n",
    "tt.median(th_algorithm_ex2, columns=['Total time (exc)'])\n",
    "print(th_algorithm_ex2.statsframe.tree('Total time (exc)_median'))"
   ]
  },
  {
   "cell_type": "markdown",
   "metadata": {},
   "source": [
    "#### Display histogram\n",
    "\n",
    "The `display_histogram()` function allows users to select a node and metric value (a column in the performance data table) for which a histogram is generated.\n",
    "\n",
    "Some available keyword arguments are the following,\n",
    "\n",
    "* height: height (in inches) of each facet.\n",
    "* aspect: aspect ratio of each facet, aspect * height will give you the width of each facet.\n",
    "* bins: rather generic, and can set the number of bins.\n",
    "* binwidth: width of each bin, overrides bins but can be used with binrange.\n",
    "* binrange: lowest and highest value for bin edges; can be used either with bins or binwidth. Defaults to extremes.\n",
    "* color: Set the color of the bars.\n",
    "\n",
    "An exhaustive list of available arguments can be found [here](https://seaborn.pydata.org/generated/seaborn.displot.html).   "
   ]
  },
  {
   "cell_type": "code",
   "execution_count": null,
   "metadata": {},
   "outputs": [],
   "source": [
    "n = pd.unique(th_algorithm_ex1.dataframe.reset_index()[\"node\"])[0]"
   ]
  },
  {
   "cell_type": "code",
   "execution_count": null,
   "metadata": {},
   "outputs": [],
   "source": [
    "tt.display_histogram(th_algorithm_ex1,node=n,column=\"Total time (exc)\")"
   ]
  },
  {
   "cell_type": "markdown",
   "metadata": {},
   "source": [
    "#### Display heatmap\n",
    "\n",
    "The `display_heatmap()` function allows users to select column(s) from the performance data table, for which a heatmap is generated based on the values of the column.\n",
    "\n",
    "Some available keyword arguments are the following: \n",
    "* vmax: maximum value to anchor the color map.\n",
    "* vmin: minimum value to anchor the color map.\n",
    "* linecolor: color of the lines that will divide each cell.\n",
    "* linewidths: Width of the lines that will divide each cell.\n",
    "\n",
    "An exhaustive list of available arguments can be found [here](https://seaborn.pydata.org/generated/seaborn.heatmap.html).  "
   ]
  },
  {
   "cell_type": "code",
   "execution_count": null,
   "metadata": {},
   "outputs": [],
   "source": [
    "th_algorithm_ex1.dataframe.columns"
   ]
  },
  {
   "cell_type": "code",
   "execution_count": null,
   "metadata": {},
   "outputs": [],
   "source": [
    "plt.figure(figsize = (30,30))\n",
    "metrics = [\"Total time (exc)_median\"]\n",
    "tt.display_heatmap(th_algorithm_ex1, columns=metrics)"
   ]
  }
 ],
 "metadata": {
  "kernelspec": {
   "display_name": "Python 3 (ipykernel)",
   "language": "python",
   "name": "python3"
  },
  "language_info": {
   "codemirror_mode": {
    "name": "ipython",
    "version": 3
   },
   "file_extension": ".py",
   "mimetype": "text/x-python",
   "name": "python",
   "nbconvert_exporter": "python",
   "pygments_lexer": "ipython3",
   "version": "3.8.16"
  }
 },
 "nbformat": 4,
 "nbformat_minor": 4
}
