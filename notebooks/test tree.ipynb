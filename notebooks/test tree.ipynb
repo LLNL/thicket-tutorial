{
 "cells": [
  {
   "cell_type": "code",
   "execution_count": null,
   "metadata": {},
   "outputs": [],
   "source": [
    "import sys\n",
    "import matplotlib.pyplot as plt\n",
    "import pandas as pd\n",
    "from IPython.display import display\n",
    "from IPython.display import HTML\n",
    "\n",
    "import thicket as th\n",
    "import hatchet as ht\n",
    "from thicket.model_extrap import ExtrapInterface\n",
    "\n",
    "display(HTML(\"<style>.container { width:80% !important; }</style>\"))\n",
    "\n",
    "# display all columns from pandas data frames\n",
    "pd.options.display.max_columns = None\n",
    "\n",
    "data = \"../../data/LULESH/exclusive/weak\"\n",
    "th_lulesh = th.Thicket.from_caliperreader(data)\n",
    "extrap_interface = ExtrapInterface()\n",
    "extrap_interface.create_models(th_lulesh, \n",
    "                               parameters=[\n",
    "                                   \"jobsize\",\n",
    "                                   #\"problem_size\"\n",
    "                                ], \n",
    "                               metrics=[\n",
    "                                   #\"Avg time/rank (exc)\",\n",
    "                                   \"Avg time/rank\"\n",
    "                                   ], \n",
    "                               use_median=True,\n",
    "                               modeler=\"default\",\n",
    "                               model_name=\"config1\")"
   ]
  },
  {
   "cell_type": "code",
   "execution_count": null,
   "metadata": {},
   "outputs": [],
   "source": [
    "th_lulesh.statsframe.dataframe"
   ]
  },
  {
   "cell_type": "code",
   "execution_count": null,
   "metadata": {},
   "outputs": [],
   "source": [
    "extrap_interface.complexity_statsframe(th_lulesh, eval_targets=[[512],[1024]])\n",
    "\n",
    "xp_comp_df = th_lulesh.statsframe.dataframe\n",
    "\n",
    "xp_comp_df\n"
   ]
  },
  {
   "cell_type": "code",
   "execution_count": null,
   "metadata": {},
   "outputs": [],
   "source": [
    "xp_comp_df.sort_values(by=[\"Avg time/rank_extrap-model_growth_rank_(512)\"])"
   ]
  },
  {
   "cell_type": "code",
   "execution_count": null,
   "metadata": {},
   "outputs": [],
   "source": [
    "th_lulesh.show_metric_columns()"
   ]
  },
  {
   "cell_type": "code",
   "execution_count": null,
   "metadata": {},
   "outputs": [],
   "source": [
    "xp_comp_df.columns"
   ]
  },
  {
   "cell_type": "code",
   "execution_count": null,
   "metadata": {},
   "outputs": [],
   "source": [
    "help(th_lulesh.statsframe.tree)"
   ]
  },
  {
   "cell_type": "code",
   "execution_count": null,
   "metadata": {},
   "outputs": [],
   "source": [
    "th.median(th_lulesh, columns=[\"Avg time/rank\"])\n",
    "\n",
    "print(str(th_lulesh.statsframe.tree(\n",
    "    metric_column='Avg time/rank_median', \n",
    "    annotation_column=\"Avg time/rank_extrap-model_complexity_(512)\", \n",
    "    colormap=\"RdYlGn\", \n",
    "    #colormap_annotations=\"black\"\n",
    "    )))\n"
   ]
  },
  {
   "cell_type": "code",
   "execution_count": null,
   "metadata": {},
   "outputs": [],
   "source": [
    "th.median(th_lulesh, columns=[\"Avg time/rank\"])\n",
    "\n",
    "#help(th_lulesh.statsframe.tree)\n",
    "\n",
    "print(str(th_lulesh.statsframe.tree(\n",
    "    metric_column=\"Avg time/rank_extrap-model_growth_rank_(512)\", \n",
    "    annotation_column=\"Avg time/rank_extrap-model_complexity_(512)\", \n",
    "    colormap=\"RdYlGn\", \n",
    "    invert_colormap=True,\n",
    "    #colormap_annotations=\"\"\n",
    "    )))\n",
    "\n"
   ]
  }
 ],
 "metadata": {
  "kernelspec": {
   "display_name": "thicket_env",
   "language": "python",
   "name": "python3"
  },
  "language_info": {
   "codemirror_mode": {
    "name": "ipython",
    "version": 3
   },
   "file_extension": ".py",
   "mimetype": "text/x-python",
   "name": "python",
   "nbconvert_exporter": "python",
   "pygments_lexer": "ipython3",
   "version": "3.9.12"
  },
  "orig_nbformat": 4
 },
 "nbformat": 4,
 "nbformat_minor": 2
}
