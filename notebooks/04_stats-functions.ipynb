{
 "cells": [
  {
   "cell_type": "markdown",
   "id": "5f724ab5",
   "metadata": {
    "papermill": {
     "duration": 0.029822,
     "end_time": "2024-03-26T22:19:37.853389",
     "exception": false,
     "start_time": "2024-03-26T22:19:37.823567",
     "status": "completed"
    },
    "tags": []
   },
   "source": [
    "# Statistical and Visualization Functions: Thicket Tutorial\n",
    "\n",
    "Thicket is a python-based toolkit for Exploratory Data Analysis (EDA) of parallel performance data that enables performance optimization and understanding of applications’ performance on supercomputers. It bridges the performance tool gap between being able to consider only a single instance of a simulation run (e.g., single platform, single measurement tool, or single scale) and finding actionable insights in multi-dimensional, multi-scale, multi-architecture, and multi-tool performance datasets.\n",
    "\n",
    "## 1. Import Necessary Packages\n",
    "\n",
    "To explore the structure and various capabilities of thicket components, we begin by importing necessary packages. "
   ]
  },
  {
   "cell_type": "code",
   "execution_count": null,
   "id": "90484b9c",
   "metadata": {
    "papermill": {
     "duration": 0.534868,
     "end_time": "2024-03-26T22:19:38.394227",
     "exception": false,
     "start_time": "2024-03-26T22:19:37.859359",
     "status": "completed"
    },
    "tags": []
   },
   "outputs": [],
   "source": [
    "import matplotlib.pyplot as plt\n",
    "import seaborn as sns\n",
    "import pandas as pd\n",
    "import numpy as np\n",
    "from IPython.display import display\n",
    "from IPython.display import HTML\n",
    "import hatchet as ht\n",
    "\n",
    "import thicket as th\n",
    "\n",
    "pd.set_option(\"display.max_rows\", None)\n",
    "pd.set_option(\"display.max_columns\", None)"
   ]
  },
  {
   "cell_type": "code",
   "execution_count": null,
   "id": "6586fbfb",
   "metadata": {
    "execution": {
     "iopub.execute_input": "2024-03-26T22:19:31.397846Z",
     "iopub.status.busy": "2024-03-26T22:19:31.397645Z",
     "iopub.status.idle": "2024-03-26T22:19:31.400418Z",
     "shell.execute_reply": "2024-03-26T22:19:31.400126Z"
    },
    "papermill": {
     "duration": 0.007031,
     "end_time": "2024-03-26T22:19:31.401094",
     "exception": false,
     "start_time": "2024-03-26T22:19:31.394063",
     "status": "completed"
    },
    "tags": []
   },
   "outputs": [],
   "source": [
    "# Disable the Pandas 3 Future Warnings for now\n",
    "import warnings\n",
    "warnings.filterwarnings(\"ignore\", category=FutureWarning) "
   ]
  },
  {
   "cell_type": "markdown",
   "id": "85d6bf44",
   "metadata": {
    "papermill": {
     "duration": 0.005558,
     "end_time": "2024-03-26T22:19:38.405977",
     "exception": false,
     "start_time": "2024-03-26T22:19:38.400419",
     "status": "completed"
    },
    "tags": []
   },
   "source": [
    "## 2. Read in Performance Profiles\n",
    "\n",
    "For this notebook, we select profiles generated on Lawrence Livermore National Lab (LLNL) machine, quartz. We create two thicket objects, one containing data generated using the clang compiler and the other containing data generated with the GCC compiler."
   ]
  },
  {
   "cell_type": "code",
   "execution_count": null,
   "id": "d2385473",
   "metadata": {
    "papermill": {
     "duration": 0.530595,
     "end_time": "2024-03-26T22:19:38.941964",
     "exception": false,
     "start_time": "2024-03-26T22:19:38.411369",
     "status": "completed"
    },
    "tags": []
   },
   "outputs": [],
   "source": [
    "clang = \"../data/quartz/clang14.0.6_BaseSeq_8388608/\"\n",
    "gcc = \"../data/quartz/GCC_10.3.1_BaseSeq_08388608/O3\"\n",
    "\n",
    "# create thickets for each dataset originating from clang and gcc compilers\n",
    "clang_th = th.Thicket.from_caliperreader(clang, disable_tqdm=True)\n",
    "gcc_th = th.Thicket.from_caliperreader(gcc, disable_tqdm=True)"
   ]
  },
  {
   "cell_type": "markdown",
   "id": "62bd944c",
   "metadata": {
    "papermill": {
     "duration": 0.005655,
     "end_time": "2024-03-26T22:19:38.953426",
     "exception": false,
     "start_time": "2024-03-26T22:19:38.947771",
     "status": "completed"
    },
    "tags": []
   },
   "source": [
    "## 3. More Information on a Function\n",
    "\n",
    "You can use the `help()` method within Python to see the information for a given object. You can do this by typing `help(object)`. \n",
    "This will allow you to see the arguments for the function, and what will be returned. An example is below."
   ]
  },
  {
   "cell_type": "code",
   "execution_count": null,
   "id": "76878f91",
   "metadata": {
    "papermill": {
     "duration": 0.009118,
     "end_time": "2024-03-26T22:19:38.967914",
     "exception": false,
     "start_time": "2024-03-26T22:19:38.958796",
     "status": "completed"
    },
    "tags": []
   },
   "outputs": [],
   "source": [
    "help(th.stats.median)"
   ]
  },
  {
   "cell_type": "markdown",
   "id": "cc92a407",
   "metadata": {
    "papermill": {
     "duration": 0.005355,
     "end_time": "2024-03-26T22:19:38.978736",
     "exception": false,
     "start_time": "2024-03-26T22:19:38.973381",
     "status": "completed"
    },
    "tags": []
   },
   "source": [
    "## 4. Creating a Combined Thicket\n",
    "\n",
    "To demonstrate the functions on both a thicket and a combined thicket, we create a combined thicket."
   ]
  },
  {
   "cell_type": "code",
   "execution_count": null,
   "id": "2ac69440",
   "metadata": {
    "papermill": {
     "duration": 0.078105,
     "end_time": "2024-03-26T22:19:39.062127",
     "exception": false,
     "start_time": "2024-03-26T22:19:38.984022",
     "status": "completed"
    },
    "tags": []
   },
   "outputs": [],
   "source": [
    "combined_th = th.Thicket.concat_thickets(\n",
    "    axis=\"columns\",\n",
    "    thickets=[clang_th, gcc_th],\n",
    "    headers=[\"Clang\", \"GCC\"],\n",
    "    disable_tqdm=True,\n",
    ")\n",
    "combined_th.dataframe.head(5)"
   ]
  },
  {
   "cell_type": "markdown",
   "id": "cb21574b",
   "metadata": {
    "papermill": {
     "duration": 0.005819,
     "end_time": "2024-03-26T22:19:39.074117",
     "exception": false,
     "start_time": "2024-03-26T22:19:39.068298",
     "status": "completed"
    },
    "tags": []
   },
   "source": [
    "**NOTE**\n",
    "- Single indexed statistical functions append columns to the right.\n",
    "- Columnar joined thickets are ordered in alphabetical order by column index and also by the columns underneath a column index. "
   ]
  },
  {
   "cell_type": "markdown",
   "id": "177c033a",
   "metadata": {
    "papermill": {
     "duration": 0.005689,
     "end_time": "2024-03-26T22:19:39.085739",
     "exception": false,
     "start_time": "2024-03-26T22:19:39.080050",
     "status": "completed"
    },
    "tags": []
   },
   "source": [
    "## 5. Aggregated Statistic Functions"
   ]
  },
  {
   "cell_type": "markdown",
   "id": "a08bc5a3",
   "metadata": {
    "papermill": {
     "duration": 0.00565,
     "end_time": "2024-03-26T22:19:39.097572",
     "exception": false,
     "start_time": "2024-03-26T22:19:39.091922",
     "status": "completed"
    },
    "tags": []
   },
   "source": [
    "###  5.1 Maximum\n",
    "The `maximum` function will determine the maximum value for each node in the performance data table. In other terms, the maximum is the highest observation for a node and its associated profiles. <br>\n",
    "\n",
    "The maximum value will be appended to the aggregated statistics table and will be denoted with `_max` at the end of column name i.e. `column_max`."
   ]
  },
  {
   "cell_type": "markdown",
   "id": "f0fb7c67",
   "metadata": {
    "papermill": {
     "duration": 0.005654,
     "end_time": "2024-03-26T22:19:39.108913",
     "exception": false,
     "start_time": "2024-03-26T22:19:39.103259",
     "status": "completed"
    },
    "tags": []
   },
   "source": [
    "**Single Index Thicket Example**"
   ]
  },
  {
   "cell_type": "code",
   "execution_count": null,
   "id": "acf6f1a8",
   "metadata": {
    "papermill": {
     "duration": 0.0092,
     "end_time": "2024-03-26T22:19:39.123823",
     "exception": false,
     "start_time": "2024-03-26T22:19:39.114623",
     "status": "completed"
    },
    "tags": []
   },
   "outputs": [],
   "source": [
    "# define metrics to calculate the maximum on\n",
    "metrics = [\"time (exc)\", \"Machine clears\"]"
   ]
  },
  {
   "cell_type": "code",
   "execution_count": null,
   "id": "72b5d453",
   "metadata": {
    "papermill": {
     "duration": 0.012245,
     "end_time": "2024-03-26T22:19:39.141831",
     "exception": false,
     "start_time": "2024-03-26T22:19:39.129586",
     "status": "completed"
    },
    "tags": []
   },
   "outputs": [],
   "source": [
    "th.stats.maximum(clang_th, columns=metrics)\n",
    "# view the first 5 entries of the aggregated statistics table\n",
    "clang_th.statsframe.dataframe.head(5)"
   ]
  },
  {
   "cell_type": "markdown",
   "id": "8538da85",
   "metadata": {
    "papermill": {
     "duration": 0.005646,
     "end_time": "2024-03-26T22:19:39.164247",
     "exception": false,
     "start_time": "2024-03-26T22:19:39.158601",
     "status": "completed"
    },
    "tags": []
   },
   "source": [
    "**Multi-Indexed Thicket Example**\n",
    "\n",
    "Example demonstrates how to pass a columnar joined thicket object. When passing a columnar joined thicket object, the columns argument will now take a list of tuples. Each tuple will consist of two elements. The first element will always be the column index, and the second element will be an associated column under the column index you passed.<br>\n",
    "\n",
    " - Example: (column_index, column_name) -> (\"GCC\", \"Machine clears\")"
   ]
  },
  {
   "cell_type": "code",
   "execution_count": null,
   "id": "90f7e799",
   "metadata": {
    "papermill": {
     "duration": 0.008821,
     "end_time": "2024-03-26T22:19:39.178839",
     "exception": false,
     "start_time": "2024-03-26T22:19:39.170018",
     "status": "completed"
    },
    "tags": []
   },
   "outputs": [],
   "source": [
    "metrics = [(\"Clang\", \"time (exc)\"), (\"GCC\", \"Machine clears\")]"
   ]
  },
  {
   "cell_type": "code",
   "execution_count": null,
   "id": "7a1e0fb7",
   "metadata": {
    "papermill": {
     "duration": 0.015349,
     "end_time": "2024-03-26T22:19:39.200063",
     "exception": false,
     "start_time": "2024-03-26T22:19:39.184714",
     "status": "completed"
    },
    "tags": []
   },
   "outputs": [],
   "source": [
    "th.stats.maximum(combined_th, columns=metrics)\n",
    "combined_th.statsframe.dataframe.head(5)"
   ]
  },
  {
   "cell_type": "markdown",
   "id": "b6e77f42",
   "metadata": {
    "papermill": {
     "duration": 0.005848,
     "end_time": "2024-03-26T22:19:39.212069",
     "exception": false,
     "start_time": "2024-03-26T22:19:39.206221",
     "status": "completed"
    },
    "tags": []
   },
   "source": [
    "### 5.2 Minimum\n",
    "\n",
    "The `minimum` function will determine the minimum value for each node in the performance data table. In other terms, the minimum is the lowest observation for a node and its associated profiles. <br>\n",
    "\n",
    "The minimum value will be appended to the aggregated statistics table and will be denoted with `_min` at the end of column name i.e. `column_min`."
   ]
  },
  {
   "cell_type": "markdown",
   "id": "514a9554",
   "metadata": {
    "papermill": {
     "duration": 0.005843,
     "end_time": "2024-03-26T22:19:39.223772",
     "exception": false,
     "start_time": "2024-03-26T22:19:39.217929",
     "status": "completed"
    },
    "tags": []
   },
   "source": [
    "**Single Index Thicket Example**"
   ]
  },
  {
   "cell_type": "code",
   "execution_count": null,
   "id": "63b72829",
   "metadata": {
    "papermill": {
     "duration": 0.009274,
     "end_time": "2024-03-26T22:19:39.238961",
     "exception": false,
     "start_time": "2024-03-26T22:19:39.229687",
     "status": "completed"
    },
    "tags": []
   },
   "outputs": [],
   "source": [
    "metrics = [\"time (exc)\", \"Machine clears\"]"
   ]
  },
  {
   "cell_type": "code",
   "execution_count": null,
   "id": "c3184956",
   "metadata": {
    "papermill": {
     "duration": 0.013955,
     "end_time": "2024-03-26T22:19:39.259000",
     "exception": false,
     "start_time": "2024-03-26T22:19:39.245045",
     "status": "completed"
    },
    "tags": []
   },
   "outputs": [],
   "source": [
    "th.stats.minimum(clang_th, columns=metrics)\n",
    "clang_th.statsframe.dataframe.head(5)"
   ]
  },
  {
   "cell_type": "markdown",
   "id": "2bf1fd03",
   "metadata": {
    "papermill": {
     "duration": 0.006008,
     "end_time": "2024-03-26T22:19:39.271257",
     "exception": false,
     "start_time": "2024-03-26T22:19:39.265249",
     "status": "completed"
    },
    "tags": []
   },
   "source": [
    "**Multi-Indexed Thicket Example**\n",
    "\n",
    "Example will show how to pass a columnar joined thicket object. When passing a columnar joined thicket object, the columns argument will now take a list of tuples. Each tuple will consist of two elements. The first element will always be the column index, and the second element will be an associated column under the column index you passed.<br>\n",
    "\n",
    " - Example: (column_index, column_name) -> (\"GCC\", \"Machine clears\")"
   ]
  },
  {
   "cell_type": "code",
   "execution_count": null,
   "id": "07168bd4",
   "metadata": {
    "papermill": {
     "duration": 0.00952,
     "end_time": "2024-03-26T22:19:39.286843",
     "exception": false,
     "start_time": "2024-03-26T22:19:39.277323",
     "status": "completed"
    },
    "tags": []
   },
   "outputs": [],
   "source": [
    "metrics = [(\"Clang\", \"time (exc)\"), (\"GCC\", \"Machine clears\")]"
   ]
  },
  {
   "cell_type": "code",
   "execution_count": null,
   "id": "2ad5985d",
   "metadata": {
    "papermill": {
     "duration": 0.015077,
     "end_time": "2024-03-26T22:19:39.307939",
     "exception": false,
     "start_time": "2024-03-26T22:19:39.292862",
     "status": "completed"
    },
    "tags": []
   },
   "outputs": [],
   "source": [
    "th.stats.minimum(combined_th, columns=metrics)\n",
    "combined_th.statsframe.dataframe.head(5)"
   ]
  },
  {
   "cell_type": "markdown",
   "id": "164d7769",
   "metadata": {
    "papermill": {
     "duration": 0.006024,
     "end_time": "2024-03-26T22:19:39.320129",
     "exception": false,
     "start_time": "2024-03-26T22:19:39.314105",
     "status": "completed"
    },
    "tags": []
   },
   "source": [
    "### 5.3 Median\n",
    "\n",
    "The `median` function will determine the median for each node in the performance data table. <br>\n",
    "\n",
    "The median value will be appended to the aggregated statistics table and will be denoted with `_median` at the end of column name i.e. `column_median`."
   ]
  },
  {
   "cell_type": "markdown",
   "id": "ac3ace3d",
   "metadata": {
    "papermill": {
     "duration": 0.006039,
     "end_time": "2024-03-26T22:19:39.332230",
     "exception": false,
     "start_time": "2024-03-26T22:19:39.326191",
     "status": "completed"
    },
    "tags": []
   },
   "source": [
    "**Single Index Thicket Example**"
   ]
  },
  {
   "cell_type": "code",
   "execution_count": null,
   "id": "d77c4e73",
   "metadata": {
    "papermill": {
     "duration": 0.009569,
     "end_time": "2024-03-26T22:19:39.347851",
     "exception": false,
     "start_time": "2024-03-26T22:19:39.338282",
     "status": "completed"
    },
    "tags": []
   },
   "outputs": [],
   "source": [
    "metrics = [\"time (exc)\", \"Machine clears\"]"
   ]
  },
  {
   "cell_type": "code",
   "execution_count": null,
   "id": "ab9a8a66",
   "metadata": {
    "papermill": {
     "duration": 0.013859,
     "end_time": "2024-03-26T22:19:39.367795",
     "exception": false,
     "start_time": "2024-03-26T22:19:39.353936",
     "status": "completed"
    },
    "tags": []
   },
   "outputs": [],
   "source": [
    "th.stats.median(clang_th, columns=metrics)\n",
    "clang_th.statsframe.dataframe.head(5)"
   ]
  },
  {
   "cell_type": "markdown",
   "id": "2ae0b6f8",
   "metadata": {
    "papermill": {
     "duration": 0.00607,
     "end_time": "2024-03-26T22:19:39.380167",
     "exception": false,
     "start_time": "2024-03-26T22:19:39.374097",
     "status": "completed"
    },
    "tags": []
   },
   "source": [
    "**Multi-Indexed Thicket Example**\n",
    "\n",
    "Example will show how to pass a columnar joined thicket object. When passing a columnar joined thicket object, the columns argument will now take a list of tuples. Each tuple will consist of two elements. The first element will always be the column index, and the second element will be an associated column under the column index you passed.<br>\n",
    "\n",
    " - Example: (column_index, column_name) -> (\"GCC\", \"Machine clears\") "
   ]
  },
  {
   "cell_type": "code",
   "execution_count": null,
   "id": "107d8d80",
   "metadata": {
    "papermill": {
     "duration": 0.009448,
     "end_time": "2024-03-26T22:19:39.395792",
     "exception": false,
     "start_time": "2024-03-26T22:19:39.386344",
     "status": "completed"
    },
    "tags": []
   },
   "outputs": [],
   "source": [
    "metrics = [(\"Clang\", \"time (exc)\"), (\"GCC\", \"Machine clears\")]"
   ]
  },
  {
   "cell_type": "code",
   "execution_count": null,
   "id": "8ef12866",
   "metadata": {
    "papermill": {
     "duration": 0.015645,
     "end_time": "2024-03-26T22:19:39.417797",
     "exception": false,
     "start_time": "2024-03-26T22:19:39.402152",
     "status": "completed"
    },
    "tags": []
   },
   "outputs": [],
   "source": [
    "th.stats.median(combined_th, columns=metrics)\n",
    "combined_th.statsframe.dataframe.head(5)"
   ]
  },
  {
   "cell_type": "markdown",
   "id": "7445a168",
   "metadata": {
    "papermill": {
     "duration": 0.006395,
     "end_time": "2024-03-26T22:19:39.430850",
     "exception": false,
     "start_time": "2024-03-26T22:19:39.424455",
     "status": "completed"
    },
    "tags": []
   },
   "source": [
    "### 5.4 Mean\n",
    "\n",
    "The `mean` function will determine the mean for each node in the performance data table. <br>\n",
    "\n",
    "The mean value will be appended to the aggregated statistics table and will be denoted with `_mean` at the end of column name i.e. `column_mean`."
   ]
  },
  {
   "cell_type": "markdown",
   "id": "3475ced2",
   "metadata": {
    "papermill": {
     "duration": 0.006351,
     "end_time": "2024-03-26T22:19:39.443526",
     "exception": false,
     "start_time": "2024-03-26T22:19:39.437175",
     "status": "completed"
    },
    "tags": []
   },
   "source": [
    "**Single Index Thicket Example**"
   ]
  },
  {
   "cell_type": "code",
   "execution_count": null,
   "id": "d20f8bfc",
   "metadata": {
    "papermill": {
     "duration": 0.010085,
     "end_time": "2024-03-26T22:19:39.460049",
     "exception": false,
     "start_time": "2024-03-26T22:19:39.449964",
     "status": "completed"
    },
    "tags": []
   },
   "outputs": [],
   "source": [
    "metrics = [\"time (exc)\", \"Machine clears\"]"
   ]
  },
  {
   "cell_type": "code",
   "execution_count": null,
   "id": "131e85ea",
   "metadata": {
    "papermill": {
     "duration": 0.015532,
     "end_time": "2024-03-26T22:19:39.482029",
     "exception": false,
     "start_time": "2024-03-26T22:19:39.466497",
     "status": "completed"
    },
    "tags": []
   },
   "outputs": [],
   "source": [
    "th.stats.mean(clang_th, columns=metrics)\n",
    "clang_th.statsframe.dataframe.head(5)"
   ]
  },
  {
   "cell_type": "markdown",
   "id": "38e5d7e0",
   "metadata": {
    "papermill": {
     "duration": 0.006673,
     "end_time": "2024-03-26T22:19:39.495654",
     "exception": false,
     "start_time": "2024-03-26T22:19:39.488981",
     "status": "completed"
    },
    "tags": []
   },
   "source": [
    "**Multi-Indexed Thicket Example**\n",
    "\n",
    "Example will show how to pass a columnar joined thicket object. When passing a columnar joined thicket object, the columns argument will now take a list of tuples. Each tuple will consist of two elements. The first element will always be the column index, and the second element will be an associated column under the column index you passed.<br>\n",
    "\n",
    " - Example: (column_index, column_name) -> (\"GCC\", \"Machine clears\") "
   ]
  },
  {
   "cell_type": "code",
   "execution_count": null,
   "id": "3e067986",
   "metadata": {
    "papermill": {
     "duration": 0.009599,
     "end_time": "2024-03-26T22:19:39.511953",
     "exception": false,
     "start_time": "2024-03-26T22:19:39.502354",
     "status": "completed"
    },
    "tags": []
   },
   "outputs": [],
   "source": [
    "metrics = [(\"Clang\", \"time (exc)\"), (\"GCC\", \"Machine clears\")]"
   ]
  },
  {
   "cell_type": "code",
   "execution_count": null,
   "id": "ea3e8c66",
   "metadata": {
    "papermill": {
     "duration": 0.016151,
     "end_time": "2024-03-26T22:19:39.534736",
     "exception": false,
     "start_time": "2024-03-26T22:19:39.518585",
     "status": "completed"
    },
    "tags": []
   },
   "outputs": [],
   "source": [
    "th.stats.mean(combined_th, columns=metrics)\n",
    "combined_th.statsframe.dataframe.head(5)"
   ]
  },
  {
   "cell_type": "markdown",
   "id": "6728822e",
   "metadata": {
    "papermill": {
     "duration": 0.006538,
     "end_time": "2024-03-26T22:19:39.548104",
     "exception": false,
     "start_time": "2024-03-26T22:19:39.541566",
     "status": "completed"
    },
    "tags": []
   },
   "source": [
    "### 5.5 Variance\n",
    "\n",
    "The `variance` function will determine the variance for each node in the performance data table. Variance will allow a user to see the spread of tdata within a node and that nodes associated profiles. <br>\n",
    "\n",
    "The variance value will be appended to the aggregated statistics table and will be denoted with `_var` at the end of column name i.e. `column_var`."
   ]
  },
  {
   "cell_type": "markdown",
   "id": "a29fdccf",
   "metadata": {
    "papermill": {
     "duration": 0.006543,
     "end_time": "2024-03-26T22:19:39.561255",
     "exception": false,
     "start_time": "2024-03-26T22:19:39.554712",
     "status": "completed"
    },
    "tags": []
   },
   "source": [
    "**Single Index Thicket Example**"
   ]
  },
  {
   "cell_type": "code",
   "execution_count": null,
   "id": "31126524",
   "metadata": {
    "papermill": {
     "duration": 0.010113,
     "end_time": "2024-03-26T22:19:39.577937",
     "exception": false,
     "start_time": "2024-03-26T22:19:39.567824",
     "status": "completed"
    },
    "tags": []
   },
   "outputs": [],
   "source": [
    "metrics = [\"time (exc)\", \"Machine clears\"]"
   ]
  },
  {
   "cell_type": "code",
   "execution_count": null,
   "id": "b48ae8c9",
   "metadata": {
    "papermill": {
     "duration": 0.015255,
     "end_time": "2024-03-26T22:19:39.599823",
     "exception": false,
     "start_time": "2024-03-26T22:19:39.584568",
     "status": "completed"
    },
    "tags": []
   },
   "outputs": [],
   "source": [
    "th.stats.variance(clang_th, columns=metrics)\n",
    "clang_th.statsframe.dataframe.head(5)"
   ]
  },
  {
   "cell_type": "markdown",
   "id": "6abc05b1",
   "metadata": {
    "papermill": {
     "duration": 0.006657,
     "end_time": "2024-03-26T22:19:39.613415",
     "exception": false,
     "start_time": "2024-03-26T22:19:39.606758",
     "status": "completed"
    },
    "tags": []
   },
   "source": [
    "**Multi-Indexed Thicket Example**\n",
    "\n",
    "Example will show how to pass a columnar joined thicket object. When passing a columnar joined thicket object, the columns argument will now take a list of tuples. Each tuple will consist of two elements. The first element will always be the column index, and the second element will be an associated column under the column index you passed.<br>\n",
    "\n",
    " - Example: (column_index, column_name) -> (\"GCC\", \"Machine clears\")  "
   ]
  },
  {
   "cell_type": "code",
   "execution_count": null,
   "id": "47db4ce6",
   "metadata": {
    "papermill": {
     "duration": 0.009846,
     "end_time": "2024-03-26T22:19:39.629835",
     "exception": false,
     "start_time": "2024-03-26T22:19:39.619989",
     "status": "completed"
    },
    "tags": []
   },
   "outputs": [],
   "source": [
    "metrics = [(\"Clang\", \"time (exc)\"), (\"GCC\", \"Machine clears\")]"
   ]
  },
  {
   "cell_type": "code",
   "execution_count": null,
   "id": "a50744d5",
   "metadata": {
    "papermill": {
     "duration": 0.017439,
     "end_time": "2024-03-26T22:19:39.653905",
     "exception": false,
     "start_time": "2024-03-26T22:19:39.636466",
     "status": "completed"
    },
    "tags": []
   },
   "outputs": [],
   "source": [
    "th.stats.variance(combined_th, columns=metrics)\n",
    "combined_th.statsframe.dataframe.head(5)"
   ]
  },
  {
   "cell_type": "markdown",
   "id": "046c07fc",
   "metadata": {
    "papermill": {
     "duration": 0.00678,
     "end_time": "2024-03-26T22:19:39.667876",
     "exception": false,
     "start_time": "2024-03-26T22:19:39.661096",
     "status": "completed"
    },
    "tags": []
   },
   "source": [
    "### 5.6 Standard Deviation\n",
    "\n",
    "The `std` function will determine the standard deviation for each node in the performance data table. Standard deviation describes how dispersed the data is in relation to the mean. <br>\n",
    "\n",
    "The standard deviation value will be appended to the aggregated statistics table and will be denoted with `_std` at the end of column name i.e. `column_std`."
   ]
  },
  {
   "cell_type": "markdown",
   "id": "d38d9667",
   "metadata": {
    "papermill": {
     "duration": 0.006853,
     "end_time": "2024-03-26T22:19:39.681618",
     "exception": false,
     "start_time": "2024-03-26T22:19:39.674765",
     "status": "completed"
    },
    "tags": []
   },
   "source": [
    "**Single Index Thicket Example**"
   ]
  },
  {
   "cell_type": "code",
   "execution_count": null,
   "id": "8313149b",
   "metadata": {
    "papermill": {
     "duration": 0.01047,
     "end_time": "2024-03-26T22:19:39.698954",
     "exception": false,
     "start_time": "2024-03-26T22:19:39.688484",
     "status": "completed"
    },
    "tags": []
   },
   "outputs": [],
   "source": [
    "metrics = [\"time (exc)\", \"Machine clears\"]"
   ]
  },
  {
   "cell_type": "code",
   "execution_count": null,
   "id": "38dd48da",
   "metadata": {
    "papermill": {
     "duration": 0.015986,
     "end_time": "2024-03-26T22:19:39.721902",
     "exception": false,
     "start_time": "2024-03-26T22:19:39.705916",
     "status": "completed"
    },
    "tags": []
   },
   "outputs": [],
   "source": [
    "th.stats.std(clang_th, columns=metrics)\n",
    "clang_th.statsframe.dataframe.head(5)"
   ]
  },
  {
   "cell_type": "markdown",
   "id": "279b893a",
   "metadata": {
    "papermill": {
     "duration": 0.007029,
     "end_time": "2024-03-26T22:19:39.736321",
     "exception": false,
     "start_time": "2024-03-26T22:19:39.729292",
     "status": "completed"
    },
    "tags": []
   },
   "source": [
    "**Multi-Indexed Thicket Example**\n",
    "\n",
    "Example will show how to pass a columnar joined thicket object. When passing a columnar joined thicket object, the columns argument will now take a list of tuples. Each tuple will consist of two elements. The first element will always be the column index, and the second element will be an associated column under the column index you passed.<br>\n",
    "\n",
    " - Example: (column_index, column_name) -> (\"GCC\", \"Machine clears\")   "
   ]
  },
  {
   "cell_type": "code",
   "execution_count": null,
   "id": "eac489b3",
   "metadata": {
    "papermill": {
     "duration": 0.010443,
     "end_time": "2024-03-26T22:19:39.753860",
     "exception": false,
     "start_time": "2024-03-26T22:19:39.743417",
     "status": "completed"
    },
    "tags": []
   },
   "outputs": [],
   "source": [
    "metrics = [(\"Clang\", \"time (exc)\"), (\"GCC\", \"Machine clears\")]"
   ]
  },
  {
   "cell_type": "code",
   "execution_count": null,
   "id": "c81c22f5",
   "metadata": {
    "papermill": {
     "duration": 0.019201,
     "end_time": "2024-03-26T22:19:39.780024",
     "exception": false,
     "start_time": "2024-03-26T22:19:39.760823",
     "status": "completed"
    },
    "tags": []
   },
   "outputs": [],
   "source": [
    "th.stats.std(combined_th, columns=metrics)\n",
    "combined_th.statsframe.dataframe.head(5)"
   ]
  },
  {
   "cell_type": "markdown",
   "id": "7be8def4",
   "metadata": {
    "papermill": {
     "duration": 0.00717,
     "end_time": "2024-03-26T22:19:39.794750",
     "exception": false,
     "start_time": "2024-03-26T22:19:39.787580",
     "status": "completed"
    },
    "tags": []
   },
   "source": [
    "### 5.7 Percentiles\n",
    "\n",
    "The `percentiles` function will determine the q-th percentiles for each node in the performance data table. <br>\n",
    "\n",
    " - The 25th percentile is the lower quartile, and is the value at which 25% of the answers lie below that value.\n",
    " - The 50th percentile is the median and half othe values lie below the median and half lie above the median.\n",
    " - The 75th percentile is the upper quartiles, and is the value at which 25% of the answers lie above that value and 75% of the answer lie below that value.\n",
    "\n",
    "The calculated percentiles will be appended to the aggregated statistics table and will be denoted with `_percentiles` at the end of column name i.e. `column_percentiles`."
   ]
  },
  {
   "cell_type": "markdown",
   "id": "847f2044",
   "metadata": {
    "papermill": {
     "duration": 0.007182,
     "end_time": "2024-03-26T22:19:39.809158",
     "exception": false,
     "start_time": "2024-03-26T22:19:39.801976",
     "status": "completed"
    },
    "tags": []
   },
   "source": [
    "**Single Index Thicket Example**"
   ]
  },
  {
   "cell_type": "code",
   "execution_count": null,
   "id": "8c376619",
   "metadata": {
    "papermill": {
     "duration": 0.011762,
     "end_time": "2024-03-26T22:19:39.828079",
     "exception": false,
     "start_time": "2024-03-26T22:19:39.816317",
     "status": "completed"
    },
    "tags": []
   },
   "outputs": [],
   "source": [
    "metrics = [\"time (exc)\", \"Machine clears\"]"
   ]
  },
  {
   "cell_type": "code",
   "execution_count": null,
   "id": "b5f63443",
   "metadata": {
    "papermill": {
     "duration": 0.031554,
     "end_time": "2024-03-26T22:19:39.866836",
     "exception": false,
     "start_time": "2024-03-26T22:19:39.835282",
     "status": "completed"
    },
    "tags": []
   },
   "outputs": [],
   "source": [
    "th.stats.percentiles(clang_th, columns=metrics)\n",
    "clang_th.statsframe.dataframe.head(5)"
   ]
  },
  {
   "cell_type": "markdown",
   "id": "ca5a832d",
   "metadata": {
    "papermill": {
     "duration": 0.007344,
     "end_time": "2024-03-26T22:19:39.881611",
     "exception": false,
     "start_time": "2024-03-26T22:19:39.874267",
     "status": "completed"
    },
    "tags": []
   },
   "source": [
    "**Multi-Indexed Thicket Example**\n",
    "Example will show how to pass a columnar joined thicket object. When passing a columnar joined thicket object, the columns argument will now take a list of tuples. Each tuple will consist of two elements. The first element will always be the column index, and the second element will be an associated column under the column index you passed.<br>\n",
    "\n",
    " - Example: (column_index, column_name) -> (\"GCC\", \"Machine clears\")"
   ]
  },
  {
   "cell_type": "code",
   "execution_count": null,
   "id": "cd3bef9b",
   "metadata": {
    "papermill": {
     "duration": 0.010902,
     "end_time": "2024-03-26T22:19:39.899952",
     "exception": false,
     "start_time": "2024-03-26T22:19:39.889050",
     "status": "completed"
    },
    "tags": []
   },
   "outputs": [],
   "source": [
    "metrics = [(\"Clang\", \"time (exc)\"), (\"GCC\", \"Machine clears\")]"
   ]
  },
  {
   "cell_type": "code",
   "execution_count": null,
   "id": "36429124",
   "metadata": {
    "papermill": {
     "duration": 0.03953,
     "end_time": "2024-03-26T22:19:39.946911",
     "exception": false,
     "start_time": "2024-03-26T22:19:39.907381",
     "status": "completed"
    },
    "tags": []
   },
   "outputs": [],
   "source": [
    "th.stats.percentiles(combined_th, columns=metrics)\n",
    "combined_th.statsframe.dataframe.head(5)"
   ]
  },
  {
   "cell_type": "markdown",
   "id": "98e93d70",
   "metadata": {
    "papermill": {
     "duration": 0.007714,
     "end_time": "2024-03-26T22:19:39.963333",
     "exception": false,
     "start_time": "2024-03-26T22:19:39.955619",
     "status": "completed"
    },
    "tags": []
   },
   "source": [
    "### 5.8 Check Normality\n",
    "\n",
    "The `check_normality` function will determine if the data is normal or non-normal for each node in the performance data table. For this test, the more data the better. Perferably you would want to have 20 data points (20 files) in a dataset to have an accurate result. <br>\n",
    "\n",
    "A `True` boolean will be appended to the aggregated statistics table if the data is normal and a `False` boolean will be appended to the aggregated statistics table if the data is non-normal. The appended column will be denoted with `_normality` at the end of column name i.e. `column_normality`."
   ]
  },
  {
   "cell_type": "markdown",
   "id": "7edc2b52",
   "metadata": {
    "papermill": {
     "duration": 0.007702,
     "end_time": "2024-03-26T22:19:39.978818",
     "exception": false,
     "start_time": "2024-03-26T22:19:39.971116",
     "status": "completed"
    },
    "tags": []
   },
   "source": [
    "**Single Index Thicket Example**"
   ]
  },
  {
   "cell_type": "code",
   "execution_count": null,
   "id": "b06eab79",
   "metadata": {
    "papermill": {
     "duration": 0.011453,
     "end_time": "2024-03-26T22:19:39.997885",
     "exception": false,
     "start_time": "2024-03-26T22:19:39.986432",
     "status": "completed"
    },
    "tags": []
   },
   "outputs": [],
   "source": [
    "metrics = [\"time (exc)\", \"Machine clears\"]"
   ]
  },
  {
   "cell_type": "code",
   "execution_count": null,
   "id": "84b2fd2c",
   "metadata": {
    "papermill": {
     "duration": 0.067543,
     "end_time": "2024-03-26T22:19:40.073126",
     "exception": false,
     "start_time": "2024-03-26T22:19:40.005583",
     "status": "completed"
    },
    "tags": []
   },
   "outputs": [],
   "source": [
    "th.stats.check_normality(clang_th, columns=metrics)\n",
    "clang_th.statsframe.dataframe.head(5)"
   ]
  },
  {
   "cell_type": "markdown",
   "id": "92706ae5",
   "metadata": {
    "papermill": {
     "duration": 0.00816,
     "end_time": "2024-03-26T22:19:40.089814",
     "exception": false,
     "start_time": "2024-03-26T22:19:40.081654",
     "status": "completed"
    },
    "tags": []
   },
   "source": [
    "**Multi-Indexed Thicket Example**\n",
    "Example will show how to pass a columnar joined thicket object. When passing a columnar joined thicket object, the columns argument will now take a list of tuples. Each tuple will consist of two elements. The first element will always be the column index, and the second element will be an associated column under the column index you passed.<br>\n",
    "\n",
    " - Example: (column_index, column_name) -> (\"GCC\", \"Machine clears\")"
   ]
  },
  {
   "cell_type": "code",
   "execution_count": null,
   "id": "6693287f",
   "metadata": {
    "papermill": {
     "duration": 0.010861,
     "end_time": "2024-03-26T22:19:40.108821",
     "exception": false,
     "start_time": "2024-03-26T22:19:40.097960",
     "status": "completed"
    },
    "tags": []
   },
   "outputs": [],
   "source": [
    "metrics = [(\"Clang\", \"time (exc)\"), (\"GCC\", \"Machine clears\")]"
   ]
  },
  {
   "cell_type": "code",
   "execution_count": null,
   "id": "cc79039d",
   "metadata": {
    "papermill": {
     "duration": 0.13533,
     "end_time": "2024-03-26T22:19:40.252444",
     "exception": false,
     "start_time": "2024-03-26T22:19:40.117114",
     "status": "completed"
    },
    "tags": []
   },
   "outputs": [],
   "source": [
    "th.stats.check_normality(combined_th, columns=metrics)\n",
    "combined_th.statsframe.dataframe.head(5)"
   ]
  },
  {
   "cell_type": "markdown",
   "id": "d9032df3",
   "metadata": {
    "papermill": {
     "duration": 0.009662,
     "end_time": "2024-03-26T22:19:40.271412",
     "exception": false,
     "start_time": "2024-03-26T22:19:40.261750",
     "status": "completed"
    },
    "tags": []
   },
   "source": [
    "### 5.9 Nodewise Correlation\n",
    "\n",
    "The `correlation_nodewise` function will perform nodewise correlation for each node in the performance data table. <br>\n",
    "\n",
    "The correlation values will be appended to the aggregated statistics table and will be denoted with `correlation type` where `correlation type` can be `{pearson, spearman, kendall}`. <br>\n",
    "\n",
    "When working with a multi-indexed thicket (columnar join) a new column index will be created titled: `Union statistics`. See the **Multi-Indexed Thicket Example** to see the implementation of this."
   ]
  },
  {
   "cell_type": "markdown",
   "id": "eff71db6",
   "metadata": {
    "papermill": {
     "duration": 0.009119,
     "end_time": "2024-03-26T22:19:40.289839",
     "exception": false,
     "start_time": "2024-03-26T22:19:40.280720",
     "status": "completed"
    },
    "tags": []
   },
   "source": [
    "**Single Index Thicket Example**"
   ]
  },
  {
   "cell_type": "code",
   "execution_count": null,
   "id": "93b34d22",
   "metadata": {
    "papermill": {
     "duration": 0.035019,
     "end_time": "2024-03-26T22:19:40.333982",
     "exception": false,
     "start_time": "2024-03-26T22:19:40.298963",
     "status": "completed"
    },
    "tags": []
   },
   "outputs": [],
   "source": [
    "th.stats.correlation_nodewise(\n",
    "    clang_th,\n",
    "    column1=\"time (exc)\",\n",
    "    column2=\"Machine clears\",\n",
    "    correlation=\"spearman\"\n",
    ")"
   ]
  },
  {
   "cell_type": "code",
   "execution_count": null,
   "id": "a18d0979",
   "metadata": {
    "papermill": {
     "duration": 0.017798,
     "end_time": "2024-03-26T22:19:40.360991",
     "exception": false,
     "start_time": "2024-03-26T22:19:40.343193",
     "status": "completed"
    },
    "tags": []
   },
   "outputs": [],
   "source": [
    "clang_th.statsframe.dataframe.head(5)"
   ]
  },
  {
   "cell_type": "markdown",
   "id": "927d0a84",
   "metadata": {
    "papermill": {
     "duration": 0.009231,
     "end_time": "2024-03-26T22:19:40.379635",
     "exception": false,
     "start_time": "2024-03-26T22:19:40.370404",
     "status": "completed"
    },
    "tags": []
   },
   "source": [
    "**Multi-Indexed Thicket Example**\n",
    "\n",
    "Example will show how to pass a columnar joined thicket object. When passing a columnar joined thicket object, the columns argument will now take a list of tuples. Each tuple will consist of two elements. The first element will always be the column index, and the second element will be an associated column under the column index you passed.<br>\n",
    "\n",
    " - Example: (column_index, column_name) -> (\"GCC\", \"Machine clears\") "
   ]
  },
  {
   "cell_type": "code",
   "execution_count": null,
   "id": "2775f0f3",
   "metadata": {
    "papermill": {
     "duration": 0.041243,
     "end_time": "2024-03-26T22:19:40.430130",
     "exception": false,
     "start_time": "2024-03-26T22:19:40.388887",
     "status": "completed"
    },
    "tags": []
   },
   "outputs": [],
   "source": [
    "th.stats.correlation_nodewise(\n",
    "    combined_th,\n",
    "    column1=(\"Clang\", \"time (exc)\"),\n",
    "    column2=(\"GCC\", \"Machine clears\"),\n",
    "    correlation=\"spearman\"\n",
    ")"
   ]
  },
  {
   "cell_type": "code",
   "execution_count": null,
   "id": "1e0de9d1",
   "metadata": {
    "papermill": {
     "duration": 0.020052,
     "end_time": "2024-03-26T22:19:40.460037",
     "exception": false,
     "start_time": "2024-03-26T22:19:40.439985",
     "status": "completed"
    },
    "tags": []
   },
   "outputs": [],
   "source": [
    "combined_th.statsframe.dataframe.head(5)"
   ]
  },
  {
   "cell_type": "markdown",
   "id": "f0de497c",
   "metadata": {
    "papermill": {
     "duration": 0.009987,
     "end_time": "2024-03-26T22:19:40.479424",
     "exception": false,
     "start_time": "2024-03-26T22:19:40.469437",
     "status": "completed"
    },
    "tags": []
   },
   "source": [
    "### 5.10 Calculate Boxplot\n",
    "\n",
    "The `calc_boxplot_statistics` function will calculate a boxplots `{q1, q2, q3, iqr, lowerfence, upperfence}` for each node in the performance data table. <br>\n",
    "\n",
    "Each column will have the values: `{q1,q2,q3,iqr,lowerfence, upperfence}` calculated. The appended columns to the aggregated statistics table will be denoted with either col + `{_q1, _q2, _q3,_iqr, _lowerfence, _upperfence}`. <br>\n",
    "\n",
    "Lastly, `calc_boxplot_statistics` will calculate outliers as well. The outliers will be appended to the aggregated statistics table and denoted with `_outliers` at the end of the column name i.e. `column_outliers`."
   ]
  },
  {
   "cell_type": "markdown",
   "id": "e41b81c5",
   "metadata": {
    "papermill": {
     "duration": 0.009446,
     "end_time": "2024-03-26T22:19:40.498339",
     "exception": false,
     "start_time": "2024-03-26T22:19:40.488893",
     "status": "completed"
    },
    "tags": []
   },
   "source": [
    "**Single Indexed Thicket**"
   ]
  },
  {
   "cell_type": "code",
   "execution_count": null,
   "id": "14f0406c",
   "metadata": {
    "papermill": {
     "duration": 0.013289,
     "end_time": "2024-03-26T22:19:40.521039",
     "exception": false,
     "start_time": "2024-03-26T22:19:40.507750",
     "status": "completed"
    },
    "tags": []
   },
   "outputs": [],
   "source": [
    "metrics = [\"time (exc)\", \"Machine clears\"]"
   ]
  },
  {
   "cell_type": "code",
   "execution_count": null,
   "id": "c45ed4ba",
   "metadata": {
    "papermill": {
     "duration": 0.058587,
     "end_time": "2024-03-26T22:19:40.589145",
     "exception": false,
     "start_time": "2024-03-26T22:19:40.530558",
     "status": "completed"
    },
    "tags": []
   },
   "outputs": [],
   "source": [
    "th.stats.calc_boxplot_statistics(clang_th, columns=metrics)\n",
    "clang_th.statsframe.dataframe.head(5)"
   ]
  },
  {
   "cell_type": "markdown",
   "id": "1c7f08c2",
   "metadata": {
    "papermill": {
     "duration": 0.010003,
     "end_time": "2024-03-26T22:19:40.609248",
     "exception": false,
     "start_time": "2024-03-26T22:19:40.599245",
     "status": "completed"
    },
    "tags": []
   },
   "source": [
    "**Multi-indexed Thicket**\n",
    "\n",
    "Example will show how to pass a columnar joined thicket object. When passing a columnar joined thicket object, the columns argument will now take a list of tuples. Each tuple will consist of two elements. The first element will always be the column index, and the second element will be an associated column under the column index you passed.<br>\n",
    "\n",
    " - Example: (column_index, column_name) -> (\"GCC\", \"Machine clears\")"
   ]
  },
  {
   "cell_type": "code",
   "execution_count": null,
   "id": "74782f37",
   "metadata": {
    "papermill": {
     "duration": 0.013661,
     "end_time": "2024-03-26T22:19:40.632936",
     "exception": false,
     "start_time": "2024-03-26T22:19:40.619275",
     "status": "completed"
    },
    "tags": []
   },
   "outputs": [],
   "source": [
    "metrics = [(\"Clang\", \"time (exc)\"), (\"GCC\", \"Machine clears\")]"
   ]
  },
  {
   "cell_type": "code",
   "execution_count": null,
   "id": "363b1bb8",
   "metadata": {
    "papermill": {
     "duration": 0.072142,
     "end_time": "2024-03-26T22:19:40.714970",
     "exception": false,
     "start_time": "2024-03-26T22:19:40.642828",
     "status": "completed"
    },
    "tags": []
   },
   "outputs": [],
   "source": [
    "th.stats.calc_boxplot_statistics(combined_th, columns=metrics)\n",
    "combined_th.statsframe.dataframe.head(5)"
   ]
  },
  {
   "cell_type": "markdown",
   "id": "be2704b4",
   "metadata": {
    "papermill": {
     "duration": 0.009734,
     "end_time": "2024-03-26T22:19:40.734882",
     "exception": false,
     "start_time": "2024-03-26T22:19:40.725148",
     "status": "completed"
    },
    "tags": []
   },
   "source": [
    "## 6. Visualization Thicket Functions"
   ]
  },
  {
   "cell_type": "markdown",
   "id": "48ce9f45",
   "metadata": {
    "papermill": {
     "duration": 0.009854,
     "end_time": "2024-03-26T22:19:40.754726",
     "exception": false,
     "start_time": "2024-03-26T22:19:40.744872",
     "status": "completed"
    },
    "tags": []
   },
   "source": [
    "### 6.1 Displaying Heatmap\n",
    "\n",
    "The `display_heatmap` function will display a color encoded map with the color representing the magnitude of the value for that specific node and column cell. <br>\n",
    "\n",
    "Columns must be from the aggregated statistics table."
   ]
  },
  {
   "cell_type": "markdown",
   "id": "557687f5",
   "metadata": {
    "papermill": {
     "duration": 0.009756,
     "end_time": "2024-03-26T22:19:40.774103",
     "exception": false,
     "start_time": "2024-03-26T22:19:40.764347",
     "status": "completed"
    },
    "tags": []
   },
   "source": [
    "**Single Index Thicket Example**"
   ]
  },
  {
   "cell_type": "code",
   "execution_count": null,
   "id": "3d624af5",
   "metadata": {
    "papermill": {
     "duration": 0.082311,
     "end_time": "2024-03-26T22:19:40.865951",
     "exception": false,
     "start_time": "2024-03-26T22:19:40.783640",
     "status": "completed"
    },
    "tags": []
   },
   "outputs": [],
   "source": [
    "# filter nodes to first five entries in the aggregated statistics table\n",
    "stats_nodes = [\n",
    "    \"Base_Seq\", \n",
    "    \"Algorithm\", \n",
    "    \"Algorithm_MEMCPY\", \n",
    "]\n",
    "th_stats_name = clang_th.filter_stats(lambda x: x[\"name\"] in stats_nodes)"
   ]
  },
  {
   "cell_type": "code",
   "execution_count": null,
   "id": "be3ae0ad",
   "metadata": {
    "papermill": {
     "duration": 0.123061,
     "end_time": "2024-03-26T22:19:40.998827",
     "exception": false,
     "start_time": "2024-03-26T22:19:40.875766",
     "status": "completed"
    },
    "tags": []
   },
   "outputs": [],
   "source": [
    "plt.figure(figsize=(30, 30))\n",
    "metrics = [\"time (exc)_std\", \"time (exc)_var\"]\n",
    "th.stats.display_heatmap(th_stats_name, columns=metrics)"
   ]
  },
  {
   "cell_type": "markdown",
   "id": "7e27bc97",
   "metadata": {
    "papermill": {
     "duration": 0.010369,
     "end_time": "2024-03-26T22:19:41.019867",
     "exception": false,
     "start_time": "2024-03-26T22:19:41.009498",
     "status": "completed"
    },
    "tags": []
   },
   "source": [
    "**Multi-Indexed Thicket Example**\n",
    "\n",
    "Example will show how to pass a columnar joined thicket object. When passing a columnar joined thicket object, the columns argument will now take a list of tuples. Each tuple will consist of two elements. The first element will always be the column index, and the second element will be an associated column under the column index you passed.<br>\n",
    "\n",
    " - Example: (column_index, column_name) -> (\"GCC\", \"Machine clears\")"
   ]
  },
  {
   "cell_type": "code",
   "execution_count": null,
   "id": "d1a71861",
   "metadata": {
    "papermill": {
     "duration": 0.395104,
     "end_time": "2024-03-26T22:19:41.425236",
     "exception": false,
     "start_time": "2024-03-26T22:19:41.030132",
     "status": "completed"
    },
    "tags": []
   },
   "outputs": [],
   "source": [
    "plt.figure(figsize=(30, 30))\n",
    "metrics = [(\"Clang\", \"time (exc)_std\"), (\"Clang\", \"time (exc)_var\")]\n",
    "th.stats.display_heatmap(combined_th, columns=metrics)"
   ]
  },
  {
   "cell_type": "markdown",
   "id": "3fa68403",
   "metadata": {
    "papermill": {
     "duration": 0.012242,
     "end_time": "2024-03-26T22:19:41.450457",
     "exception": false,
     "start_time": "2024-03-26T22:19:41.438215",
     "status": "completed"
    },
    "tags": []
   },
   "source": [
    "**Example of Not Passing the Same Column Index for Multi-Indexed Thicket**"
   ]
  },
  {
   "cell_type": "code",
   "execution_count": null,
   "id": "330c37f0",
   "metadata": {
    "papermill": {
     "duration": 0.016169,
     "end_time": "2024-03-26T22:19:41.478997",
     "exception": false,
     "start_time": "2024-03-26T22:19:41.462828",
     "status": "completed"
    },
    "tags": []
   },
   "outputs": [],
   "source": [
    "#metrics = [(\"Clang\", \"time (exc)_std\"), (\"GCC\", \"Machine clears_var\")]\n",
    "#th.stats.display_heatmap(combined_th, columns=metrics)"
   ]
  },
  {
   "cell_type": "markdown",
   "id": "0239b646",
   "metadata": {
    "papermill": {
     "duration": 0.012565,
     "end_time": "2024-03-26T22:19:41.504221",
     "exception": false,
     "start_time": "2024-03-26T22:19:41.491656",
     "status": "completed"
    },
    "tags": []
   },
   "source": [
    "### 6.2 Displaying Histogram\n",
    "\n",
    "The `display_histogram` function will display a histogram for a user passed node and columns. Node and column must come from the performance data table. <br>\n",
    "\n",
    "A histogram allows for a user to see outliers and the overall distribution of their data."
   ]
  },
  {
   "cell_type": "code",
   "execution_count": null,
   "id": "e705c8a7",
   "metadata": {
    "papermill": {
     "duration": 0.017139,
     "end_time": "2024-03-26T22:19:41.534109",
     "exception": false,
     "start_time": "2024-03-26T22:19:41.516970",
     "status": "completed"
    },
    "tags": []
   },
   "outputs": [],
   "source": [
    "# Getting nodes to pass\n",
    "n = pd.unique(combined_th.dataframe.reset_index()[\"node\"])[4]"
   ]
  },
  {
   "cell_type": "markdown",
   "id": "bc89da43",
   "metadata": {
    "papermill": {
     "duration": 0.012194,
     "end_time": "2024-03-26T22:19:41.558771",
     "exception": false,
     "start_time": "2024-03-26T22:19:41.546577",
     "status": "completed"
    },
    "tags": []
   },
   "source": [
    "**Single Index Thicket Example**"
   ]
  },
  {
   "cell_type": "code",
   "execution_count": null,
   "id": "2deabc3b",
   "metadata": {
    "papermill": {
     "duration": 0.07893,
     "end_time": "2024-03-26T22:19:41.650412",
     "exception": false,
     "start_time": "2024-03-26T22:19:41.571482",
     "status": "completed"
    },
    "tags": []
   },
   "outputs": [],
   "source": [
    "plt.figure(figsize=(30, 30))\n",
    "th.stats.display_histogram(\n",
    "    clang_th,\n",
    "    node=n,\n",
    "    column=\"Machine clears\",\n",
    "    bins=3,\n",
    "    grid=False,\n",
    "    edgecolor=\"black\"\n",
    ")"
   ]
  },
  {
   "cell_type": "markdown",
   "id": "cb657ba2",
   "metadata": {
    "papermill": {
     "duration": 0.012904,
     "end_time": "2024-03-26T22:19:41.676289",
     "exception": false,
     "start_time": "2024-03-26T22:19:41.663385",
     "status": "completed"
    },
    "tags": []
   },
   "source": [
    "**Multi-Indexed Thicket Example**\n",
    "\n",
    "Example will show how to pass a columnar joined thicket object. When passing a columnar joined thicket object, the columns argument will now take a list of tuples. Each tuple will consist of two elements. The first element will always be the column index, and the second element will be an associated column under the column index you passed.<br>\n",
    "\n",
    " - Example: (column_index, column_name) -> (\"GCC\", \"Machine clears\")"
   ]
  },
  {
   "cell_type": "code",
   "execution_count": null,
   "id": "94fb6edb",
   "metadata": {
    "papermill": {
     "duration": 0.110522,
     "end_time": "2024-03-26T22:19:41.799487",
     "exception": false,
     "start_time": "2024-03-26T22:19:41.688965",
     "status": "completed"
    },
    "tags": []
   },
   "outputs": [],
   "source": [
    "plt.figure(figsize=(30, 30))\n",
    "th.stats.display_histogram(\n",
    "    combined_th,\n",
    "    node=n,\n",
    "    column=(\"Clang\", \"Machine clears\"),\n",
    "    bins=3,\n",
    "    grid=False,\n",
    "    edgecolor=\"black\"\n",
    ")"
   ]
  },
  {
   "cell_type": "markdown",
   "id": "8d7211b3",
   "metadata": {
    "papermill": {
     "duration": 0.013018,
     "end_time": "2024-03-26T22:19:41.825953",
     "exception": false,
     "start_time": "2024-03-26T22:19:41.812935",
     "status": "completed"
    },
    "tags": []
   },
   "source": [
    "**Example of Error if Not Passing a Hatchet Node**"
   ]
  },
  {
   "cell_type": "code",
   "execution_count": null,
   "id": "97beae7f",
   "metadata": {
    "papermill": {
     "duration": 0.015978,
     "end_time": "2024-03-26T22:19:41.855116",
     "exception": false,
     "start_time": "2024-03-26T22:19:41.839138",
     "status": "completed"
    },
    "tags": []
   },
   "outputs": [],
   "source": [
    "# n = \"not_hatchet_node\"\n",
    "# th.stats.display_histogram(\n",
    "#     combined_th,\n",
    "#     node=n,\n",
    "#     column=(\"Clang\", \"Machine clears\")\n",
    "# )"
   ]
  },
  {
   "cell_type": "markdown",
   "id": "3835995d",
   "metadata": {
    "papermill": {
     "duration": 0.012484,
     "end_time": "2024-03-26T22:19:41.880039",
     "exception": false,
     "start_time": "2024-03-26T22:19:41.867555",
     "status": "completed"
    },
    "tags": []
   },
   "source": [
    "### 6.3 Displaying Boxplot\n",
    "\n",
    "The `display_boxplot` function will display a boxplot for each passed in node(s) and column(s). The passed nodes and columns must be from the performance data table. "
   ]
  },
  {
   "cell_type": "code",
   "execution_count": null,
   "id": "92e9574a",
   "metadata": {
    "papermill": {
     "duration": 0.01753,
     "end_time": "2024-03-26T22:19:41.910148",
     "exception": false,
     "start_time": "2024-03-26T22:19:41.892618",
     "status": "completed"
    },
    "tags": []
   },
   "outputs": [],
   "source": [
    "# Getting nodes to pass\n",
    "n = pd.unique(combined_th.dataframe.reset_index()[\"node\"])[0:2].tolist()"
   ]
  },
  {
   "cell_type": "markdown",
   "id": "c90df96a",
   "metadata": {
    "papermill": {
     "duration": 0.012497,
     "end_time": "2024-03-26T22:19:41.935149",
     "exception": false,
     "start_time": "2024-03-26T22:19:41.922652",
     "status": "completed"
    },
    "tags": []
   },
   "source": [
    "**Single Index Thicket Example**"
   ]
  },
  {
   "cell_type": "code",
   "execution_count": null,
   "id": "e8b4c726",
   "metadata": {
    "papermill": {
     "duration": 0.119579,
     "end_time": "2024-03-26T22:19:42.067159",
     "exception": false,
     "start_time": "2024-03-26T22:19:41.947580",
     "status": "completed"
    },
    "tags": []
   },
   "outputs": [],
   "source": [
    "plt.figure(figsize=(30, 30))\n",
    "th.stats.display_boxplot(\n",
    "    clang_th,\n",
    "    nodes=n,\n",
    "    columns=[\"Machine clears\", \"Frontend latency\"]\n",
    ")"
   ]
  },
  {
   "cell_type": "markdown",
   "id": "f266979a",
   "metadata": {
    "papermill": {
     "duration": 0.013135,
     "end_time": "2024-03-26T22:19:42.093565",
     "exception": false,
     "start_time": "2024-03-26T22:19:42.080430",
     "status": "completed"
    },
    "tags": []
   },
   "source": [
    "**Multi-Indexed Thicket Example**\n",
    "\n",
    "Example will show how to pass a columnar joined thicket object. When passing a columnar joined thicket object, the columns argument will now take a list of tuples. Each tuple will consist of two elements. The first element will always be the column index, and the second element will be an associated column under the column index you passed.<br>\n",
    "\n",
    " - Example: (column_index, column_name) -> (\"GCC\", \"Machine clears\")"
   ]
  },
  {
   "cell_type": "code",
   "execution_count": null,
   "id": "2b5e74e3",
   "metadata": {
    "papermill": {
     "duration": 0.120791,
     "end_time": "2024-03-26T22:19:42.227476",
     "exception": false,
     "start_time": "2024-03-26T22:19:42.106685",
     "status": "completed"
    },
    "tags": []
   },
   "outputs": [],
   "source": [
    "plt.figure(figsize=(30, 30))\n",
    "th.stats.display_boxplot(\n",
    "    combined_th,\n",
    "    nodes=n,\n",
    "    columns=[(\"Clang\", \"time (exc)\"), (\"Clang\", \"Machine clears\")]\n",
    ")"
   ]
  },
  {
   "cell_type": "markdown",
   "id": "f13de603",
   "metadata": {
    "papermill": {
     "duration": 0.013763,
     "end_time": "2024-03-26T22:19:42.255117",
     "exception": false,
     "start_time": "2024-03-26T22:19:42.241354",
     "status": "completed"
    },
    "tags": []
   },
   "source": [
    "**Example of Error if Not Passing Same Column Index**"
   ]
  },
  {
   "cell_type": "code",
   "execution_count": null,
   "id": "3e9a0abf",
   "metadata": {
    "papermill": {
     "duration": 0.016954,
     "end_time": "2024-03-26T22:19:42.285243",
     "exception": false,
     "start_time": "2024-03-26T22:19:42.268289",
     "status": "completed"
    },
    "tags": []
   },
   "outputs": [],
   "source": [
    "# th.stats.display_boxplot(\n",
    "#     combined_th,\n",
    "#     nodes=n,\n",
    "#     columns=[(\"Clang\", \"time (exc)\"), (\"GCC\", \"Machine clears\")]\n",
    "# )"
   ]
  },
  {
   "cell_type": "markdown",
   "id": "f6eb70f9",
   "metadata": {},
   "source": [
    "### 6.4 Displaying Violinplot\n",
    "\n",
    "The `display_violinplot` function will display a violin plot for each passed in node(s) and column(s) in a single thicket. The passed nodes and columns must be from the performance data table. "
   ]
  },
  {
   "cell_type": "code",
   "execution_count": null,
   "id": "cd103264",
   "metadata": {},
   "outputs": [],
   "source": [
    "# Getting nodes to pass\n",
    "n = pd.unique(combined_th.dataframe.reset_index()[\"node\"])[0:2].tolist()"
   ]
  },
  {
   "cell_type": "markdown",
   "id": "a4bcfea8",
   "metadata": {},
   "source": [
    "**Single Index Thicket Example**"
   ]
  },
  {
   "cell_type": "code",
   "execution_count": null,
   "id": "298302ad",
   "metadata": {},
   "outputs": [],
   "source": [
    "plt.figure(figsize=(10, 10))\n",
    "th.stats.display_violinplot(\n",
    "    clang_th,\n",
    "    nodes=n,\n",
    "    columns=[\"Machine clears\", \"Frontend latency\"]\n",
    ")"
   ]
  },
  {
   "cell_type": "markdown",
   "id": "523aed82",
   "metadata": {},
   "source": [
    "**Multi-Indexed Thicket Example**\n",
    "\n",
    "Example will show how to pass a columnar joined thicket object. When passing a columnar joined thicket object, the columns argument will now take a list of tuples. Each tuple will consist of two elements. The first element will always be the column index, and the second element will be an associated column under the column index you passed.<br>\n",
    "\n",
    " - Example: (column_index, column_name) -> (\"GCC\", \"Machine clears\")"
   ]
  },
  {
   "cell_type": "code",
   "execution_count": null,
   "id": "7927cb2f",
   "metadata": {},
   "outputs": [],
   "source": [
    "plt.figure(figsize=(10, 10))\n",
    "th.stats.display_violinplot(\n",
    "    combined_th,\n",
    "    nodes=n,\n",
    "    columns=[(\"Clang\", \"time (exc)\"), (\"Clang\", \"Machine clears\")]\n",
    ")"
   ]
  },
  {
   "cell_type": "markdown",
   "id": "2bbb977e",
   "metadata": {},
   "source": [
    "### 6.5 Displaying Violinplot Thicket\n",
    "\n",
    "The `display_violinplot_thicket` function will display a violinplot for each user passed node(s) and column(s) from multiple thickets. The passed nodes and columns must be from the performance data table."
   ]
  },
  {
   "cell_type": "code",
   "execution_count": null,
   "id": "588a1bf9",
   "metadata": {},
   "outputs": [],
   "source": [
    "# Getting nodes to pass\n",
    "clang_node = pd.unique(clang_th.dataframe.reset_index()[\"node\"])[0]\n",
    "gcc_node = pd.unique(gcc_th.dataframe.reset_index()[\"node\"])[0]\n",
    "\n",
    "# Setup thickets dict\n",
    "thickets = {\n",
    "    \"clang\": clang_th,\n",
    "    \"gcc\": gcc_th,\n",
    "}\n",
    "\n",
    "# Setup columns dict\n",
    "columns = {\n",
    "    \"clang\": [\"Machine clears\"],\n",
    "    \"gcc\": [\"Frontend latency\"],\n",
    "}\n",
    "\n",
    "# Setup nodes dict\n",
    "nodes = {\n",
    "    \"clang\": clang_node,\n",
    "    \"gcc\": gcc_node\n",
    "}"
   ]
  },
  {
   "cell_type": "markdown",
   "id": "7ac09a01",
   "metadata": {},
   "source": [
    "**Single Index Thicket Example**"
   ]
  },
  {
   "cell_type": "code",
   "execution_count": null,
   "id": "9bfe87c3",
   "metadata": {},
   "outputs": [],
   "source": [
    "plt.figure(figsize=(10, 10))\n",
    "th.stats.display_violinplot_thicket(\n",
    "    thickets=thickets,\n",
    "    nodes=nodes,\n",
    "    columns=columns\n",
    ")"
   ]
  },
  {
   "cell_type": "markdown",
   "id": "1cbb3ad7",
   "metadata": {},
   "source": [
    "**Multi-Indexed Thicket Example**\n",
    "\n",
    "Example will show how to pass a columnar joined thicket object. When passing a columnar joined thicket object, the columns argument will now take a list of tuples. Each tuple will consist of two elements. The first element will always be the column index, and the second element will be an associated column under the column index you passed.<br>\n",
    "\n",
    " - Example: (column_index, column_name) -> (\"GCC\", \"Machine clears\")"
   ]
  },
  {
   "cell_type": "code",
   "execution_count": null,
   "id": "ba74f02b",
   "metadata": {},
   "outputs": [],
   "source": [
    "# Getting nodes to pass\n",
    "n = pd.unique(clang_th.dataframe.reset_index()[\"node\"])[0:2]\n",
    "\n",
    "# Getting thickets to pass\n",
    "thickets = {\n",
    "    \"clang\": clang_th,\n",
    "    \"gcc\": gcc_th,\n",
    "}\n",
    "\n",
    "# Getting columns to pass\n",
    "columns = {\n",
    "    \"clang\": [\"time (exc)\"],\n",
    "    \"gcc\": [\"time (exc)\"],\n",
    "}\n",
    "\n",
    "# Getting nodes to pass\n",
    "nodes = {\n",
    "    \"clang\": pd.unique(clang_th.dataframe.reset_index()[\"node\"])[1],\n",
    "    \"gcc\": pd.unique(gcc_th.dataframe.reset_index()[\"node\"])[1]\n",
    "}"
   ]
  },
  {
   "cell_type": "code",
   "execution_count": null,
   "id": "1f4be21d",
   "metadata": {},
   "outputs": [],
   "source": [
    "plt.figure(figsize=(10, 10))\n",
    "th.stats.display_violinplot_thicket(\n",
    "    thickets=thickets,\n",
    "    nodes=nodes,\n",
    "    columns=columns\n",
    ")"
   ]
  },
  {
   "cell_type": "markdown",
   "id": "31bfc56d",
   "metadata": {},
   "source": [
    "**Example of Error if Not Passing Dictionary of Appropriate Values**"
   ]
  },
  {
   "cell_type": "code",
   "execution_count": null,
   "id": "1e4e30fb",
   "metadata": {},
   "outputs": [],
   "source": [
    "# n = \"not_hatchet_node\"\n",
    "# plt.figure(figsize=(10, 10))\n",
    "# th.stats.display_violinplot_thicket(\n",
    "#     thickets=thickets,\n",
    "#     nodes=n,\n",
    "#     columns=columns\n",
    "# )"
   ]
  },
  {
   "cell_type": "markdown",
   "id": "c01b2605",
   "metadata": {},
   "source": [
    "## 7. Creating a New Thicket From Multiple Statsframes \n",
    "\n",
    "The `from_statsframes` function allows us to compose multiple statsframes into a new thicket."
   ]
  },
  {
   "cell_type": "code",
   "execution_count": null,
   "id": "58fc24f9",
   "metadata": {},
   "outputs": [],
   "source": [
    "clang_th = th.Thicket.from_caliperreader(clang, disable_tqdm=True)\n",
    "gcc_th = th.Thicket.from_caliperreader(gcc, disable_tqdm=True)"
   ]
  },
  {
   "cell_type": "markdown",
   "id": "9a778c18",
   "metadata": {},
   "source": [
    "**Compute some statistics**"
   ]
  },
  {
   "cell_type": "code",
   "execution_count": null,
   "id": "e2df6ee1",
   "metadata": {},
   "outputs": [],
   "source": [
    "metrics = [\"time (exc)\", \"Machine clears\"]\n",
    "th.stats.minimum(clang_th, columns=metrics)\n",
    "th.stats.minimum(gcc_th, columns=metrics)"
   ]
  },
  {
   "cell_type": "markdown",
   "id": "4acae91a",
   "metadata": {},
   "source": [
    "**Call `from_statsframes` with optional argument `metadata_key` as new index in the `Thicket.dataframe`**"
   ]
  },
  {
   "cell_type": "code",
   "execution_count": null,
   "id": "29212bcf",
   "metadata": {
    "tags": []
   },
   "outputs": [],
   "source": [
    "stk = th.Thicket.from_statsframes(\n",
    "    [clang_th, gcc_th],\n",
    "    metadata_key=\"compiler\",\n",
    "    disable_tqdm=True,\n",
    ")\n",
    "stk.dataframe"
   ]
  }
 ],
 "metadata": {
  "kernelspec": {
   "display_name": "Python 3",
   "language": "python",
   "name": "python3"
  },
  "language_info": {
   "codemirror_mode": {
    "name": "ipython",
    "version": 3
   },
   "file_extension": ".py",
   "mimetype": "text/x-python",
   "name": "python",
   "nbconvert_exporter": "python",
   "pygments_lexer": "ipython3",
   "version": "3.9.12"
  },
  "papermill": {
   "default_parameters": {},
   "duration": 5.589468,
   "end_time": "2024-03-26T22:19:42.628467",
   "environment_variables": {},
   "exception": null,
   "input_path": "04_stats-functions.ipynb",
   "output_path": "04_stats-functions.ipynb",
   "parameters": {},
   "start_time": "2024-03-26T22:19:37.038999",
   "version": "2.5.0"
  },
  "vscode": {
   "interpreter": {
    "hash": "31f2aee4e71d21fbe5cf8b01ff0e069b9275f58929596ceb00d14d90e3e16cd6"
   }
  }
 },
 "nbformat": 4,
 "nbformat_minor": 5
}
