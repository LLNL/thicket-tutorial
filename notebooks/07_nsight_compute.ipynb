{
 "cells": [
  {
   "cell_type": "markdown",
   "id": "b298bc4a",
   "metadata": {
    "papermill": {
     "duration": 0.009169,
     "end_time": "2024-03-26T22:19:26.881103",
     "exception": false,
     "start_time": "2024-03-26T22:19:26.871934",
     "status": "completed"
    },
    "tags": []
   },
   "source": [
    "# Thicket Nsight Compute Reader: Thicket Tutorial\n",
    "\n",
    "Nsight Compute (NCU) is a performance profiler for NVIDIA GPUs. NCU report files do not have a calltree, but with the NVTX Caliper service we can forward Caliper annotations to NCU. By profiling the same executable with a calltree profiler like Caliper, we can map the NCU data to the calltree profile and create a Thicket object. \n",
    "\n",
    "**NOTE: An interactive version of this notebook is available in the Binder environment.**\n",
    "\n",
    "[![Binder](https://mybinder.org/badge_logo.svg)](https://mybinder.org/v2/gh/llnl/thicket-tutorial/develop)\n",
    "\n",
    "***\n",
    "\n",
    "## 1. Import Necessary Packages\n",
    "\n",
    "The Thicket NCU reader requires an existing install of Nsight Compute, and the `extras/python` directory in the Nsight Compute installation directory must be added to the `PYTHONPATH`. We use `sys.path.append` to add the path to the `PYTHONPATH` in this notebook. If you are not on a Livermore Computing system, you must change this path to match your install of Nsight Compute."
   ]
  },
  {
   "cell_type": "code",
   "execution_count": null,
   "id": "4e9d66ee",
   "metadata": {
    "execution": {
     "iopub.execute_input": "2024-03-26T22:19:26.898836Z",
     "iopub.status.busy": "2024-03-26T22:19:26.898682Z",
     "iopub.status.idle": "2024-03-26T22:19:27.445595Z",
     "shell.execute_reply": "2024-03-26T22:19:27.445228Z"
    },
    "papermill": {
     "duration": 0.556743,
     "end_time": "2024-03-26T22:19:27.446317",
     "exception": false,
     "start_time": "2024-03-26T22:19:26.889574",
     "status": "completed"
    },
    "scrolled": true,
    "tags": []
   },
   "outputs": [],
   "source": [
    "import sys\n",
    "\n",
    "sys.path.append(\"/usr/tce/packages/nsight-compute/nsight-compute-2023.2.2/extras/python\")\n",
    "\n",
    "from IPython.display import display\n",
    "from IPython.display import HTML\n",
    "\n",
    "import thicket as tt\n",
    "\n",
    "display(HTML(\"<style>.container { width:80% !important; }</style>\"))"
   ]
  },
  {
   "cell_type": "markdown",
   "id": "47163338",
   "metadata": {},
   "source": [
    "# 2. The Dataset\n",
    "\n",
    "The dataset we are using comes from a profile of the RAJA Performance Suite on Lassen. We profile the `block_128` tuning of the `Base_CUDA` variant, while varying the problem size for 1 million and 2 million. The calltree profiles come from the CUDA Activity Profile Caliper configuration.\n",
    "\n",
    "Below are examples of how this dataset was generated:\n",
    "```\n",
    "# Example run to Generate a CUDA Activity Profile\n",
    "CALI_CONFIG=cuda-activity-profile,output.format=cali lrun -n 1 --smpiargs=\"-disable_gpu_hooks\" raja-perf.exe --variants Base_CUDA --tunings block_128 --size [1048576 OR 2097152] --repfact 0.01\n",
    "```\n",
    "\n",
    "```\n",
    "# Example run to Generate a NCU Report\n",
    "CALI_SERVICES_ENABLE=nvtx lrun -n 1 --smpiargs=\"-disable_gpu_hooks\" ncu --nvtx --set default --export report --metrics sm__throughput.avg.pct_of_peak_sustained_elapsed raja-perf.exe --variants Base_CUDA --tunings block_128 --size [1048576 OR 2097152] --repfact 0.01\n",
    "```"
   ]
  },
  {
   "cell_type": "code",
   "execution_count": null,
   "id": "6ed93c84",
   "metadata": {},
   "outputs": [],
   "source": [
    "calltree_profile_data = [\n",
    "    \"../data/ncu/1M/cuda_profile.cali\",\n",
    "    \"../data/ncu/2M/cuda_profile.cali\",\n",
    "]\n",
    "ncu_report_data = [\n",
    "    \"../data/ncu/1M/report.ncu-rep\",\n",
    "    \"../data/ncu/2M/report.ncu-rep\",\n",
    "]"
   ]
  },
  {
   "cell_type": "markdown",
   "id": "972c694b",
   "metadata": {},
   "source": [
    "# 3. Read Calltree Profiles into Thicket\n",
    "\n",
    "The only performance metrics contained in the CUDA Activity Profile will be the CPU time `time` and the GPU time `time (gpu)`."
   ]
  },
  {
   "cell_type": "code",
   "execution_count": null,
   "id": "989da4d4",
   "metadata": {},
   "outputs": [],
   "source": [
    "tk_cap = tt.Thicket.from_caliperreader(calltree_profile_data)\n",
    "tk_cap.dataframe.head(15)"
   ]
  },
  {
   "cell_type": "markdown",
   "id": "94d9eff4",
   "metadata": {},
   "source": [
    "# 4. Add NCU Data\n",
    "\n",
    "The Thicket `add_ncu` function takes one required argument and one optional arguement. The required argument `ncu_report_mapping` is the mapping from the NCU report file to the corresponding calltree profile run. The optional argument `chosen_metrics` allows for a subselection of the NCU performance metrics to add, since there can be hundreds of NCU performance metrics. By default we add all metrics."
   ]
  },
  {
   "cell_type": "code",
   "execution_count": null,
   "id": "60ff359c",
   "metadata": {},
   "outputs": [],
   "source": [
    "# Add NCU to thicket\n",
    "ncu_metrics = [\n",
    "    \"sm__throughput.avg.pct_of_peak_sustained_elapsed\",\n",
    "    \"profiler__replayer_passes\",\n",
    "    \"profiler__replayer_bytes_mem_backed_up.avg\",\n",
    "    \"profiler__replayer_bytes_mem_backed_up.max\",\n",
    "    \"profiler__replayer_bytes_mem_backed_up.min\",\n",
    "    \"profiler__replayer_bytes_mem_backed_up.sum\",\n",
    "]\n",
    "ncu_report_mapping = {\n",
    "    ncu_report_data[0]: calltree_profile_data[0],\n",
    "     ncu_report_data[1]: calltree_profile_data[1],\n",
    "}\n",
    "# Add in metrics\n",
    "tk_cap.add_ncu(\n",
    "    ncu_report_mapping=ncu_report_mapping, \n",
    "    chosen_metrics=ncu_metrics,\n",
    ")\n",
    "tk_cap.dataframe.head(15)"
   ]
  },
  {
   "cell_type": "markdown",
   "id": "09e55c3a",
   "metadata": {},
   "source": [
    "# 5. Add Problem Size to the Index\n",
    "\n",
    "We can add the problem size to the performance data index for clarity about which profile we are looking at."
   ]
  },
  {
   "cell_type": "code",
   "execution_count": null,
   "id": "b06b7e85",
   "metadata": {},
   "outputs": [],
   "source": [
    "tk_cap.metadata_column_to_perfdata(\"ProblemSizeRunParam\")\n",
    "tk_cap.dataframe = tk_cap.dataframe.reset_index().set_index([\"node\", \"ProblemSizeRunParam\"])\n",
    "tk_cap.dataframe.head(15)"
   ]
  },
  {
   "cell_type": "markdown",
   "id": "d69ba22d",
   "metadata": {},
   "source": [
    "# 6. Visualize the NCU Performance Data on the Calltree"
   ]
  },
  {
   "cell_type": "code",
   "execution_count": null,
   "id": "877c1044",
   "metadata": {},
   "outputs": [],
   "source": [
    "print(tk_cap.tree(\n",
    "    metric_column=\"sm__throughput.avg.pct_of_peak_sustained_elapsed\",\n",
    "    expand_name=True,\n",
    "    ))"
   ]
  },
  {
   "cell_type": "code",
   "execution_count": null,
   "id": "a2f7cff4",
   "metadata": {},
   "outputs": [],
   "source": []
  }
 ],
 "metadata": {
  "kernelspec": {
   "display_name": "Python 3",
   "language": "python",
   "name": "python3"
  },
  "language_info": {
   "codemirror_mode": {
    "name": "ipython",
    "version": 3
   },
   "file_extension": ".py",
   "mimetype": "text/x-python",
   "name": "python",
   "nbconvert_exporter": "python",
   "pygments_lexer": "ipython3",
   "version": "3.11.7"
  },
  "papermill": {
   "default_parameters": {},
   "duration": 3.570405,
   "end_time": "2024-03-26T22:19:29.810540",
   "environment_variables": {},
   "exception": null,
   "input_path": "01_thicket_tutorial.ipynb",
   "output_path": "01_thicket_tutorial.ipynb",
   "parameters": {},
   "start_time": "2024-03-26T22:19:26.240135",
   "version": "2.5.0"
  }
 },
 "nbformat": 4,
 "nbformat_minor": 5
}
