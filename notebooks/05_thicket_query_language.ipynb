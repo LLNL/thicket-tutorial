{
 "cells": [
  {
   "cell_type": "markdown",
   "metadata": {},
   "source": [
    "# Query Language: Thicket Tutorial\n",
    "\n",
    "Thicket is a python-based toolkit for Exploratory Data Analysis (EDA) of parallel performance data that enables performance optimization and understanding of applications’ performance on supercomputers. It bridges the performance tool gap between being able to consider only a single instance of a simulation run (e.g., single platform, single measurement tool, or single scale) and finding actionable insights in multi-dimensional, multi-scale, multi-architecture, and multi-tool performance datasets.\n",
    "\n",
    "**NOTE: An interactive version of this notebook is available in the Binder environment.**\n",
    "\n",
    "[![Binder](https://mybinder.org/badge_logo.svg)](https://mybinder.org/v2/gh/llnl/thicket-tutorial/develop)\n",
    "\n",
    "***\n",
    "\n",
    "## 1. Import Necessary Packages\n",
    "\n",
    "To explore the structure and various capabilities of thicket components, we begin by importing necessary packages. These include python extensions and thicket's statistical functions."
   ]
  },
  {
   "cell_type": "code",
   "execution_count": null,
   "metadata": {
    "scrolled": true
   },
   "outputs": [],
   "source": [
    "import re\n",
    "\n",
    "import numpy as np\n",
    "import pandas as pd\n",
    "import matplotlib.pyplot as plt\n",
    "from IPython.display import display\n",
    "from IPython.display import HTML\n",
    "import hatchet as ht\n",
    "\n",
    "import thicket as tt\n",
    "\n",
    "display(HTML(\"<style>.container { width:80% !important; }</style>\"))"
   ]
  },
  {
   "cell_type": "markdown",
   "metadata": {},
   "source": [
    "## 2. Read in Performance Profiles\n",
    "\n",
    "For this notebook, we select profiles generated on Lawrence Livermore National Lab (LLNL) machine, lassen. We create a thicket object generated with the same block size of 128. "
   ]
  },
  {
   "cell_type": "code",
   "execution_count": null,
   "metadata": {},
   "outputs": [],
   "source": [
    "problem_sizes = [\"1048576\", \n",
    "                 \"2097152\", \n",
    "                 \"4194304\", \n",
    "                 \"8388608\",\n",
    "                ]\n",
    "lassen1 = [f\"../data/lassen/clang10.0.1_nvcc10.2.89_{x}/Base_CUDA-block_128.cali\" for x in problem_sizes]\n",
    "lassen2 = [f\"../data/lassen/clang10.0.1_nvcc10.2.89_1048576/Base_CUDA-block_256.cali\"]\n",
    "\n",
    "# generate thicket(s)\n",
    "th_lassen = tt.Thicket.from_caliperreader(lassen1)"
   ]
  },
  {
   "cell_type": "markdown",
   "metadata": {},
   "source": [
    "## 3. More Information on a Function\n",
    "***\n",
    "You can use the help() method within Python to see the information for a given object. You can do this by typing help(object). \n",
    "This will allow you to see the arguments for the function, and what will be returned. An example is below."
   ]
  },
  {
   "cell_type": "code",
   "execution_count": null,
   "metadata": {
    "scrolled": false
   },
   "outputs": [],
   "source": [
    "help(tt.median)"
   ]
  },
  {
   "cell_type": "markdown",
   "metadata": {},
   "source": [
    "## 4. Append Statistical Calculation(s)\n",
    "***\n",
    "\n",
    "We can calculate statistical aggregations per-node in the performance data and append the values to the aggregated statistics table. In the example below, we calculate the per-node median time across 4 profiles and append the median to the statistics table. The new column is called `Total time_median`. \n",
    "\n",
    "Why is this important for this notebook?\n",
    "\n",
    "When the nodes in the performance data table change, the aggregated statistics table will change depending on the metric. Therefore, the aggregated statistics table is cleared after a query has been applied. In the examples further down, we use an appended column (specifically the median of total time) as the metric to print the call trees."
   ]
  },
  {
   "cell_type": "code",
   "execution_count": null,
   "metadata": {},
   "outputs": [],
   "source": [
    "metrics = [\"Total time\"]\n",
    "tt.median(th_lassen, columns=metrics)\n",
    "th_lassen.statsframe.dataframe"
   ]
  },
  {
   "cell_type": "markdown",
   "metadata": {},
   "source": [
    "## 5. Thicket Query Language \n",
    "\n",
    "**Use the Query Language**\n",
    "\n",
    "Thicket's query language provides users the capability to select or `query` specific nodes based on the call tree component in thicket. The nodes in the performance data and statistics table are updated as well to reflect which nodes are remaining in the call tree."
   ]
  },
  {
   "cell_type": "code",
   "execution_count": null,
   "metadata": {
    "scrolled": false
   },
   "outputs": [],
   "source": [
    "print(\"Initial call tree: \")\n",
    "print(th_lassen.statsframe.tree(\"Total time_median\"))"
   ]
  },
  {
   "cell_type": "markdown",
   "metadata": {},
   "source": [
    "### Example Query 1: Find a Subgraph with a Specific Root\n",
    "\n",
    "This example shows how to find a subtree starting with a specific root. More specifically, the query in this example finds a subtree rooted at the node with the name \"Stream\" followed by all nodes down to the leaf nodes.\n",
    "\n",
    "NOTE: A DeprecationWarning is generated when using “old-style” queries (i.e., queries with QueryMatcher) if you have the newest version of Hatchet installed."
   ]
  },
  {
   "cell_type": "code",
   "execution_count": null,
   "metadata": {
    "scrolled": false
   },
   "outputs": [],
   "source": [
    "query_ex1 = (\n",
    "    ht.QueryMatcher()\n",
    "    .match (\n",
    "        \".\", \n",
    "        lambda row: row[\"name\"].apply(\n",
    "        lambda x: re.match(\n",
    "            \"Stream\", x\n",
    "        )\n",
    "        is not None).all()\n",
    "    )\n",
    "    .rel(\"*\")\n",
    ")\n",
    "\n",
    "# applying the first query on the lassen thicket\n",
    "th_ex1 = th_lassen.query(query_ex1)\n",
    "tt.median(th_ex1, columns=[\"Total time\"])\n",
    "print(th_ex1.statsframe.tree(\"Total time_median\"))"
   ]
  },
  {
   "cell_type": "markdown",
   "metadata": {},
   "source": [
    "### Example Query 2: Find All Paths Ending with a Specific Node\n",
    "\n",
    "This example shows how to find all paths of a GraphFrame ending with a specific node. More specifically, the queries in this example can be used to find paths ending with a node named \"Stream\"."
   ]
  },
  {
   "cell_type": "code",
   "execution_count": null,
   "metadata": {},
   "outputs": [],
   "source": [
    "query_ex2 = (\n",
    "    ht.QueryMatcher()\n",
    "    .match (\"*\")\n",
    "    .rel(\".\",\n",
    "         lambda row: row[\"name\"].apply(\n",
    "        lambda x: re.match(\n",
    "            \"Stream\", x\n",
    "        )\n",
    "        is not None).all()\n",
    "        )\n",
    ")\n",
    "\n",
    "# applying the second query on the lassen thicket\n",
    "th_ex2 = th_lassen.query(query_ex2)\n",
    "tt.median(th_ex2, columns=[\"Total time\"])\n",
    "print(th_ex2.statsframe.tree(\"Total time_median\"))"
   ]
  },
  {
   "cell_type": "markdown",
   "metadata": {},
   "source": [
    "### Example Query 3: Find All Paths with Specific Starting and Ending Nodes\n",
    "\n",
    "This example shows how to find all call paths starting with and ending with specific nodes. More specifically, the query in this example finds paths starting with a node named \"Stream\" and ending with a node named \"Stream_MUL\"."
   ]
  },
  {
   "cell_type": "code",
   "execution_count": null,
   "metadata": {},
   "outputs": [],
   "source": [
    "query_ex3 = (\n",
    "    ht.QueryMatcher()\n",
    "    .match (\".\",\n",
    "            lambda row: row[\"name\"].apply(\n",
    "                lambda x: re.match(\n",
    "                    \"Stream\", x\n",
    "                )\n",
    "                is not None).all()\n",
    "           )\n",
    "    .rel(\"*\")\n",
    "    .rel(\".\",\n",
    "         lambda row: row[\"name\"].apply(\n",
    "        lambda x: re.match(\n",
    "            \"Stream_MUL\", x\n",
    "        )\n",
    "        is not None).all()\n",
    "        )\n",
    ")\n",
    "\n",
    "\n",
    "\n",
    "# applying the third query on the lassen thicket\n",
    "th_ex3 = th_lassen.query(query_ex3)\n",
    "tt.median(th_ex3, columns=[\"Total time\"])\n",
    "print(th_ex3.statsframe.tree(\"Total time_median\"))"
   ]
  },
  {
   "cell_type": "markdown",
   "metadata": {},
   "source": [
    "### Example Query 4: Find All Nodes for a Particular Software Library\n",
    "\n",
    "This example shows how to find all call paths representing a specific software library. This example is simply a variant of finding a subtree with a given root (i.e., from :ref:`this section <subgraph_root_ex>`). The example query below can be adapted to find the nodes for a subset of the MPI library, for example. In our example, we look for subtrees rooted at PolyBench_2MM, Basic_DAXPY, and Apps_ENERGY."
   ]
  },
  {
   "cell_type": "code",
   "execution_count": null,
   "metadata": {},
   "outputs": [],
   "source": [
    "api_entrypoints = [\n",
    "            \"Polybench_2MM\",\n",
    "            \"Basic_DAXPY\",\n",
    "            \"Apps_ENERGY\",\n",
    "         ]\n",
    "\n",
    "query_ex4 = (\n",
    "    ht.QueryMatcher()\n",
    "    .match (\".\",\n",
    "            lambda row: row[\"name\"].apply(\n",
    "                lambda x: x in api_entrypoints).all()\n",
    "           )\n",
    "    .rel(\"*\")\n",
    ")\n",
    "\n",
    "\n",
    "\n",
    "# applying the fourth query on the lassen thicket\n",
    "th_ex4 = th_lassen.query(query_ex4)\n",
    "tt.median(th_ex4, columns=[\"Total time\"])\n",
    "print(th_ex4.statsframe.tree(\"Total time_median\"))"
   ]
  },
  {
   "cell_type": "markdown",
   "metadata": {},
   "source": [
    "### Example Query 5: Find All Paths through a Specific Node\n",
    "\n",
    "This example shows how to find all call paths that pass through a specific node. More specifically, the query below finds all paths that pass through a node named \"Stream\"."
   ]
  },
  {
   "cell_type": "code",
   "execution_count": null,
   "metadata": {},
   "outputs": [],
   "source": [
    "query_ex5 = (\n",
    "    ht.QueryMatcher()\n",
    "    .match (\"*\")\n",
    "    .rel(\".\",\n",
    "         lambda row: row[\"name\"].apply(\n",
    "        lambda x: re.match(\n",
    "            \"Stream\", x\n",
    "        )\n",
    "        is not None).all()\n",
    "        )\n",
    "    .rel(\"*\")\n",
    ")\n",
    "\n",
    "\n",
    "\n",
    "# applying the fifth query on the lassen thicket\n",
    "th_ex5 = th_lassen.query(query_ex5)\n",
    "tt.median(th_ex5, columns=[\"Total time\"])\n",
    "print(th_ex5.statsframe.tree(\"Total time_median\"))"
   ]
  }
 ],
 "metadata": {
  "kernelspec": {
   "display_name": "Python 3",
   "language": "python",
   "name": "python3"
  },
  "language_info": {
   "codemirror_mode": {
    "name": "ipython",
    "version": 3
   },
   "file_extension": ".py",
   "mimetype": "text/x-python",
   "name": "python",
   "nbconvert_exporter": "python",
   "pygments_lexer": "ipython3",
   "version": "3.9.12"
  }
 },
 "nbformat": 4,
 "nbformat_minor": 4
}
