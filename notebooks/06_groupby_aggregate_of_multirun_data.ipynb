{
 "cells": [
  {
   "cell_type": "markdown",
   "metadata": {},
   "source": [
    "# Using Groupby-Aggregate to Compose Multi-Run Datasets: Thicket Tutorial\n",
    "\n",
    "Thicket is a python-based toolkit for Exploratory Data Analysis (EDA) of parallel performance data that enables performance optimization and understanding of applications’ performance on supercomputers. It bridges the performance tool gap between being able to consider only a single instance of a simulation run (e.g., single platform, single measurement tool, or single scale) and finding actionable insights in multi-dimensional, multi-scale, multi-architecture, and multi-tool performance datasets.\n",
    "\n",
    "**NOTE: An interactive version of this notebook is available in the Binder environment.**\n",
    "\n",
    "[![Binder](https://mybinder.org/badge_logo.svg)](https://mybinder.org/v2/gh/llnl/thicket-tutorial/develop)\n",
    "\n",
    "***\n",
    "\n",
    "## 1. Import Necessary Packages"
   ]
  },
  {
   "cell_type": "code",
   "execution_count": null,
   "metadata": {},
   "outputs": [],
   "source": [
    "from glob import glob\n",
    "import numpy as np\n",
    "from IPython.display import display\n",
    "from IPython.display import HTML\n",
    "\n",
    "import thicket as th\n",
    "\n",
    "display(HTML(\"<style>.container { width:80% !important; }</style>\"))"
   ]
  },
  {
   "cell_type": "code",
   "execution_count": null,
   "id": "6586fbfb",
   "metadata": {
    "execution": {
     "iopub.execute_input": "2024-03-26T22:19:31.397846Z",
     "iopub.status.busy": "2024-03-26T22:19:31.397645Z",
     "iopub.status.idle": "2024-03-26T22:19:31.400418Z",
     "shell.execute_reply": "2024-03-26T22:19:31.400126Z"
    },
    "papermill": {
     "duration": 0.007031,
     "end_time": "2024-03-26T22:19:31.401094",
     "exception": false,
     "start_time": "2024-03-26T22:19:31.394063",
     "status": "completed"
    },
    "tags": []
   },
   "outputs": [],
   "source": [
    "# Disable the Pandas 3 Future Warnings for now\n",
    "import warnings\n",
    "warnings.filterwarnings(\"ignore\", category=FutureWarning) "
   ]
  },
  {
   "cell_type": "markdown",
   "metadata": {},
   "source": [
    "## 2. Define Dataset Paths and Names\n",
    "\n",
    "In this example, we load two repeat runs generated on lassen. We can use glob to find all of the caliper files in a given directory."
   ]
  },
  {
   "cell_type": "code",
   "execution_count": null,
   "metadata": {},
   "outputs": [],
   "source": [
    "data = glob(\"../data/lassen/clang10.0.1_nvcc10.2.89_1048576/**/*.cali\", recursive=True)\n",
    "tk = th.Thicket.from_caliperreader(data)"
   ]
  },
  {
   "cell_type": "markdown",
   "metadata": {},
   "source": [
    "## 3. Groupby\n",
    "\n",
    "Groupby the unique combinations of `variant` and `tuning` from the metadata table. In general, these will be the parameters you varied in your runs.\n",
    "\n",
    "After performing the groupby, we can see that each thicket contains multiple profiles. In order to perform certain composition operations in Thicket, we need to aggregate the performance data (`Thicket.dataframe`)."
   ]
  },
  {
   "cell_type": "code",
   "execution_count": null,
   "metadata": {},
   "outputs": [],
   "source": [
    "gb = tk.groupby([\"variant\", \"tuning\"])"
   ]
  },
  {
   "cell_type": "code",
   "execution_count": null,
   "metadata": {},
   "outputs": [],
   "source": [
    "for key, ttk in gb.items():\n",
    "    print(f\"key {key} contains {len(ttk.profile)} profiles\")"
   ]
  },
  {
   "cell_type": "markdown",
   "metadata": {},
   "source": [
    "## 4. Aggregation"
   ]
  },
  {
   "cell_type": "markdown",
   "metadata": {},
   "source": [
    "Using the `aggregate_thicket` function, we can aggregate each Thicket in the groupby object individually."
   ]
  },
  {
   "cell_type": "code",
   "execution_count": null,
   "metadata": {},
   "outputs": [],
   "source": [
    "gb_agg = {}\n",
    "for key, ttk in gb.items():\n",
    "    gb_agg[key] = gb.aggregate_thicket(ttk, np.mean)\n",
    "\n",
    "display(gb_agg[('Base_CUDA', 'block_128')].dataframe)"
   ]
  },
  {
   "cell_type": "markdown",
   "metadata": {},
   "source": [
    "We can call `agg` to aggregate and create a composed dataframe in one step"
   ]
  },
  {
   "cell_type": "code",
   "execution_count": null,
   "metadata": {},
   "outputs": [],
   "source": [
    "tk_agg = gb.agg(np.mean)\n",
    "\n",
    "display(tk_agg.dataframe)"
   ]
  }
 ],
 "metadata": {
  "kernelspec": {
   "display_name": "Python 3",
   "language": "python",
   "name": "python3"
  },
  "language_info": {
   "codemirror_mode": {
    "name": "ipython",
    "version": 3
   },
   "file_extension": ".py",
   "mimetype": "text/x-python",
   "name": "python",
   "nbconvert_exporter": "python",
   "pygments_lexer": "ipython3",
   "version": "3.9.12"
  },
  "vscode": {
   "interpreter": {
    "hash": "e9b2a95c73c2c3cbd2385f2b17bb401a2882e839041a509387bd5d08c5b62925"
   }
  }
 },
 "nbformat": 4,
 "nbformat_minor": 4
}
