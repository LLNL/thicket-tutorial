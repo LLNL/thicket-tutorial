{
 "cells": [
  {
   "cell_type": "code",
   "execution_count": 1,
   "metadata": {},
   "outputs": [
    {
     "data": {
      "text/html": [
       "<style>.container { width:80% !important; }</style>"
      ],
      "text/plain": [
       "<IPython.core.display.HTML object>"
      ]
     },
     "metadata": {},
     "output_type": "display_data"
    }
   ],
   "source": [
    "import sys\n",
    "\n",
    "import matplotlib.pyplot as plt\n",
    "import pandas as pd\n",
    "from IPython.display import display\n",
    "from IPython.display import HTML\n",
    "\n",
    "import thicket as th\n",
    "from thicket.model_extrap import Modeling\n",
    "\n",
    "display(HTML(\"<style>.container { width:80% !important; }</style>\"))\n",
    "\n",
    "#data = \"../data/mpi_scaling_cali\"\n",
    "data = \"../../data/LULESH/weak\"\n",
    "t_ens = th.Thicket.from_caliperreader(data)"
   ]
  },
  {
   "cell_type": "code",
   "execution_count": 2,
   "metadata": {},
   "outputs": [],
   "source": [
    "#t_ens.metadata[\"jobsize\"]"
   ]
  },
  {
   "cell_type": "code",
   "execution_count": 3,
   "metadata": {},
   "outputs": [
    {
     "name": "stdout",
     "output_type": "stream",
     "text": [
      "self.param_name: jobsize\n",
      "coordinates: [Coordinate(125.0,), Coordinate(343.0,), Coordinate(216.0,), Coordinate(8.0,), Coordinate(27.0,), Coordinate(64.0,)]\n",
      "len coordinates: 6\n",
      "Callpaths: [Callpath(main), Callpath(CommRecv), Callpath(CommSBN), Callpath(CommSend), Callpath(lulesh.cycle), Callpath(LagrangeLeapFrog), Callpath(CalcTimeConstraintsForElems), Callpath(LagrangeElements), Callpath(ApplyMaterialPropertiesForElems), Callpath(EvalEOSForElems), Callpath(CalcEnergyForElems), Callpath(CalcLagrangeElements), Callpath(CalcKinematicsForElems), Callpath(CalcQForElems), Callpath(CalcMonotonicQForElems), Callpath(CommMonoQ), Callpath(LagrangeNodal), Callpath(CalcForceForNodes), Callpath(CalcVolumeForceForElems), Callpath(CalcHourglassControlForElems), Callpath(CalcFBHourglassForceForElems), Callpath(IntegrateStressForElems), Callpath(CommSyncPosVel), Callpath(TimeIncrement)]\n",
      "Metrics: [Metric(Avg time/rank), Metric(Total time)]\n",
      "DEBUG: (125.0,) main Avg time/rank [225.599423, 225.552587, 239.08892, 227.85903, 227.986194]\n",
      "DEBUG: (125.0,) main Total time [28199.927934, 28194.073436, 29886.115015, 28482.378749, 28498.274307]\n",
      "DEBUG: (125.0,) CommRecv Avg time/rank [0.000516, 0.000522, 0.000536, 0.00054, 0.000514, 0.037855, 0.036578, 0.035469, 0.03649, 0.036191, 0.074236, 0.07364, 0.073006, 0.073224, 0.073951, 0.021006, 0.021291, 0.030589, 0.029518, 0.025062]\n",
      "DEBUG: (125.0,) CommRecv Total time [0.064517, 0.065231, 0.066967, 0.06751, 0.064275, 4.731851, 4.572269, 4.433607, 4.561266, 4.523825, 9.2795, 9.205054, 9.125721, 9.15303, 9.243917, 2.625746, 2.661368, 3.823661, 3.689798, 3.132726]\n",
      "DEBUG: (125.0,) CommSBN Avg time/rank [0.001049, 0.001145, 0.001435, 0.001317, 0.000998, 1.215924, 1.217738, 2.931917, 1.773081, 1.436644]\n",
      "DEBUG: (125.0,) CommSBN Total time [0.131069, 0.143112, 0.179377, 0.164657, 0.124783, 151.990444, 152.2173, 366.489652, 221.635122, 179.580463]\n",
      "DEBUG: (125.0,) CommSend Avg time/rank [0.003884, 0.003648, 0.003962, 0.004237, 0.003879, 3.247468, 3.387991, 5.795919, 3.641037, 3.6532, 7.885903, 7.879222, 11.941693, 8.696303, 8.292011, 1.820566, 1.80526, 1.985407, 2.136719, 2.173089]\n",
      "DEBUG: (125.0,) CommSend Total time [0.485485, 0.455948, 0.495292, 0.529658, 0.484872, 405.933456, 423.498867, 724.489926, 455.129616, 456.650044, 985.737891, 984.902771, 1492.711584, 1087.037853, 1036.501345, 227.57079, 225.657493, 248.175857, 267.089915, 271.636182]\n",
      "DEBUG: (125.0,) lulesh.cycle Avg time/rank [225.582385, 225.535746, 239.070733, 227.840664, 227.969308]\n",
      "DEBUG: (125.0,) lulesh.cycle Total time [28197.798124, 28191.96828, 29883.84163, 28480.082964, 28496.163459]\n",
      "DEBUG: (125.0,) LagrangeLeapFrog Avg time/rank [199.654042, 199.608446, 210.332901, 202.504732, 201.316095]\n",
      "DEBUG: (125.0,) LagrangeLeapFrog Total time [24956.75529, 24951.055807, 26291.612627, 25313.09147, 25164.511936]\n",
      "DEBUG: (125.0,) CalcTimeConstraintsForElems Avg time/rank [1.005404, 0.995824, 0.994114, 1.003001, 0.994923]\n",
      "DEBUG: (125.0,) CalcTimeConstraintsForElems Total time [125.675519, 124.478056, 124.264197, 125.375079, 124.365315]\n",
      "DEBUG: (125.0,) LagrangeElements Avg time/rank [70.555437, 70.544082, 72.665444, 70.96828, 70.789457]\n",
      "DEBUG: (125.0,) LagrangeElements Total time [8819.429595, 8818.010297, 9083.180501, 8871.035008, 8848.682109]\n",
      "DEBUG: (125.0,) ApplyMaterialPropertiesForElems Avg time/rank [26.704526, 26.594274, 26.357448, 26.630786, 26.527896]\n",
      "DEBUG: (125.0,) ApplyMaterialPropertiesForElems Total time [3338.0658, 3324.284297, 3294.680984, 3328.848292, 3315.986938]\n",
      "DEBUG: (125.0,) EvalEOSForElems Avg time/rank [25.969053, 25.858272, 25.660651, 25.897415, 25.799111]\n",
      "DEBUG: (125.0,) EvalEOSForElems Total time [3246.131608, 3232.283967, 3207.581423, 3237.176931, 3224.888898]\n",
      "DEBUG: (125.0,) CalcEnergyForElems Avg time/rank [17.367946, 17.249632, 17.135033, 17.296849, 17.216803]\n",
      "DEBUG: (125.0,) CalcEnergyForElems Total time [2170.993268, 2156.204046, 2141.879134, 2162.106118, 2152.100381]\n",
      "DEBUG: (125.0,) CalcLagrangeElements Avg time/rank [21.150404, 21.123518, 21.127555, 21.11969, 21.093058]\n",
      "DEBUG: (125.0,) CalcLagrangeElements Total time [2643.80045, 2640.439714, 2640.944408, 2639.961235, 2636.632275]\n",
      "DEBUG: (125.0,) CalcKinematicsForElems Avg time/rank [20.307209, 20.300241, 20.314858, 20.296963, 20.278018]\n",
      "DEBUG: (125.0,) CalcKinematicsForElems Total time [2538.401161, 2537.530087, 2539.357251, 2537.120325, 2534.752206]\n",
      "DEBUG: (125.0,) CalcQForElems Avg time/rank [22.443198, 22.56886, 24.925495, 22.960778, 22.910889]\n",
      "DEBUG: (125.0,) CalcQForElems Total time [2805.399801, 2821.107496, 3115.686877, 2870.097194, 2863.861102]\n",
      "DEBUG: (125.0,) CalcMonotonicQForElems Avg time/rank [5.660372, 5.632705, 5.439262, 5.646675, 5.576736]\n",
      "DEBUG: (125.0,) CalcMonotonicQForElems Total time [707.546511, 704.088108, 679.907763, 705.834339, 697.091981]\n",
      "DEBUG: (125.0,) CommMonoQ Avg time/rank [0.867867, 0.866551, 1.042474, 0.989193, 0.987998]\n",
      "DEBUG: (125.0,) CommMonoQ Total time [108.483357, 108.318917, 130.309242, 123.649172, 123.499785]\n",
      "DEBUG: (125.0,) LagrangeNodal Avg time/rank [128.079655, 128.054428, 136.659523, 130.519666, 129.517707]\n",
      "DEBUG: (125.0,) LagrangeNodal Total time [16009.956906, 16006.803511, 17082.440384, 16314.95827, 16189.713375]\n",
      "DEBUG: (125.0,) CalcForceForNodes Avg time/rank [121.702902, 121.763456, 129.248894, 123.460945, 122.916658]\n",
      "DEBUG: (125.0,) CalcForceForNodes Total time [15212.862766, 15220.431946, 16156.111705, 15432.618077, 15364.582247]\n",
      "DEBUG: (125.0,) CalcVolumeForceForElems Avg time/rank [111.571534, 111.665415, 113.360922, 111.960984, 112.163513]\n",
      "DEBUG: (125.0,) CalcVolumeForceForElems Total time [13946.441805, 13958.176921, 14170.115307, 13995.123014, 14020.439115]\n",
      "DEBUG: (125.0,) CalcHourglassControlForElems Avg time/rank [92.602452, 92.68539, 94.362635, 92.947427, 93.174508]\n",
      "DEBUG: (125.0,) CalcHourglassControlForElems Total time [11575.30656, 11585.673788, 11795.329421, 11618.428361, 11646.813478]\n",
      "DEBUG: (125.0,) CalcFBHourglassForceForElems Avg time/rank [33.454085, 33.339082, 33.37378, 33.396033, 33.477562]\n",
      "DEBUG: (125.0,) CalcFBHourglassForceForElems Total time [4181.760573, 4167.385222, 4171.722557, 4174.504128, 4184.695312]\n",
      "DEBUG: (125.0,) IntegrateStressForElems Avg time/rank [17.808866, 17.807863, 17.838116, 17.825887, 17.81671]\n",
      "DEBUG: (125.0,) IntegrateStressForElems Total time [2226.10825, 2225.982821, 2229.764512, 2228.235908, 2227.088807]\n",
      "DEBUG: (125.0,) CommSyncPosVel Avg time/rank [1.010848, 0.919768, 2.23403, 1.669073, 1.095684]\n",
      "DEBUG: (125.0,) CommSyncPosVel Total time [126.355992, 114.97094, 279.253781, 208.63413, 136.960552]\n",
      "DEBUG: (125.0,) TimeIncrement Avg time/rank [25.910981, 25.910014, 28.7206, 25.318687, 26.635909]\n",
      "DEBUG: (125.0,) TimeIncrement Total time [3238.872632, 3238.751738, 3590.075005, 3164.835918, 3329.488672]\n",
      "DEBUG: (343.0,) main Avg time/rank [347.972237, 345.985396, 346.195768, 345.941379, 346.316276]\n",
      "DEBUG: (343.0,) main Total time [119354.477298, 118672.990981, 118745.14829, 118657.892985, 118786.482727]\n",
      "DEBUG: (343.0,) CommRecv Avg time/rank [0.000546, 0.000545, 0.000559, 0.000551, 0.000547, 0.062549, 0.06419, 0.065117, 0.065657, 0.065949, 0.120323, 0.121279, 0.121309, 0.120889, 0.120691, 0.03437, 0.036434, 0.034178, 0.034065, 0.033944]\n",
      "DEBUG: (343.0,) CommRecv Total time [0.187381, 0.186977, 0.191569, 0.189063, 0.187691, 21.454351, 22.017297, 22.3353, 22.520234, 22.620607, 41.270795, 41.598543, 41.60909, 41.464919, 41.397097, 11.788943, 12.496702, 11.723212, 11.684212, 11.642941]\n",
      "DEBUG: (343.0,) CommSBN Avg time/rank [0.001291, 0.001165, 0.001191, 0.001157, 0.001318, 0.76231, 0.730622, 0.642206, 0.626921, 0.658528]\n",
      "DEBUG: (343.0,) CommSBN Total time [0.442821, 0.399649, 0.408465, 0.396817, 0.451947, 261.472485, 250.603507, 220.276493, 215.033797, 225.875081]\n",
      "DEBUG: (343.0,) CommSend Avg time/rank [0.004732, 0.004719, 0.005054, 0.004845, 0.004892, 3.338629, 3.171448, 3.145839, 3.122446, 3.069683, 10.478892, 9.924965, 9.770194, 9.668905, 9.606505, 3.276797, 3.442875, 3.153564, 3.276035, 3.1982]\n",
      "DEBUG: (343.0,) CommSend Total time [1.622928, 1.618669, 1.733641, 1.661896, 1.67795, 1145.149904, 1087.806795, 1079.022647, 1070.999086, 1052.901168, 3594.260096, 3404.263028, 3351.176583, 3316.434319, 3295.031342, 1123.941517, 1180.905992, 1081.672447, 1123.679982, 1096.982613]\n",
      "DEBUG: (343.0,) lulesh.cycle Avg time/rank [347.952603, 345.966708, 346.176507, 345.92233, 346.29665]\n",
      "DEBUG: (343.0,) lulesh.cycle Total time [119347.742774, 118666.581008, 118738.542018, 118651.359041, 118779.750876]\n",
      "DEBUG: (343.0,) LagrangeLeapFrog Avg time/rank [299.543411, 298.08098, 297.738271, 297.913391, 297.946221]\n",
      "DEBUG: (343.0,) LagrangeLeapFrog Total time [102743.39, 102241.776162, 102124.227059, 102184.293278, 102195.553762]\n",
      "DEBUG: (343.0,) CalcTimeConstraintsForElems Avg time/rank [1.442816, 1.439766, 1.444412, 1.441085, 1.445848]\n",
      "DEBUG: (343.0,) CalcTimeConstraintsForElems Total time [494.886008, 493.839772, 495.433471, 494.292189, 495.925819]\n",
      "DEBUG: (343.0,) LagrangeElements Avg time/rank [103.654775, 103.596325, 103.726045, 103.624132, 103.688116]\n",
      "DEBUG: (343.0,) LagrangeElements Total time [35553.587953, 35533.5396, 35578.033479, 35543.077167, 35565.023705]\n",
      "DEBUG: (343.0,) ApplyMaterialPropertiesForElems Avg time/rank [39.679307, 39.604099, 39.759671, 39.673582, 39.777614]\n",
      "DEBUG: (343.0,) ApplyMaterialPropertiesForElems Total time [13610.002314, 13584.205841, 13637.566985, 13608.03862, 13643.721553]\n",
      "DEBUG: (343.0,) EvalEOSForElems Avg time/rank [38.526796, 38.441507, 38.589852, 38.509769, 38.603224]\n",
      "DEBUG: (343.0,) EvalEOSForElems Total time [13214.691019, 13185.43695, 13236.319348, 13208.850877, 13240.905737]\n",
      "DEBUG: (343.0,) CalcEnergyForElems Avg time/rank [25.523485, 25.451338, 25.570686, 25.49474, 25.59549]\n",
      "DEBUG: (343.0,) CalcEnergyForElems Total time [8754.555524, 8729.808789, 8770.745362, 8744.69598, 8779.252926]\n",
      "DEBUG: (343.0,) CalcLagrangeElements Avg time/rank [31.577519, 31.61733, 31.649452, 31.636409, 31.636229]\n",
      "DEBUG: (343.0,) CalcLagrangeElements Total time [10831.089124, 10844.744181, 10855.762145, 10851.288157, 10851.226678]\n",
      "DEBUG: (343.0,) CalcKinematicsForElems Avg time/rank [30.270721, 30.288356, 30.295252, 30.280722, 30.280915]\n",
      "DEBUG: (343.0,) CalcKinematicsForElems Total time [10382.857269, 10388.906216, 10391.271489, 10386.287661, 10386.35387]\n",
      "DEBUG: (343.0,) CalcQForElems Avg time/rank [31.999717, 31.977755, 31.915088, 31.917973, 31.876422]\n",
      "DEBUG: (343.0,) CalcQForElems Total time [10975.902882, 10968.370099, 10946.87526, 10947.864716, 10933.612824]\n",
      "DEBUG: (343.0,) CalcMonotonicQForElems Avg time/rank [8.565859, 8.678087, 8.723898, 8.726859, 8.738241]\n",
      "DEBUG: (343.0,) CalcMonotonicQForElems Total time [2938.089538, 2976.583787, 2992.29711, 2993.312779, 2997.21666]\n",
      "DEBUG: (343.0,) CommMonoQ Avg time/rank [0.840662, 0.868457, 0.800952, 0.803553, 0.793666]\n",
      "DEBUG: (343.0,) CommMonoQ Total time [288.34713, 297.880904, 274.726587, 275.61859, 272.227453]\n",
      "DEBUG: (343.0,) LagrangeNodal Avg time/rank [194.42562, 193.024561, 192.547506, 192.828053, 192.792132]\n",
      "DEBUG: (343.0,) LagrangeNodal Total time [66687.987623, 66207.424416, 66043.794581, 66140.02234, 66127.701346]\n",
      "DEBUG: (343.0,) CalcForceForNodes Avg time/rank [183.629742, 182.461008, 182.128571, 182.310944, 182.304498]\n",
      "DEBUG: (343.0,) CalcForceForNodes Total time [62985.001534, 62584.1257, 62470.099944, 62532.65363, 62530.44265]\n",
      "DEBUG: (343.0,) CalcVolumeForceForElems Avg time/rank [170.812707, 170.204426, 170.138302, 170.438348, 170.432119]\n",
      "DEBUG: (343.0,) CalcVolumeForceForElems Total time [58588.758566, 58380.118086, 58357.437537, 58460.353361, 58458.216852]\n",
      "DEBUG: (343.0,) CalcHourglassControlForElems Avg time/rank [143.651158, 143.029381, 142.962594, 143.284081, 143.234819]\n",
      "DEBUG: (343.0,) CalcHourglassControlForElems Total time [49272.347281, 49059.07783, 49036.169755, 49146.439727, 49129.542883]\n",
      "DEBUG: (343.0,) CalcFBHourglassForceForElems Avg time/rank [47.517663, 47.644455, 47.521179, 47.534562, 47.538689]\n",
      "DEBUG: (343.0,) CalcFBHourglassForceForElems Total time [16298.558469, 16342.04818, 16299.764428, 16304.354881, 16305.770287]\n",
      "DEBUG: (343.0,) IntegrateStressForElems Avg time/rank [25.161156, 25.177418, 25.161354, 25.164902, 25.173903]\n",
      "DEBUG: (343.0,) IntegrateStressForElems Total time [8630.276659, 8635.854349, 8630.34453, 8631.561416, 8634.648637]\n",
      "DEBUG: (343.0,) CommSyncPosVel Avg time/rank [2.078167, 1.545222, 1.476396, 1.440524, 1.450976]\n",
      "DEBUG: (343.0,) CommSyncPosVel Total time [712.811152, 530.011283, 506.403995, 494.09974, 497.68475]\n",
      "DEBUG: (343.0,) TimeIncrement Avg time/rank [48.384443, 47.861063, 48.413641, 47.98423, 48.325693]\n",
      "DEBUG: (343.0,) TimeIncrement Total time [16595.863798, 16416.344777, 16605.878777, 16458.590972, 16575.712684]\n",
      "DEBUG: (216.0,) main Avg time/rank [298.56898, 298.028455, 298.170671, 300.028931, 298.560357]\n",
      "DEBUG: (216.0,) main Total time [64490.899742, 64374.146315, 64404.865005, 64806.249056, 64489.037076]\n",
      "DEBUG: (216.0,) CommRecv Avg time/rank [0.000567, 0.000554, 0.000553, 0.000566, 0.000558, 0.055356, 0.055427, 0.055976, 0.053487, 0.054294, 0.100095, 0.099687, 0.099394, 0.098695, 0.098333, 0.029016, 0.028706, 0.029365, 0.034681, 0.029464]\n",
      "DEBUG: (216.0,) CommRecv Total time [0.122575, 0.119562, 0.119353, 0.12218, 0.120463, 11.956976, 11.972272, 12.090901, 11.553206, 11.727498, 21.620473, 21.532311, 21.469009, 21.318024, 21.239988, 6.267544, 6.20042, 6.342838, 7.491099, 6.364263]\n",
      "DEBUG: (216.0,) CommSBN Avg time/rank [0.001573, 0.001326, 0.001484, 0.001512, 0.001376, 0.746951, 0.827487, 0.586304, 1.119461, 0.6272]\n",
      "DEBUG: (216.0,) CommSBN Total time [0.339688, 0.286482, 0.320487, 0.326693, 0.297289, 161.341389, 178.737283, 126.641578, 241.803592, 135.475286]\n",
      "DEBUG: (216.0,) CommSend Avg time/rank [0.005336, 0.00531, 0.005373, 0.005227, 0.005277, 2.2863, 2.114322, 2.045924, 2.169274, 2.240279, 4.948537, 4.768348, 4.946024, 7.883038, 6.05903, 2.973104, 2.667246, 2.795101, 2.869347, 2.92065]\n",
      "DEBUG: (216.0,) CommSend Total time [1.152675, 1.147056, 1.160486, 1.128932, 1.139891, 493.840804, 456.693653, 441.919648, 468.563113, 483.900258, 1068.884022, 1029.963158, 1068.341145, 1702.736216, 1308.750494, 642.190473, 576.125084, 603.741876, 619.77885, 630.860439]\n",
      "DEBUG: (216.0,) lulesh.cycle Avg time/rank [298.548646, 298.008578, 298.150418, 300.008906, 298.5406]\n",
      "DEBUG: (216.0,) lulesh.cycle Total time [64486.50747, 64369.852904, 64400.490257, 64801.923608, 64484.769503]\n",
      "DEBUG: (216.0,) LagrangeLeapFrog Avg time/rank [257.322382, 256.446755, 256.712169, 260.020358, 257.022976]\n",
      "DEBUG: (216.0,) LagrangeLeapFrog Total time [55581.634561, 55392.499054, 55449.828595, 56164.39735, 55516.962821]\n",
      "DEBUG: (216.0,) CalcTimeConstraintsForElems Avg time/rank [1.252609, 1.238399, 1.246035, 1.254199, 1.243239]\n",
      "DEBUG: (216.0,) CalcTimeConstraintsForElems Total time [270.563578, 267.494227, 269.143584, 270.906976, 268.539692]\n",
      "DEBUG: (216.0,) LagrangeElements Avg time/rank [90.32312, 90.072379, 90.244642, 90.355812, 90.0877]\n",
      "DEBUG: (216.0,) LagrangeElements Total time [19509.793908, 19455.633951, 19492.842618, 19516.855442, 19458.943221]\n",
      "DEBUG: (216.0,) ApplyMaterialPropertiesForElems Avg time/rank [34.961286, 34.812821, 34.917177, 35.125213, 34.83505]\n",
      "DEBUG: (216.0,) ApplyMaterialPropertiesForElems Total time [7551.637812, 7519.569419, 7542.110173, 7587.046001, 7524.370894]\n",
      "DEBUG: (216.0,) EvalEOSForElems Avg time/rank [33.925976, 33.778603, 33.875286, 34.095464, 33.805359]\n",
      "DEBUG: (216.0,) EvalEOSForElems Total time [7328.010768, 7296.178344, 7317.061669, 7364.620323, 7301.957567]\n",
      "DEBUG: (216.0,) CalcEnergyForElems Avg time/rank [22.471307, 22.356631, 22.433103, 22.557239, 22.359567]\n",
      "DEBUG: (216.0,) CalcEnergyForElems Total time [4853.802212, 4829.032292, 4845.550202, 4872.363668, 4829.666554]\n",
      "DEBUG: (216.0,) CalcLagrangeElements Avg time/rank [27.393695, 27.413366, 27.395158, 27.332535, 27.318585]\n",
      "DEBUG: (216.0,) CalcLagrangeElements Total time [5917.038063, 5921.287087, 5917.354115, 5903.827651, 5900.814433]\n",
      "DEBUG: (216.0,) CalcKinematicsForElems Avg time/rank [26.220091, 26.209529, 26.199676, 26.20454, 26.156073]\n",
      "DEBUG: (216.0,) CalcKinematicsForElems Total time [5663.539557, 5661.258177, 5659.130073, 5660.180667, 5649.711732]\n",
      "DEBUG: (216.0,) CalcQForElems Avg time/rank [27.617384, 27.499256, 27.582667, 27.549155, 27.587566]\n",
      "DEBUG: (216.0,) CalcQForElems Total time [5965.355026, 5939.8393, 5957.856135, 5950.617385, 5958.914238]\n",
      "DEBUG: (216.0,) CalcMonotonicQForElems Avg time/rank [7.685384, 7.720083, 7.777798, 7.635063, 7.638712]\n",
      "DEBUG: (216.0,) CalcMonotonicQForElems Total time [1660.042963, 1667.537979, 1680.004263, 1649.173689, 1649.961857]\n",
      "DEBUG: (216.0,) CommMonoQ Avg time/rank [0.835087, 0.855986, 0.928166, 0.880771, 0.878226]\n",
      "DEBUG: (216.0,) CommMonoQ Total time [180.378809, 184.892987, 200.48388, 190.246619, 189.696817]\n",
      "DEBUG: (216.0,) LagrangeNodal Avg time/rank [165.7291, 165.118493, 165.20459, 168.393103, 165.67513]\n",
      "DEBUG: (216.0,) LagrangeNodal Total time [35797.4856, 35665.594438, 35684.191378, 36372.910285, 35785.827985]\n",
      "DEBUG: (216.0,) CalcForceForNodes Avg time/rank [156.109946, 155.989114, 155.699664, 158.738732, 156.116344]\n",
      "DEBUG: (216.0,) CalcForceForNodes Total time [33719.748411, 33693.648597, 33631.127527, 34287.566063, 33721.130215]\n",
      "DEBUG: (216.0,) CalcVolumeForceForElems Avg time/rank [148.994678, 148.975917, 148.803919, 148.315672, 148.006169]\n",
      "DEBUG: (216.0,) CalcVolumeForceForElems Total time [32182.850397, 32178.798166, 32141.646606, 32036.185179, 31969.332478]\n",
      "DEBUG: (216.0,) CalcHourglassControlForElems Avg time/rank [125.599176, 125.635614, 125.441647, 124.853369, 124.609362]\n",
      "DEBUG: (216.0,) CalcHourglassControlForElems Total time [27129.421964, 27137.292529, 27095.395724, 26968.327807, 26915.62211]\n",
      "DEBUG: (216.0,) CalcFBHourglassForceForElems Avg time/rank [40.967631, 40.961687, 40.841231, 41.056119, 40.853456]\n",
      "DEBUG: (216.0,) CalcFBHourglassForceForElems Total time [8849.008359, 8847.724299, 8821.705823, 8868.121807, 8824.34651]\n",
      "DEBUG: (216.0,) IntegrateStressForElems Avg time/rank [21.518418, 21.479853, 21.502025, 21.608841, 21.548967]\n",
      "DEBUG: (216.0,) IntegrateStressForElems Total time [4647.97824, 4639.64817, 4644.437475, 4667.509746, 4654.576885]\n",
      "DEBUG: (216.0,) CommSyncPosVel Avg time/rank [1.578072, 1.514444, 1.574138, 1.984912, 1.520061]\n",
      "DEBUG: (216.0,) CommSyncPosVel Total time [340.863651, 327.120004, 340.013817, 428.74093, 328.333246]\n",
      "DEBUG: (216.0,) TimeIncrement Avg time/rank [41.205205, 41.540945, 41.417229, 39.967545, 41.496649]\n",
      "DEBUG: (216.0,) TimeIncrement Total time [8900.32418, 8972.84421, 8946.1215, 8632.989814, 8963.276092]\n",
      "DEBUG: (8.0,) main Avg time/rank [28.002851, 28.023021, 28.080062, 28.082287, 28.137645]\n",
      "DEBUG: (8.0,) main Total time [224.022809, 224.184167, 224.640499, 224.658295, 225.101159]\n",
      "DEBUG: (8.0,) CommRecv Avg time/rank [1.2e-05, 1.3e-05, 1.4e-05, 1.2e-05, 1.6e-05, 0.003658, 0.003769, 0.003914, 0.003693, 0.003873, 0.005366, 0.005423, 0.005465, 0.00548, 0.005394, 0.005007, 0.005008, 0.005324, 0.004988, 0.005484]\n",
      "DEBUG: (8.0,) CommRecv Total time [9.7e-05, 0.000107, 0.000116, 9.9e-05, 0.000127, 0.029265, 0.030151, 0.031308, 0.029545, 0.030988, 0.042924, 0.043384, 0.04372, 0.043836, 0.043154, 0.040057, 0.040065, 0.042589, 0.039907, 0.043873]\n",
      "DEBUG: (8.0,) CommSBN Avg time/rank [1.7e-05, 1.6e-05, 0.001641, 0.00167, 2e-05, 1.113869, 1.209921, 1.187839, 1.283112, 1.240911]\n",
      "DEBUG: (8.0,) CommSBN Total time [0.00014, 0.000128, 0.013125, 0.013362, 0.000158, 8.91095, 9.679369, 9.502714, 10.264895, 9.927289]\n",
      "DEBUG: (8.0,) CommSend Avg time/rank [0.001557, 0.001432, 0.001282, 0.001755, 0.001695, 0.144743, 0.144245, 0.143774, 0.144536, 0.144779, 0.2039, 0.204747, 0.203969, 0.204135, 0.20627, 0.175668, 0.183804, 0.17665, 0.171572, 0.178074]\n",
      "DEBUG: (8.0,) CommSend Total time [0.012456, 0.011456, 0.010256, 0.014041, 0.013561, 1.157942, 1.153957, 1.150193, 1.156289, 1.158228, 1.631197, 1.637973, 1.63175, 1.633078, 1.650158, 1.405345, 1.470433, 1.413199, 1.372579, 1.424591]\n",
      "DEBUG: (8.0,) lulesh.cycle Avg time/rank [27.991527, 28.012435, 28.066515, 28.068594, 28.126423]\n",
      "DEBUG: (8.0,) lulesh.cycle Total time [223.932215, 224.099477, 224.532121, 224.54875, 225.011385]\n",
      "DEBUG: (8.0,) LagrangeLeapFrog Avg time/rank [25.975264, 25.919901, 26.010845, 26.057977, 26.156484]\n",
      "DEBUG: (8.0,) LagrangeLeapFrog Total time [207.802115, 207.359209, 208.086757, 208.463819, 209.251876]\n",
      "DEBUG: (8.0,) CalcTimeConstraintsForElems Avg time/rank [0.226821, 0.231196, 0.226927, 0.226609, 0.227465]\n",
      "DEBUG: (8.0,) CalcTimeConstraintsForElems Total time [1.814564, 1.849566, 1.815416, 1.812872, 1.819723]\n",
      "DEBUG: (8.0,) LagrangeElements Avg time/rank [9.423875, 9.461494, 9.436922, 9.440381, 9.441283]\n",
      "DEBUG: (8.0,) LagrangeElements Total time [75.391004, 75.691955, 75.495378, 75.523049, 75.530267]\n",
      "DEBUG: (8.0,) ApplyMaterialPropertiesForElems Avg time/rank [5.196487, 5.248642, 5.210102, 5.194477, 5.228786]\n",
      "DEBUG: (8.0,) ApplyMaterialPropertiesForElems Total time [41.571896, 41.989133, 41.680819, 41.555815, 41.830289]\n",
      "DEBUG: (8.0,) EvalEOSForElems Avg time/rank [5.124587, 5.176245, 5.138537, 5.12248, 5.156096]\n",
      "DEBUG: (8.0,) EvalEOSForElems Total time [40.996693, 41.409957, 41.108296, 40.979844, 41.248769]\n",
      "DEBUG: (8.0,) CalcEnergyForElems Avg time/rank [3.666203, 3.713578, 3.688593, 3.667335, 3.690219]\n",
      "DEBUG: (8.0,) CalcEnergyForElems Total time [29.329625, 29.708624, 29.508745, 29.338682, 29.52175]\n",
      "DEBUG: (8.0,) CalcLagrangeElements Avg time/rank [1.954461, 1.948548, 1.948864, 1.952151, 1.956426]\n",
      "DEBUG: (8.0,) CalcLagrangeElements Total time [15.635685, 15.588381, 15.590916, 15.617206, 15.651411]\n",
      "DEBUG: (8.0,) CalcKinematicsForElems Avg time/rank [1.86309, 1.858019, 1.858272, 1.862127, 1.864879]\n",
      "DEBUG: (8.0,) CalcKinematicsForElems Total time [14.904716, 14.864154, 14.866177, 14.897017, 14.919036]\n",
      "DEBUG: (8.0,) CalcQForElems Avg time/rank [2.250483, 2.241753, 2.255461, 2.271262, 2.23373]\n",
      "DEBUG: (8.0,) CalcQForElems Total time [18.003864, 17.934025, 18.04369, 18.170098, 17.86984]\n",
      "DEBUG: (8.0,) CalcMonotonicQForElems Avg time/rank [0.623533, 0.61977, 0.624817, 0.623618, 0.622446]\n",
      "DEBUG: (8.0,) CalcMonotonicQForElems Total time [4.988263, 4.958158, 4.998539, 4.988941, 4.979569]\n",
      "DEBUG: (8.0,) CommMonoQ Avg time/rank [0.391321, 0.38864, 0.396095, 0.411315, 0.375971]\n",
      "DEBUG: (8.0,) CommMonoQ Total time [3.13057, 3.109119, 3.168762, 3.290521, 3.007767]\n",
      "DEBUG: (8.0,) LagrangeNodal Avg time/rank [16.320101, 16.222695, 16.342542, 16.386476, 16.483145]\n",
      "DEBUG: (8.0,) LagrangeNodal Total time [130.560811, 129.781556, 130.740334, 131.09181, 131.865163]\n",
      "DEBUG: (8.0,) CalcForceForNodes Avg time/rank [15.449911, 15.332814, 15.463307, 15.486384, 15.603987]\n",
      "DEBUG: (8.0,) CalcForceForNodes Total time [123.599286, 122.662511, 123.706452, 123.891069, 124.831893]\n",
      "DEBUG: (8.0,) CalcVolumeForceForElems Avg time/rank [14.07121, 13.853862, 14.012353, 13.940401, 14.101377]\n",
      "DEBUG: (8.0,) CalcVolumeForceForElems Total time [112.569684, 110.8309, 112.098826, 111.523211, 112.811019]\n",
      "DEBUG: (8.0,) CalcHourglassControlForElems Avg time/rank [10.62472, 10.377144, 10.573947, 10.49462, 10.610735]\n",
      "DEBUG: (8.0,) CalcHourglassControlForElems Total time [84.997756, 83.017152, 84.591578, 83.95696, 84.885884]\n",
      "DEBUG: (8.0,) CalcFBHourglassForceForElems Avg time/rank [5.265054, 5.159514, 5.240561, 5.202122, 5.249072]\n",
      "DEBUG: (8.0,) CalcFBHourglassForceForElems Total time [42.120434, 41.276112, 41.924486, 41.616976, 41.992573]\n",
      "DEBUG: (8.0,) IntegrateStressForElems Avg time/rank [3.352716, 3.380506, 3.342883, 3.350439, 3.394692]\n",
      "DEBUG: (8.0,) IntegrateStressForElems Total time [26.821725, 27.044046, 26.743065, 26.803515, 27.157533]\n",
      "DEBUG: (8.0,) CommSyncPosVel Avg time/rank [0.318838, 0.316052, 0.31387, 0.335119, 0.31968]\n",
      "DEBUG: (8.0,) CommSyncPosVel Total time [2.550704, 2.528416, 2.510957, 2.68095, 2.557441]\n",
      "DEBUG: (8.0,) TimeIncrement Avg time/rank [2.010585, 2.086818, 2.050094, 2.004959, 1.964034]\n",
      "DEBUG: (8.0,) TimeIncrement Total time [16.084679, 16.694546, 16.400755, 16.039673, 15.712274]\n",
      "DEBUG: (27.0,) main Avg time/rank [121.709318, 123.373434, 123.020902, 123.782575, 123.245661]\n",
      "DEBUG: (27.0,) main Total time [3286.151586, 3331.082718, 3321.564357, 3342.129519, 3327.632837]\n",
      "DEBUG: (27.0,) CommRecv Avg time/rank [0.00038, 0.000396, 0.000388, 0.000381, 0.000389, 0.015925, 0.015817, 0.01577, 0.01613, 0.015417, 0.030822, 0.031343, 0.030934, 0.031362, 0.030632, 0.010059, 0.010725, 0.009983, 0.010326, 0.010635]\n",
      "DEBUG: (27.0,) CommRecv Total time [0.010268, 0.010685, 0.010464, 0.010295, 0.010511, 0.429967, 0.427066, 0.425792, 0.435501, 0.416265, 0.832188, 0.846256, 0.835227, 0.846768, 0.827061, 0.271581, 0.289572, 0.269539, 0.278811, 0.287141]\n",
      "DEBUG: (27.0,) CommSBN Avg time/rank [0.00127, 0.001294, 0.000754, 0.000747, 0.001895, 6.209338, 7.423739, 6.97658, 7.822167, 7.305707]\n",
      "DEBUG: (27.0,) CommSBN Total time [0.034288, 0.03494, 0.020355, 0.020174, 0.051154, 167.652127, 200.44096, 188.367672, 211.198504, 197.254084]\n",
      "DEBUG: (27.0,) CommSend Avg time/rank [0.000446, 0.000894, 0.000822, 0.000715, 0.000498, 0.337062, 0.341157, 0.338783, 0.341942, 0.341166, 0.471594, 0.474487, 0.473109, 0.470313, 0.471611, 0.542128, 0.603597, 0.563366, 0.528693, 0.697137]\n",
      "DEBUG: (27.0,) CommSend Total time [0.012042, 0.024138, 0.0222, 0.019297, 0.013458, 9.100662, 9.211237, 9.147128, 9.232447, 9.211472, 12.73303, 12.81115, 12.773931, 12.698443, 12.733505, 14.637461, 16.297119, 15.210889, 14.274721, 18.822695]\n",
      "DEBUG: (27.0,) lulesh.cycle Avg time/rank [121.696054, 123.360427, 123.00791, 123.77024, 123.231809]\n",
      "DEBUG: (27.0,) lulesh.cycle Total time [3285.793461, 3330.731519, 3321.21358, 3341.796473, 3327.258847]\n",
      "DEBUG: (27.0,) LagrangeLeapFrog Avg time/rank [108.06324, 109.747705, 109.353564, 110.499026, 110.02839]\n",
      "DEBUG: (27.0,) LagrangeLeapFrog Total time [2917.70749, 2963.188029, 2952.546221, 2983.473703, 2970.76653]\n",
      "DEBUG: (27.0,) CalcTimeConstraintsForElems Avg time/rank [0.558767, 0.556975, 0.558705, 0.566029, 0.560094]\n",
      "DEBUG: (27.0,) CalcTimeConstraintsForElems Total time [15.086697, 15.038332, 15.085033, 15.28277, 15.122548]\n",
      "DEBUG: (27.0,) LagrangeElements Avg time/rank [39.70963, 39.53118, 39.571847, 39.730393, 39.648922]\n",
      "DEBUG: (27.0,) LagrangeElements Total time [1072.160016, 1067.341854, 1068.439876, 1072.720613, 1070.520894]\n",
      "DEBUG: (27.0,) ApplyMaterialPropertiesForElems Avg time/rank [14.807907, 14.711828, 14.747167, 14.813851, 14.826889]\n",
      "DEBUG: (27.0,) ApplyMaterialPropertiesForElems Total time [399.813493, 397.219362, 398.173519, 399.97398, 400.326008]\n",
      "DEBUG: (27.0,) EvalEOSForElems Avg time/rank [14.452891, 14.354786, 14.391057, 14.455854, 14.464844]\n",
      "DEBUG: (27.0,) EvalEOSForElems Total time [390.228054, 387.579215, 388.558528, 390.308052, 390.550789]\n",
      "DEBUG: (27.0,) CalcEnergyForElems Avg time/rank [9.767071, 9.672364, 9.706109, 9.756281, 9.762187]\n",
      "DEBUG: (27.0,) CalcEnergyForElems Total time [263.710918, 261.153831, 262.064936, 263.419578, 263.579039]\n",
      "DEBUG: (27.0,) CalcLagrangeElements Avg time/rank [10.981209, 10.972642, 10.978072, 10.989809, 10.965334]\n",
      "DEBUG: (27.0,) CalcLagrangeElements Total time [296.49264, 296.261327, 296.407941, 296.724841, 296.064008]\n",
      "DEBUG: (27.0,) CalcKinematicsForElems Avg time/rank [10.567845, 10.559327, 10.567855, 10.569871, 10.553283]\n",
      "DEBUG: (27.0,) CalcKinematicsForElems Total time [285.331814, 285.101839, 285.332098, 285.386512, 284.938631]\n",
      "DEBUG: (27.0,) CalcQForElems Avg time/rank [13.794696, 13.718407, 13.721297, 13.799189, 13.729453]\n",
      "DEBUG: (27.0,) CalcQForElems Total time [372.456794, 370.396976, 370.47501, 372.57811, 370.695239]\n",
      "DEBUG: (27.0,) CalcMonotonicQForElems Avg time/rank [3.048729, 3.062718, 3.025394, 3.092987, 3.061003]\n",
      "DEBUG: (27.0,) CalcMonotonicQForElems Total time [82.315684, 82.693377, 81.685627, 83.510644, 82.647089]\n",
      "DEBUG: (27.0,) CommMonoQ Avg time/rank [3.982921, 3.901103, 3.941831, 3.946028, 3.897563]\n",
      "DEBUG: (27.0,) CommMonoQ Total time [107.538867, 105.32977, 106.429443, 106.542746, 105.234201]\n",
      "DEBUG: (27.0,) LagrangeNodal Avg time/rank [67.786802, 69.651587, 69.214964, 70.19433, 69.811294]\n",
      "DEBUG: (27.0,) LagrangeNodal Total time [1830.243642, 1880.59286, 1868.804025, 1895.246909, 1884.904951]\n",
      "DEBUG: (27.0,) CalcForceForNodes Avg time/rank [64.922833, 66.81429, 66.382775, 67.316863, 66.861414]\n",
      "DEBUG: (27.0,) CalcForceForNodes Total time [1752.916502, 1803.985839, 1792.334938, 1817.555288, 1805.258166]\n",
      "DEBUG: (27.0,) CalcVolumeForceForElems Avg time/rank [57.716306, 58.384035, 58.415051, 58.496021, 58.553434]\n",
      "DEBUG: (27.0,) CalcVolumeForceForElems Total time [1558.340258, 1576.368945, 1577.206381, 1579.392558, 1580.94272]\n",
      "DEBUG: (27.0,) CalcHourglassControlForElems Avg time/rank [46.431116, 47.05966, 47.008464, 47.190965, 47.181387]\n",
      "DEBUG: (27.0,) CalcHourglassControlForElems Total time [1253.640121, 1270.610814, 1269.22854, 1274.156051, 1273.897438]\n",
      "DEBUG: (27.0,) CalcFBHourglassForceForElems Avg time/rank [19.422814, 19.215804, 19.227898, 19.225834, 19.221796]\n",
      "DEBUG: (27.0,) CalcFBHourglassForceForElems Total time [524.415984, 518.826695, 519.153241, 519.097509, 518.988486]\n",
      "DEBUG: (27.0,) IntegrateStressForElems Avg time/rank [10.768355, 10.789553, 10.89274, 10.786235, 10.851199]\n",
      "DEBUG: (27.0,) IntegrateStressForElems Total time [290.745584, 291.317933, 294.10397, 291.228332, 292.982364]\n",
      "DEBUG: (27.0,) CommSyncPosVel Avg time/rank [0.555108, 0.531748, 0.510705, 0.536266, 0.547197]\n",
      "DEBUG: (27.0,) CommSyncPosVel Total time [14.987916, 14.357186, 13.78904, 14.479194, 14.774307]\n",
      "DEBUG: (27.0,) TimeIncrement Avg time/rank [13.6237, 13.603158, 13.644927, 13.261586, 13.193664]\n",
      "DEBUG: (27.0,) TimeIncrement Total time [367.83989, 367.285277, 368.413019, 358.062825, 356.228922]\n",
      "DEBUG: (64.0,) main Avg time/rank [177.710983, 178.093865, 178.165073, 178.266353, 179.096417]\n",
      "DEBUG: (64.0,) main Total time [11373.502922, 11398.007385, 11402.564641, 11409.046603, 11462.170674]\n",
      "DEBUG: (64.0,) CommRecv Avg time/rank [0.000498, 0.000502, 0.000494, 0.000512, 0.000503, 0.029338, 0.028615, 0.028927, 0.030055, 0.02965, 0.052748, 0.051354, 0.05207, 0.05216, 0.052781, 0.015719, 0.015587, 0.015705, 0.015755, 0.015769]\n",
      "DEBUG: (64.0,) CommRecv Total time [0.031865, 0.032102, 0.031622, 0.032739, 0.03221, 1.87762, 1.83133, 1.851311, 1.923498, 1.89759, 3.375859, 3.286676, 3.332459, 3.338223, 3.378007, 1.00603, 0.997546, 1.005145, 1.008336, 1.00924]\n",
      "DEBUG: (64.0,) CommSBN Avg time/rank [0.000495, 0.000677, 0.001019, 0.000976, 0.000937, 2.984891, 3.109923, 3.143853, 2.993307, 3.248972]\n",
      "DEBUG: (64.0,) CommSBN Total time [0.031702, 0.043344, 0.065224, 0.062487, 0.059978, 191.033051, 199.035088, 201.2066, 191.57167, 207.934204]\n",
      "DEBUG: (64.0,) CommSend Avg time/rank [0.001121, 0.001141, 0.001092, 0.000822, 0.001268, 0.78616, 0.752934, 0.759647, 0.723609, 0.763633, 3.559673, 3.668168, 3.640238, 3.427177, 3.694536, 0.935571, 1.123225, 1.036183, 0.918259, 1.198741]\n",
      "DEBUG: (64.0,) CommSend Total time [0.07177, 0.073002, 0.069888, 0.052578, 0.08115, 50.314264, 48.187805, 48.617397, 46.310988, 48.872503, 227.819078, 234.76278, 232.975238, 219.339357, 236.450321, 59.876523, 71.886402, 66.31574, 58.768563, 76.719433]\n",
      "DEBUG: (64.0,) lulesh.cycle Avg time/rank [177.697434, 178.078783, 178.150473, 178.251502, 179.081265]\n",
      "DEBUG: (64.0,) lulesh.cycle Total time [11372.635781, 11397.042081, 11401.630285, 11408.096099, 11461.200946]\n",
      "DEBUG: (64.0,) LagrangeLeapFrog Avg time/rank [156.807479, 157.300869, 157.653439, 157.079167, 158.070271]\n",
      "DEBUG: (64.0,) LagrangeLeapFrog Total time [10035.67864, 10067.255644, 10089.820092, 10053.066693, 10116.497374]\n",
      "DEBUG: (64.0,) CalcTimeConstraintsForElems Avg time/rank [0.784063, 0.793736, 0.789232, 0.793831, 0.791681]\n",
      "DEBUG: (64.0,) CalcTimeConstraintsForElems Total time [50.180046, 50.799136, 50.510818, 50.805182, 50.667589]\n",
      "DEBUG: (64.0,) LagrangeElements Avg time/rank [55.294027, 55.436014, 55.425562, 55.418954, 55.525595]\n",
      "DEBUG: (64.0,) LagrangeElements Total time [3538.817715, 3547.904868, 3547.235976, 3546.81303, 3553.638106]\n",
      "DEBUG: (64.0,) ApplyMaterialPropertiesForElems Avg time/rank [20.535034, 20.611733, 20.57479, 20.650027, 20.646381]\n",
      "DEBUG: (64.0,) ApplyMaterialPropertiesForElems Total time [1314.242197, 1319.150924, 1316.786574, 1321.601735, 1321.368354]\n",
      "DEBUG: (64.0,) EvalEOSForElems Avg time/rank [19.943105, 20.028849, 19.983335, 20.059281, 20.054849]\n",
      "DEBUG: (64.0,) EvalEOSForElems Total time [1276.358699, 1281.846333, 1278.933414, 1283.794007, 1283.510341]\n",
      "DEBUG: (64.0,) CalcEnergyForElems Avg time/rank [13.286877, 13.350466, 13.311323, 13.370046, 13.357861]\n",
      "DEBUG: (64.0,) CalcEnergyForElems Total time [850.360108, 854.429839, 851.924673, 855.682921, 854.903081]\n",
      "DEBUG: (64.0,) CalcLagrangeElements Avg time/rank [16.773073, 16.751088, 16.788652, 16.805317, 16.737324]\n",
      "DEBUG: (64.0,) CalcLagrangeElements Total time [1073.47666, 1072.069661, 1074.473756, 1075.540267, 1071.188766]\n",
      "DEBUG: (64.0,) CalcKinematicsForElems Avg time/rank [16.10154, 16.10515, 16.114978, 16.137102, 16.082344]\n",
      "DEBUG: (64.0,) CalcKinematicsForElems Total time [1030.498584, 1030.729572, 1031.358607, 1032.774535, 1029.270032]\n",
      "DEBUG: (64.0,) CalcQForElems Avg time/rank [17.779654, 17.868449, 17.853388, 17.75769, 17.933058]\n",
      "DEBUG: (64.0,) CalcQForElems Total time [1137.897842, 1143.580705, 1142.616839, 1136.492165, 1147.71573]\n",
      "DEBUG: (64.0,) CalcMonotonicQForElems Avg time/rank [4.615701, 4.603107, 4.639153, 4.613783, 4.594718]\n",
      "DEBUG: (64.0,) CalcMonotonicQForElems Total time [295.404855, 294.598818, 296.905804, 295.282104, 294.061964]\n",
      "DEBUG: (64.0,) CommMonoQ Avg time/rank [2.296461, 2.408727, 2.33666, 2.317907, 2.445794]\n",
      "DEBUG: (64.0,) CommMonoQ Total time [146.97353, 154.158517, 149.546246, 148.346075, 156.530789]\n",
      "DEBUG: (64.0,) LagrangeNodal Avg time/rank [100.718393, 101.059975, 101.427594, 100.855317, 101.741919]\n",
      "DEBUG: (64.0,) LagrangeNodal Total time [6445.977139, 6467.838384, 6491.366011, 6454.740261, 6511.482801]\n",
      "DEBUG: (64.0,) CalcForceForNodes Avg time/rank [96.090348, 96.238447, 96.687338, 96.142447, 96.842601]\n",
      "DEBUG: (64.0,) CalcForceForNodes Total time [6149.782302, 6159.260592, 6187.98966, 6153.116595, 6197.926475]\n",
      "DEBUG: (64.0,) CalcVolumeForceForElems Avg time/rank [88.719371, 88.678897, 89.100972, 88.906214, 89.055352]\n",
      "DEBUG: (64.0,) CalcVolumeForceForElems Total time [5678.039737, 5675.449388, 5702.462213, 5689.997698, 5699.542509]\n",
      "DEBUG: (64.0,) CalcHourglassControlForElems Avg time/rank [73.596001, 73.587697, 73.93309, 73.793842, 73.933828]\n",
      "DEBUG: (64.0,) CalcHourglassControlForElems Total time [4710.144077, 4709.612592, 4731.71778, 4722.805884, 4731.765018]\n",
      "DEBUG: (64.0,) CalcFBHourglassForceForElems Avg time/rank [26.537112, 26.527131, 26.569584, 26.504943, 26.550455]\n",
      "DEBUG: (64.0,) CalcFBHourglassForceForElems Total time [1698.375147, 1697.736361, 1700.453361, 1696.316353, 1699.229144]\n",
      "DEBUG: (64.0,) IntegrateStressForElems Avg time/rank [14.125762, 14.123731, 14.141177, 14.133675, 14.127276]\n",
      "DEBUG: (64.0,) IntegrateStressForElems Total time [904.048768, 903.918779, 905.035315, 904.555218, 904.145656]\n",
      "DEBUG: (64.0,) CommSyncPosVel Avg time/rank [0.797059, 0.940031, 0.847675, 0.848589, 0.808368]\n",
      "DEBUG: (64.0,) CommSyncPosVel Total time [51.011759, 60.161985, 54.251169, 54.309694, 51.735524]\n",
      "DEBUG: (64.0,) TimeIncrement Avg time/rank [20.876159, 20.76431, 20.483352, 21.158586, 20.997105]\n",
      "DEBUG: (64.0,) TimeIncrement Total time [1336.074183, 1328.915821, 1310.934544, 1354.149481, 1343.814718]\n",
      "Measurements: {(Callpath(main), Metric(Avg time/rank)): [Measurement((125.0,): 229.217 median=227.859), Measurement((343.0,): 346.482 median=346.196), Measurement((216.0,): 298.671 median=298.56), Measurement((8.0,): 28.0652 median=28.0801), Measurement((27.0,): 123.026 median=123.246), Measurement((64.0,): 178.267 median=178.165)], (Callpath(main), Metric(Total time)): [Measurement((125.0,): 28652.2 median=28482.4), Measurement((343.0,): 1.18843e+05 median=1.18745e+05), Measurement((216.0,): 64513.0 median=64489.0), Measurement((8.0,): 224.521 median=224.64), Measurement((27.0,): 3321.71 median=3327.63), Measurement((64.0,): 11409.1 median=11402.6)], (Callpath(CommRecv), Metric(Avg time/rank)): [Measurement((125.0,): 0.0340367 median=0.033029), Measurement((343.0,): 0.0551846 median=0.0494915), Measurement((216.0,): 0.0462387 median=0.044084), Measurement((8.0,): 0.00359565 median=0.004451), Measurement((27.0,): 0.0143907 median=0.013071), Measurement((64.0,): 0.0244371 median=0.022192)], (Callpath(CommRecv), Metric(Total time)): [Measurement((125.0,): 4.25459 median=4.12863), Measurement((343.0,): 18.9283 median=16.9755), Measurement((216.0,): 9.98755 median=9.52215), Measurement((8.0,): 0.0287656 median=0.0356075), Measurement((27.0,): 0.388548 median=0.352919), Measurement((64.0,): 1.56397 median=1.42028)], (Callpath(CommSBN), Metric(Avg time/rank)): [Measurement((125.0,): 0.858125 median=0.60868), Measurement((343.0,): 0.342671 median=0.314119), Measurement((216.0,): 0.391467 median=0.293939), Measurement((8.0,): 0.603902 median=0.55777), Measurement((27.0,): 3.57435 median=3.10562), Measurement((64.0,): 1.54851 median=1.49296)], (Callpath(CommSBN), Metric(Total time)): [Measurement((125.0,): 107.266 median=76.0849), Measurement((343.0,): 117.536 median=107.743), Measurement((216.0,): 84.557 median=63.4906), Measurement((8.0,): 4.83121 median=4.46216), Measurement((27.0,): 96.5074 median=83.8516), Measurement((64.0,): 99.1043 median=95.5491)], (Callpath(CommSend), Metric(Avg time/rank)): [Measurement((125.0,): 3.71807 median=2.71028), Measurement((343.0,): 4.08346 median=3.18482), Measurement((216.0,): 2.68565 median=2.47677), Measurement((8.0,): 0.131929 median=0.158175), Measurement((27.0,): 0.349976 median=0.406127), Measurement((64.0,): 1.34966 median=0.85221)], (Callpath(CommSend), Metric(Total time)): [Measurement((125.0,): 464.759 median=338.785), Measurement((343.0,): 1400.63 median=1092.39), Measurement((216.0,): 580.101 median=534.983), Measurement((8.0,): 1.05543 median=1.2654), Measurement((27.0,): 9.44935 median=10.9654), Measurement((64.0,): 86.3782 median=54.5414)], (Callpath(lulesh.cycle), Metric(Avg time/rank)): [Measurement((125.0,): 229.2 median=227.841), Measurement((343.0,): 346.463 median=346.177), Measurement((216.0,): 298.651 median=298.541), Measurement((8.0,): 28.0531 median=28.0665), Measurement((27.0,): 123.013 median=123.232), Measurement((64.0,): 178.252 median=178.15)], (Callpath(lulesh.cycle), Metric(Total time)): [Measurement((125.0,): 28650.0 median=28480.1), Measurement((343.0,): 1.18837e+05 median=1.18739e+05), Measurement((216.0,): 64508.7 median=64484.8), Measurement((8.0,): 224.425 median=224.532), Measurement((27.0,): 3321.36 median=3327.26), Measurement((64.0,): 11408.1 median=11401.6)], (Callpath(LagrangeLeapFrog), Metric(Avg time/rank)): [Measurement((125.0,): 202.683 median=201.316), Measurement((343.0,): 298.244 median=297.946), Measurement((216.0,): 257.505 median=257.023), Measurement((8.0,): 26.0241 median=26.0108), Measurement((27.0,): 109.538 median=109.748), Measurement((64.0,): 157.382 median=157.301)], (Callpath(LagrangeLeapFrog), Metric(Total time)): [Measurement((125.0,): 25335.4 median=25164.5), Measurement((343.0,): 1.02298e+05 median=1.02196e+05), Measurement((216.0,): 55621.1 median=55517.0), Measurement((8.0,): 208.193 median=208.087), Measurement((27.0,): 2957.54 median=2963.19), Measurement((64.0,): 10072.5 median=10067.3)], (Callpath(CalcTimeConstraintsForElems), Metric(Avg time/rank)): [Measurement((125.0,): 0.998653 median=0.995824), Measurement((343.0,): 1.44279 median=1.44282), Measurement((216.0,): 1.2469 median=1.24604), Measurement((8.0,): 0.227804 median=0.226927), Measurement((27.0,): 0.560114 median=0.558767), Measurement((64.0,): 0.790509 median=0.791681)], (Callpath(CalcTimeConstraintsForElems), Metric(Total time)): [Measurement((125.0,): 124.832 median=124.478), Measurement((343.0,): 494.875 median=494.886), Measurement((216.0,): 269.33 median=269.144), Measurement((8.0,): 1.82243 median=1.81542), Measurement((27.0,): 15.1231 median=15.0867), Measurement((64.0,): 50.5926 median=50.6676)], (Callpath(LagrangeElements), Metric(Avg time/rank)): [Measurement((125.0,): 71.1045 median=70.7895), Measurement((343.0,): 103.658 median=103.655), Measurement((216.0,): 90.2167 median=90.2446), Measurement((8.0,): 9.44079 median=9.44038), Measurement((27.0,): 39.6384 median=39.6489), Measurement((64.0,): 55.42 median=55.4256)], (Callpath(LagrangeElements), Metric(Total time)): [Measurement((125.0,): 8888.07 median=8848.68), Measurement((343.0,): 35554.7 median=35553.6), Measurement((216.0,): 19486.8 median=19492.8), Measurement((8.0,): 75.5263 median=75.523), Measurement((27.0,): 1070.24 median=1070.52), Measurement((64.0,): 3546.88 median=3547.24)], (Callpath(ApplyMaterialPropertiesForElems), Metric(Avg time/rank)): [Measurement((125.0,): 26.563 median=26.5943), Measurement((343.0,): 39.6989 median=39.6793), Measurement((216.0,): 34.9303 median=34.9172), Measurement((8.0,): 5.2157 median=5.2101), Measurement((27.0,): 14.7815 median=14.8079), Measurement((64.0,): 20.6036 median=20.6117)], (Callpath(ApplyMaterialPropertiesForElems), Metric(Total time)): [Measurement((125.0,): 3320.37 median=3324.28), Measurement((343.0,): 13616.7 median=13610.0), Measurement((216.0,): 7544.95 median=7542.11), Measurement((8.0,): 41.7256 median=41.6808), Measurement((27.0,): 399.101 median=399.813), Measurement((64.0,): 1318.63 median=1319.15)], (Callpath(EvalEOSForElems), Metric(Avg time/rank)): [Measurement((125.0,): 25.8369 median=25.8583), Measurement((343.0,): 38.5342 median=38.5268), Measurement((216.0,): 33.8961 median=33.8753), Measurement((8.0,): 5.14359 median=5.13854), Measurement((27.0,): 14.4239 median=14.4529), Measurement((64.0,): 20.0139 median=20.0288)], (Callpath(EvalEOSForElems), Metric(Total time)): [Measurement((125.0,): 3229.61 median=3232.28), Measurement((343.0,): 13217.2 median=13214.7), Measurement((216.0,): 7321.57 median=7317.06), Measurement((8.0,): 41.1487 median=41.1083), Measurement((27.0,): 389.445 median=390.228), Measurement((64.0,): 1280.89 median=1281.85)], (Callpath(CalcEnergyForElems), Metric(Avg time/rank)): [Measurement((125.0,): 17.2533 median=17.2496), Measurement((343.0,): 25.5271 median=25.5235), Measurement((216.0,): 22.4356 median=22.4331), Measurement((8.0,): 3.68519 median=3.68859), Measurement((27.0,): 9.7328 median=9.75628), Measurement((64.0,): 13.3353 median=13.3505)], (Callpath(CalcEnergyForElems), Metric(Total time)): [Measurement((125.0,): 2156.66 median=2156.2), Measurement((343.0,): 8755.81 median=8754.56), Measurement((216.0,): 4846.08 median=4845.55), Measurement((8.0,): 29.4815 median=29.5087), Measurement((27.0,): 262.786 median=263.42), Measurement((64.0,): 853.46 median=854.43)], (Callpath(CalcLagrangeElements), Metric(Avg time/rank)): [Measurement((125.0,): 21.1228 median=21.1235), Measurement((343.0,): 31.6234 median=31.6362), Measurement((216.0,): 27.3707 median=27.3937), Measurement((8.0,): 1.95209 median=1.95215), Measurement((27.0,): 10.9774 median=10.9781), Measurement((64.0,): 16.7711 median=16.7731)], (Callpath(CalcLagrangeElements), Metric(Total time)): [Measurement((125.0,): 2640.36 median=2640.44), Measurement((343.0,): 10846.8 median=10851.2), Measurement((216.0,): 5912.06 median=5917.04), Measurement((8.0,): 15.6167 median=15.6172), Measurement((27.0,): 296.39 median=296.408), Measurement((64.0,): 1073.35 median=1073.48)], (Callpath(CalcKinematicsForElems), Metric(Avg time/rank)): [Measurement((125.0,): 20.2995 median=20.3002), Measurement((343.0,): 30.2832 median=30.2809), Measurement((216.0,): 26.198 median=26.2045), Measurement((8.0,): 1.86128 median=1.86213), Measurement((27.0,): 10.5636 median=10.5678), Measurement((64.0,): 16.1082 median=16.1051)], (Callpath(CalcKinematicsForElems), Metric(Total time)): [Measurement((125.0,): 2537.43 median=2537.53), Measurement((343.0,): 10387.1 median=10386.4), Measurement((216.0,): 5658.76 median=5660.18), Measurement((8.0,): 14.8902 median=14.897), Measurement((27.0,): 285.218 median=285.332), Measurement((64.0,): 1030.93 median=1030.73)], (Callpath(CalcQForElems), Metric(Avg time/rank)): [Measurement((125.0,): 23.1618 median=22.9109), Measurement((343.0,): 31.9374 median=31.918), Measurement((216.0,): 27.5672 median=27.5827), Measurement((8.0,): 2.25054 median=2.25048), Measurement((27.0,): 13.7526 median=13.7295), Measurement((64.0,): 17.8384 median=17.8534)], (Callpath(CalcQForElems), Metric(Total time)): [Measurement((125.0,): 2895.23 median=2863.86), Measurement((343.0,): 10954.5 median=10947.9), Measurement((216.0,): 5954.52 median=5957.86), Measurement((8.0,): 18.0043 median=18.0039), Measurement((27.0,): 371.32 median=370.695), Measurement((64.0,): 1141.66 median=1142.62)], (Callpath(CalcMonotonicQForElems), Metric(Avg time/rank)): [Measurement((125.0,): 5.59115 median=5.6327), Measurement((343.0,): 8.68659 median=8.7239), Measurement((216.0,): 7.69141 median=7.68538), Measurement((8.0,): 0.622837 median=0.623533), Measurement((27.0,): 3.05817 median=3.061), Measurement((64.0,): 4.61329 median=4.61378)], (Callpath(CalcMonotonicQForElems), Metric(Total time)): [Measurement((125.0,): 698.894 median=704.088), Measurement((343.0,): 2979.5 median=2992.3), Measurement((216.0,): 1661.34 median=1660.04), Measurement((8.0,): 4.98269 median=4.98826), Measurement((27.0,): 82.5705 median=82.6471), Measurement((64.0,): 295.251 median=295.282)], (Callpath(CommMonoQ), Metric(Avg time/rank)): [Measurement((125.0,): 0.950817 median=0.987998), Measurement((343.0,): 0.821458 median=0.803553), Measurement((216.0,): 0.875647 median=0.878226), Measurement((8.0,): 0.392668 median=0.391321), Measurement((27.0,): 3.93389 median=3.94183), Measurement((64.0,): 2.36111 median=2.33666)], (Callpath(CommMonoQ), Metric(Total time)): [Measurement((125.0,): 118.852 median=123.5), Measurement((343.0,): 281.76 median=275.619), Measurement((216.0,): 189.14 median=189.697), Measurement((8.0,): 3.14135 median=3.13057), Measurement((27.0,): 106.215 median=106.429), Measurement((64.0,): 151.111 median=149.546)], (Callpath(LagrangeNodal), Metric(Avg time/rank)): [Measurement((125.0,): 130.566 median=129.518), Measurement((343.0,): 193.124 median=192.828), Measurement((216.0,): 166.024 median=165.675), Measurement((8.0,): 16.351 median=16.3425), Measurement((27.0,): 69.3318 median=69.6516), Measurement((64.0,): 101.161 median=101.06)], (Callpath(LagrangeNodal), Metric(Total time)): [Measurement((125.0,): 16320.8 median=16189.7), Measurement((343.0,): 66241.4 median=66140.0), Measurement((216.0,): 35861.2 median=35785.8), Measurement((8.0,): 130.808 median=130.74), Measurement((27.0,): 1871.96 median=1880.59), Measurement((64.0,): 6474.28 median=6467.84)], (Callpath(CalcForceForNodes), Metric(Avg time/rank)): [Measurement((125.0,): 123.819 median=122.917), Measurement((343.0,): 182.567 median=182.311), Measurement((216.0,): 156.531 median=156.11), Measurement((8.0,): 15.4673 median=15.4633), Measurement((27.0,): 66.4596 median=66.8143), Measurement((64.0,): 96.4002 median=96.2384)], (Callpath(CalcForceForNodes), Metric(Total time)): [Measurement((125.0,): 15477.3 median=15364.6), Measurement((343.0,): 62620.5 median=62532.7), Measurement((216.0,): 33810.6 median=33719.7), Measurement((8.0,): 123.738 median=123.706), Measurement((27.0,): 1794.41 median=1803.99), Measurement((64.0,): 6169.62 median=6159.26)], (Callpath(CalcVolumeForceForElems), Metric(Avg time/rank)): [Measurement((125.0,): 112.144 median=111.961), Measurement((343.0,): 170.405 median=170.432), Measurement((216.0,): 148.619 median=148.804), Measurement((8.0,): 13.9958 median=14.0124), Measurement((27.0,): 58.313 median=58.4151), Measurement((64.0,): 88.8922 median=88.9062)], (Callpath(CalcVolumeForceForElems), Metric(Total time)): [Measurement((125.0,): 14018.1 median=13995.1), Measurement((343.0,): 58449.0 median=58458.2), Measurement((216.0,): 32101.8 median=32141.6), Measurement((8.0,): 111.967 median=112.099), Measurement((27.0,): 1574.45 median=1577.21), Measurement((64.0,): 5689.1 median=5690.0)], (Callpath(CalcHourglassControlForElems), Metric(Avg time/rank)): [Measurement((125.0,): 93.1545 median=92.9474), Measurement((343.0,): 143.232 median=143.235), Measurement((216.0,): 125.228 median=125.442), Measurement((8.0,): 10.5362 median=10.5739), Measurement((27.0,): 46.9743 median=47.0597), Measurement((64.0,): 73.7689 median=73.7938)], (Callpath(CalcHourglassControlForElems), Metric(Total time)): [Measurement((125.0,): 11644.3 median=11618.4), Measurement((343.0,): 49128.7 median=49129.5), Measurement((216.0,): 27049.2 median=27095.4), Measurement((8.0,): 84.2899 median=84.5916), Measurement((27.0,): 1268.31 median=1270.61), Measurement((64.0,): 4721.21 median=4722.81)], (Callpath(CalcFBHourglassForceForElems), Metric(Avg time/rank)): [Measurement((125.0,): 33.4081 median=33.396), Measurement((343.0,): 47.5513 median=47.5346), Measurement((216.0,): 40.936 median=40.9617), Measurement((8.0,): 5.22326 median=5.24056), Measurement((27.0,): 19.2628 median=19.2258), Measurement((64.0,): 26.5378 median=26.5371)], (Callpath(CalcFBHourglassForceForElems), Metric(Total time)): [Measurement((125.0,): 4176.01 median=4174.5), Measurement((343.0,): 16310.1 median=16304.4), Measurement((216.0,): 8842.18 median=8847.72), Measurement((8.0,): 41.7861 median=41.9245), Measurement((27.0,): 520.096 median=519.098), Measurement((64.0,): 1698.42 median=1698.38)], (Callpath(IntegrateStressForElems), Metric(Avg time/rank)): [Measurement((125.0,): 17.8195 median=17.8167), Measurement((343.0,): 25.1677 median=25.1649), Measurement((216.0,): 21.5316 median=21.5184), Measurement((8.0,): 3.36425 median=3.35272), Measurement((27.0,): 10.8176 median=10.7896), Measurement((64.0,): 14.1303 median=14.1273)], (Callpath(IntegrateStressForElems), Metric(Total time)): [Measurement((125.0,): 2227.44 median=2227.09), Measurement((343.0,): 8632.54 median=8631.56), Measurement((216.0,): 4650.83 median=4647.98), Measurement((8.0,): 26.914 median=26.8217), Measurement((27.0,): 292.076 median=291.318), Measurement((64.0,): 904.341 median=904.146)], (Callpath(CommSyncPosVel), Metric(Avg time/rank)): [Measurement((125.0,): 1.38588 median=1.09568), Measurement((343.0,): 1.59826 median=1.4764), Measurement((216.0,): 1.63433 median=1.57414), Measurement((8.0,): 0.320712 median=0.318838), Measurement((27.0,): 0.536205 median=0.536266), Measurement((64.0,): 0.848344 median=0.847675)], (Callpath(CommSyncPosVel), Metric(Total time)): [Measurement((125.0,): 173.235 median=136.961), Measurement((343.0,): 548.202 median=506.404), Measurement((216.0,): 353.014 median=340.014), Measurement((8.0,): 2.56569 median=2.5507), Measurement((27.0,): 14.4775 median=14.4792), Measurement((64.0,): 54.294 median=54.2512)], (Callpath(TimeIncrement), Metric(Avg time/rank)): [Measurement((125.0,): 26.4992 median=25.911), Measurement((343.0,): 48.1938 median=48.3257), Measurement((216.0,): 41.1255 median=41.4172), Measurement((8.0,): 2.0233 median=2.01058), Measurement((27.0,): 13.4654 median=13.6032), Measurement((64.0,): 20.8559 median=20.8762)], (Callpath(TimeIncrement), Metric(Total time)): [Measurement((125.0,): 3312.4 median=3238.87), Measurement((343.0,): 16530.5 median=16575.7), Measurement((216.0,): 8883.11 median=8946.12), Measurement((8.0,): 16.1864 median=16.0847), Measurement((27.0,): 363.566 median=367.285), Measurement((64.0,): 1334.78 median=1336.07)]}\n"
     ]
    }
   ],
   "source": [
    "mdl = Modeling(\n",
    "    t_ens,\n",
    "    \"jobsize\",\n",
    "    chosen_metrics=[\n",
    "        \"Avg time/rank\",\n",
    "        \"Total time\",\n",
    "    ],\n",
    ")\n",
    "\n",
    "# use the median values for modeling\n",
    "mdl.produce_models(use_median=True)\n",
    "\n",
    "# use the mean values for modeling\n",
    "#mdl.produce_models(use_median=False)"
   ]
  },
  {
   "cell_type": "code",
   "execution_count": 4,
   "metadata": {},
   "outputs": [],
   "source": [
    "#t_ens.statsframe.dataframe"
   ]
  },
  {
   "cell_type": "code",
   "execution_count": 5,
   "metadata": {},
   "outputs": [],
   "source": [
    "#with pd.option_context(\"display.max_colwidth\", 1):\n",
    "#    display(HTML(mdl.to_html()))"
   ]
  },
  {
   "cell_type": "code",
   "execution_count": 9,
   "metadata": {},
   "outputs": [
    {
     "data": {
      "text/plain": [
       "31"
      ]
     },
     "execution_count": 9,
     "metadata": {},
     "output_type": "execute_result"
    }
   ],
   "source": [
    "model_obj = t_ens.statsframe.dataframe.at[t_ens.statsframe.dataframe.index[0], \"Avg time/rank_extrap-model\"]\n",
    "\n",
    "len(t_ens.statsframe.dataframe)"
   ]
  },
  {
   "cell_type": "code",
   "execution_count": 7,
   "metadata": {},
   "outputs": [],
   "source": [
    "#plt.clf()\n",
    "#fig, ax = model_obj.display(RSS=False)\n",
    "#fig, ax = model_obj2.display(RSS=True)\n",
    "#plt.show()\n",
    "#plt.close()"
   ]
  },
  {
   "cell_type": "code",
   "execution_count": 10,
   "metadata": {},
   "outputs": [
    {
     "data": {
      "application/vnd.plotly.v1+json": {
       "config": {
        "plotlyServerURL": "https://plot.ly"
       },
       "data": [
        {
         "name": "-0.202 + 0.261 * p^(1/3)",
         "type": "scatter",
         "x": [
          8,
          11.35,
          14.7,
          18.049999999999997,
          21.4,
          24.75,
          28.099999999999998,
          31.449999999999996,
          34.8,
          38.15,
          41.5,
          44.849999999999994,
          48.199999999999996,
          51.55,
          54.89999999999999,
          58.24999999999999,
          61.599999999999994,
          64.94999999999999,
          68.3,
          71.64999999999999,
          75,
          78.35,
          81.69999999999999,
          85.05,
          88.39999999999999,
          91.74999999999999,
          95.1,
          98.44999999999999,
          101.79999999999998,
          105.14999999999999,
          108.49999999999999,
          111.85,
          115.19999999999999,
          118.54999999999998,
          121.89999999999999,
          125.24999999999999,
          128.6,
          131.95,
          135.29999999999998,
          138.64999999999998,
          142,
          145.35,
          148.7,
          152.04999999999998,
          155.39999999999998,
          158.74999999999997,
          162.1,
          165.45,
          168.79999999999998,
          172.14999999999998,
          175.49999999999997,
          178.85,
          182.2,
          185.54999999999998,
          188.89999999999998,
          192.24999999999997,
          195.59999999999997,
          198.95,
          202.29999999999998,
          205.64999999999998,
          208.99999999999997,
          212.34999999999997,
          215.7,
          219.04999999999998,
          222.39999999999998,
          225.74999999999997,
          229.09999999999997,
          232.45,
          235.79999999999998,
          239.14999999999998,
          242.49999999999997,
          245.84999999999997,
          249.2,
          252.54999999999998,
          255.89999999999998,
          259.25,
          262.59999999999997,
          265.95,
          269.29999999999995,
          272.65,
          276,
          279.34999999999997,
          282.7,
          286.04999999999995,
          289.4,
          292.74999999999994,
          296.09999999999997,
          299.45,
          302.79999999999995,
          306.15,
          309.49999999999994,
          312.84999999999997,
          316.2,
          319.54999999999995,
          322.9,
          326.24999999999994,
          329.59999999999997,
          332.95,
          336.29999999999995,
          339.65,
          342.99999999999994,
          346.34999999999997,
          349.7,
          353.04999999999995,
          356.4,
          359.74999999999994,
          363.09999999999997,
          366.45,
          369.79999999999995,
          373.15,
          376.49999999999994,
          379.84999999999997,
          383.19999999999993,
          386.54999999999995,
          389.9,
          393.24999999999994,
          396.59999999999997,
          399.94999999999993,
          403.29999999999995,
          406.65,
          409.99999999999994,
          413.34999999999997,
          416.69999999999993,
          420.04999999999995,
          423.4,
          426.74999999999994,
          430.09999999999997,
          433.44999999999993,
          436.79999999999995,
          440.15,
          443.49999999999994,
          446.84999999999997,
          450.19999999999993,
          453.54999999999995,
          456.9,
          460.24999999999994,
          463.59999999999997,
          466.94999999999993,
          470.29999999999995,
          473.65,
          476.99999999999994,
          480.34999999999997,
          483.69999999999993,
          487.04999999999995,
          490.4,
          493.74999999999994,
          497.09999999999997,
          500.44999999999993,
          503.79999999999995,
          507.1499999999999,
          510.49999999999994,
          513.8499999999999
         ],
         "y": [
          0.3213031904761905,
          0.3859560719888331,
          0.43884959824570624,
          0.4842061099443913,
          0.5242453447047399,
          0.5602959332317778,
          0.5932237163659101,
          0.6236280734663223,
          0.6519431295309188,
          0.6784945877517398,
          0.7035338010694392,
          0.7272592837666553,
          0.7498308767459604,
          0.7713794066115622,
          0.7920134688677969,
          0.8118243130097111,
          0.8308894381883138,
          0.8492752907267,
          0.8670393221398567,
          0.884231582894772,
          0.9008959732478765,
          0.9170712368256282,
          0.9327917584955834,
          0.9480882114506488,
          0.962988086768406,
          0.9775161303975353,
          0.9916947065150716,
          1.0055441017959235,
          1.0190827818707973,
          1.0323276087992017,
          1.0452940265274069,
          1.0579962198799149,
          1.0704472515351433,
          1.0826591805808041,
          1.0946431655729245,
          1.1064095544912682,
          1.1179679635607458,
          1.1293273465690814,
          1.1404960560372412,
          1.151481897376904,
          1.162292176987929,
          1.172933745099978,
          1.1834130340397848,
          1.1937360925039122,
          1.2039086163322636,
          1.2139359762069168,
          1.2238232426415003,
          1.2335752085763556,
          1.2431964098524309,
          1.2526911438009751,
          1.2620634861555222,
          1.271317306466547,
          1.2804562821767769,
          1.2894839114958878,
          1.2984035251967185,
          1.3072182974407693,
          1.3159312557283076,
          1.3245452900575743,
          1.333063161368153,
          1.3414875093353198,
          1.349820859574971,
          1.358065630312393,
          1.3662241385625629,
          1.3742986058647566,
          1.3822911636098978,
          1.3902038579952438,
          1.398038654637597,
          1.4057974428732039,
          1.4134820397698091,
          1.4210941938739334,
          1.4286355887142983,
          1.436107846080402,
          1.4435125290935311,
          1.4508511450859538,
          1.4581251483026485,
          1.4653359424386794,
          1.4724848830242019,
          1.47957327966807,
          1.4866023981700935,
          1.49357346251117,
          1.500487656729762,
          1.5073461266925001,
          1.514149981766087,
          1.5209002963970981,
          1.5275981116057704,
          1.5342444363994006,
          1.5408402491105477,
          1.5473864986648387,
          1.5538841057828279,
          1.56033396412003,
          1.5667369413489418,
          1.5730938801866057,
          1.5794055993710001,
          1.5856728945893253,
          1.5918965393610283,
          1.5980772858782204,
          1.6042158658059575,
          1.6103129910446894,
          1.6163693544570243,
          1.6223856305608202,
          1.6283624761904756,
          1.6343005311281786,
          1.6402004187067494,
          1.6460627463856183,
          1.6518881063013808,
          1.6576770757942711,
          1.6634302179118328,
          1.6691480818909632,
          1.6748312036194604,
          1.6804801060781118,
          1.6860952997643155,
          1.6916772830981666,
          1.6972265428118736,
          1.7027435543233378,
          1.7082287820946622,
          1.7136826799763307,
          1.719105691537739,
          1.7244982503847353,
          1.729860780464781,
          1.7351936963603147,
          1.7404974035708705,
          1.7457722987844648,
          1.751018770138748,
          1.7562371974723843,
          1.7614279525670997,
          1.766591399380816,
          1.771727894272267,
          1.7768377862174687,
          1.7819214170184052,
          1.7869791215042632,
          1.7920112277255336,
          1.7970180571412944,
          1.8019999247999503,
          1.806957139513718,
          1.8118900040271066,
          1.81679881517965,
          1.821683864063123,
          1.8265454361734719,
          1.8313838115576662,
          1.8361992649556815,
          1.8409920659378098,
          1.845762479037476,
          1.8505107638797438,
          1.8552371753056773,
          1.85994196349272,
          1.8646253740712426,
          1.8692876482374157,
          1.87392902286253,
          1.8785497305989196,
          1.883149999982598,
          1.88773005553274,
          1.892290117848126
         ]
        },
        {
         "error_y": {
          "array": [
           0.006841800000000009,
           0.025499800000000072,
           0.051285400000000037,
           0.4661126000000001,
           0.11988139999999992,
           0.15773300000000012
          ],
          "arrayminus": [
           0.014407200000000009,
           0.01890320000000001,
           0.09168659999999995,
           0.8481494,
           0.3505866000000002,
           0.47991000000000006
          ],
          "color": "black",
          "thickness": 1.5,
          "type": "data",
          "width": 3
         },
         "marker": {
          "color": "black",
          "size": 7,
          "symbol": "x"
         },
         "mode": "markers",
         "name": "mean",
         "type": "scatter",
         "x": [
          8,
          27,
          64,
          125,
          216,
          343
         ],
         "y": [
          0.3207118,
          0.5362048,
          0.8483444,
          1.3858806000000001,
          1.6343253999999998,
          1.598257
         ]
        },
        {
         "marker": {
          "color": "black",
          "size": 7,
          "symbol": "triangle-up"
         },
         "mode": "markers",
         "name": "median",
         "type": "scatter",
         "x": [
          8,
          27,
          64,
          125,
          216,
          343
         ],
         "y": [
          0.318838,
          0.536266,
          0.847675,
          1.095684,
          1.574138,
          1.476396
         ]
        },
        {
         "name": "optimal scaling",
         "type": "scatter",
         "x": [
          8,
          11.35,
          14.7,
          18.049999999999997,
          21.4,
          24.75,
          28.099999999999998,
          31.449999999999996,
          34.8,
          38.15,
          41.5,
          44.849999999999994,
          48.199999999999996,
          51.55,
          54.89999999999999,
          58.24999999999999,
          61.599999999999994,
          64.94999999999999,
          68.3,
          71.64999999999999,
          75,
          78.35,
          81.69999999999999,
          85.05,
          88.39999999999999,
          91.74999999999999,
          95.1,
          98.44999999999999,
          101.79999999999998,
          105.14999999999999,
          108.49999999999999,
          111.85,
          115.19999999999999,
          118.54999999999998,
          121.89999999999999,
          125.24999999999999,
          128.6,
          131.95,
          135.29999999999998,
          138.64999999999998,
          142,
          145.35,
          148.7,
          152.04999999999998,
          155.39999999999998,
          158.74999999999997,
          162.1,
          165.45,
          168.79999999999998,
          172.14999999999998,
          175.49999999999997,
          178.85,
          182.2,
          185.54999999999998,
          188.89999999999998,
          192.24999999999997,
          195.59999999999997,
          198.95,
          202.29999999999998,
          205.64999999999998,
          208.99999999999997,
          212.34999999999997,
          215.7,
          219.04999999999998,
          222.39999999999998,
          225.74999999999997,
          229.09999999999997,
          232.45,
          235.79999999999998,
          239.14999999999998,
          242.49999999999997,
          245.84999999999997,
          249.2,
          252.54999999999998,
          255.89999999999998,
          259.25,
          262.59999999999997,
          265.95,
          269.29999999999995,
          272.65,
          276,
          279.34999999999997,
          282.7,
          286.04999999999995,
          289.4,
          292.74999999999994,
          296.09999999999997,
          299.45,
          302.79999999999995,
          306.15,
          309.49999999999994,
          312.84999999999997,
          316.2,
          319.54999999999995,
          322.9,
          326.24999999999994,
          329.59999999999997,
          332.95,
          336.29999999999995,
          339.65,
          342.99999999999994,
          346.34999999999997,
          349.7,
          353.04999999999995,
          356.4,
          359.74999999999994,
          363.09999999999997,
          366.45,
          369.79999999999995,
          373.15,
          376.49999999999994,
          379.84999999999997,
          383.19999999999993,
          386.54999999999995,
          389.9,
          393.24999999999994,
          396.59999999999997,
          399.94999999999993,
          403.29999999999995,
          406.65,
          409.99999999999994,
          413.34999999999997,
          416.69999999999993,
          420.04999999999995,
          423.4,
          426.74999999999994,
          430.09999999999997,
          433.44999999999993,
          436.79999999999995,
          440.15,
          443.49999999999994,
          446.84999999999997,
          450.19999999999993,
          453.54999999999995,
          456.9,
          460.24999999999994,
          463.59999999999997,
          466.94999999999993,
          470.29999999999995,
          473.65,
          476.99999999999994,
          480.34999999999997,
          483.69999999999993,
          487.04999999999995,
          490.4,
          493.74999999999994,
          497.09999999999997,
          500.44999999999993,
          503.79999999999995,
          507.1499999999999,
          510.49999999999994,
          513.8499999999999
         ],
         "y": [
          0.3207118,
          0.3207118,
          0.3207118,
          0.3207118,
          0.3207118,
          0.3207118,
          0.3207118,
          0.3207118,
          0.3207118,
          0.3207118,
          0.3207118,
          0.3207118,
          0.3207118,
          0.3207118,
          0.3207118,
          0.3207118,
          0.3207118,
          0.3207118,
          0.3207118,
          0.3207118,
          0.3207118,
          0.3207118,
          0.3207118,
          0.3207118,
          0.3207118,
          0.3207118,
          0.3207118,
          0.3207118,
          0.3207118,
          0.3207118,
          0.3207118,
          0.3207118,
          0.3207118,
          0.3207118,
          0.3207118,
          0.3207118,
          0.3207118,
          0.3207118,
          0.3207118,
          0.3207118,
          0.3207118,
          0.3207118,
          0.3207118,
          0.3207118,
          0.3207118,
          0.3207118,
          0.3207118,
          0.3207118,
          0.3207118,
          0.3207118,
          0.3207118,
          0.3207118,
          0.3207118,
          0.3207118,
          0.3207118,
          0.3207118,
          0.3207118,
          0.3207118,
          0.3207118,
          0.3207118,
          0.3207118,
          0.3207118,
          0.3207118,
          0.3207118,
          0.3207118,
          0.3207118,
          0.3207118,
          0.3207118,
          0.3207118,
          0.3207118,
          0.3207118,
          0.3207118,
          0.3207118,
          0.3207118,
          0.3207118,
          0.3207118,
          0.3207118,
          0.3207118,
          0.3207118,
          0.3207118,
          0.3207118,
          0.3207118,
          0.3207118,
          0.3207118,
          0.3207118,
          0.3207118,
          0.3207118,
          0.3207118,
          0.3207118,
          0.3207118,
          0.3207118,
          0.3207118,
          0.3207118,
          0.3207118,
          0.3207118,
          0.3207118,
          0.3207118,
          0.3207118,
          0.3207118,
          0.3207118,
          0.3207118,
          0.3207118,
          0.3207118,
          0.3207118,
          0.3207118,
          0.3207118,
          0.3207118,
          0.3207118,
          0.3207118,
          0.3207118,
          0.3207118,
          0.3207118,
          0.3207118,
          0.3207118,
          0.3207118,
          0.3207118,
          0.3207118,
          0.3207118,
          0.3207118,
          0.3207118,
          0.3207118,
          0.3207118,
          0.3207118,
          0.3207118,
          0.3207118,
          0.3207118,
          0.3207118,
          0.3207118,
          0.3207118,
          0.3207118,
          0.3207118,
          0.3207118,
          0.3207118,
          0.3207118,
          0.3207118,
          0.3207118,
          0.3207118,
          0.3207118,
          0.3207118,
          0.3207118,
          0.3207118,
          0.3207118,
          0.3207118,
          0.3207118,
          0.3207118,
          0.3207118,
          0.3207118,
          0.3207118,
          0.3207118,
          0.3207118,
          0.3207118,
          0.3207118
         ]
        }
       ],
       "layout": {
        "template": {
         "data": {
          "bar": [
           {
            "error_x": {
             "color": "#2a3f5f"
            },
            "error_y": {
             "color": "#2a3f5f"
            },
            "marker": {
             "line": {
              "color": "white",
              "width": 0.5
             },
             "pattern": {
              "fillmode": "overlay",
              "size": 10,
              "solidity": 0.2
             }
            },
            "type": "bar"
           }
          ],
          "barpolar": [
           {
            "marker": {
             "line": {
              "color": "white",
              "width": 0.5
             },
             "pattern": {
              "fillmode": "overlay",
              "size": 10,
              "solidity": 0.2
             }
            },
            "type": "barpolar"
           }
          ],
          "carpet": [
           {
            "aaxis": {
             "endlinecolor": "#2a3f5f",
             "gridcolor": "#C8D4E3",
             "linecolor": "#C8D4E3",
             "minorgridcolor": "#C8D4E3",
             "startlinecolor": "#2a3f5f"
            },
            "baxis": {
             "endlinecolor": "#2a3f5f",
             "gridcolor": "#C8D4E3",
             "linecolor": "#C8D4E3",
             "minorgridcolor": "#C8D4E3",
             "startlinecolor": "#2a3f5f"
            },
            "type": "carpet"
           }
          ],
          "choropleth": [
           {
            "colorbar": {
             "outlinewidth": 0,
             "ticks": ""
            },
            "type": "choropleth"
           }
          ],
          "contour": [
           {
            "colorbar": {
             "outlinewidth": 0,
             "ticks": ""
            },
            "colorscale": [
             [
              0,
              "#0d0887"
             ],
             [
              0.1111111111111111,
              "#46039f"
             ],
             [
              0.2222222222222222,
              "#7201a8"
             ],
             [
              0.3333333333333333,
              "#9c179e"
             ],
             [
              0.4444444444444444,
              "#bd3786"
             ],
             [
              0.5555555555555556,
              "#d8576b"
             ],
             [
              0.6666666666666666,
              "#ed7953"
             ],
             [
              0.7777777777777778,
              "#fb9f3a"
             ],
             [
              0.8888888888888888,
              "#fdca26"
             ],
             [
              1,
              "#f0f921"
             ]
            ],
            "type": "contour"
           }
          ],
          "contourcarpet": [
           {
            "colorbar": {
             "outlinewidth": 0,
             "ticks": ""
            },
            "type": "contourcarpet"
           }
          ],
          "heatmap": [
           {
            "colorbar": {
             "outlinewidth": 0,
             "ticks": ""
            },
            "colorscale": [
             [
              0,
              "#0d0887"
             ],
             [
              0.1111111111111111,
              "#46039f"
             ],
             [
              0.2222222222222222,
              "#7201a8"
             ],
             [
              0.3333333333333333,
              "#9c179e"
             ],
             [
              0.4444444444444444,
              "#bd3786"
             ],
             [
              0.5555555555555556,
              "#d8576b"
             ],
             [
              0.6666666666666666,
              "#ed7953"
             ],
             [
              0.7777777777777778,
              "#fb9f3a"
             ],
             [
              0.8888888888888888,
              "#fdca26"
             ],
             [
              1,
              "#f0f921"
             ]
            ],
            "type": "heatmap"
           }
          ],
          "heatmapgl": [
           {
            "colorbar": {
             "outlinewidth": 0,
             "ticks": ""
            },
            "colorscale": [
             [
              0,
              "#0d0887"
             ],
             [
              0.1111111111111111,
              "#46039f"
             ],
             [
              0.2222222222222222,
              "#7201a8"
             ],
             [
              0.3333333333333333,
              "#9c179e"
             ],
             [
              0.4444444444444444,
              "#bd3786"
             ],
             [
              0.5555555555555556,
              "#d8576b"
             ],
             [
              0.6666666666666666,
              "#ed7953"
             ],
             [
              0.7777777777777778,
              "#fb9f3a"
             ],
             [
              0.8888888888888888,
              "#fdca26"
             ],
             [
              1,
              "#f0f921"
             ]
            ],
            "type": "heatmapgl"
           }
          ],
          "histogram": [
           {
            "marker": {
             "pattern": {
              "fillmode": "overlay",
              "size": 10,
              "solidity": 0.2
             }
            },
            "type": "histogram"
           }
          ],
          "histogram2d": [
           {
            "colorbar": {
             "outlinewidth": 0,
             "ticks": ""
            },
            "colorscale": [
             [
              0,
              "#0d0887"
             ],
             [
              0.1111111111111111,
              "#46039f"
             ],
             [
              0.2222222222222222,
              "#7201a8"
             ],
             [
              0.3333333333333333,
              "#9c179e"
             ],
             [
              0.4444444444444444,
              "#bd3786"
             ],
             [
              0.5555555555555556,
              "#d8576b"
             ],
             [
              0.6666666666666666,
              "#ed7953"
             ],
             [
              0.7777777777777778,
              "#fb9f3a"
             ],
             [
              0.8888888888888888,
              "#fdca26"
             ],
             [
              1,
              "#f0f921"
             ]
            ],
            "type": "histogram2d"
           }
          ],
          "histogram2dcontour": [
           {
            "colorbar": {
             "outlinewidth": 0,
             "ticks": ""
            },
            "colorscale": [
             [
              0,
              "#0d0887"
             ],
             [
              0.1111111111111111,
              "#46039f"
             ],
             [
              0.2222222222222222,
              "#7201a8"
             ],
             [
              0.3333333333333333,
              "#9c179e"
             ],
             [
              0.4444444444444444,
              "#bd3786"
             ],
             [
              0.5555555555555556,
              "#d8576b"
             ],
             [
              0.6666666666666666,
              "#ed7953"
             ],
             [
              0.7777777777777778,
              "#fb9f3a"
             ],
             [
              0.8888888888888888,
              "#fdca26"
             ],
             [
              1,
              "#f0f921"
             ]
            ],
            "type": "histogram2dcontour"
           }
          ],
          "mesh3d": [
           {
            "colorbar": {
             "outlinewidth": 0,
             "ticks": ""
            },
            "type": "mesh3d"
           }
          ],
          "parcoords": [
           {
            "line": {
             "colorbar": {
              "outlinewidth": 0,
              "ticks": ""
             }
            },
            "type": "parcoords"
           }
          ],
          "pie": [
           {
            "automargin": true,
            "type": "pie"
           }
          ],
          "scatter": [
           {
            "marker": {
             "colorbar": {
              "outlinewidth": 0,
              "ticks": ""
             }
            },
            "type": "scatter"
           }
          ],
          "scatter3d": [
           {
            "line": {
             "colorbar": {
              "outlinewidth": 0,
              "ticks": ""
             }
            },
            "marker": {
             "colorbar": {
              "outlinewidth": 0,
              "ticks": ""
             }
            },
            "type": "scatter3d"
           }
          ],
          "scattercarpet": [
           {
            "marker": {
             "colorbar": {
              "outlinewidth": 0,
              "ticks": ""
             }
            },
            "type": "scattercarpet"
           }
          ],
          "scattergeo": [
           {
            "marker": {
             "colorbar": {
              "outlinewidth": 0,
              "ticks": ""
             }
            },
            "type": "scattergeo"
           }
          ],
          "scattergl": [
           {
            "marker": {
             "colorbar": {
              "outlinewidth": 0,
              "ticks": ""
             }
            },
            "type": "scattergl"
           }
          ],
          "scattermapbox": [
           {
            "marker": {
             "colorbar": {
              "outlinewidth": 0,
              "ticks": ""
             }
            },
            "type": "scattermapbox"
           }
          ],
          "scatterpolar": [
           {
            "marker": {
             "colorbar": {
              "outlinewidth": 0,
              "ticks": ""
             }
            },
            "type": "scatterpolar"
           }
          ],
          "scatterpolargl": [
           {
            "marker": {
             "colorbar": {
              "outlinewidth": 0,
              "ticks": ""
             }
            },
            "type": "scatterpolargl"
           }
          ],
          "scatterternary": [
           {
            "marker": {
             "colorbar": {
              "outlinewidth": 0,
              "ticks": ""
             }
            },
            "type": "scatterternary"
           }
          ],
          "surface": [
           {
            "colorbar": {
             "outlinewidth": 0,
             "ticks": ""
            },
            "colorscale": [
             [
              0,
              "#0d0887"
             ],
             [
              0.1111111111111111,
              "#46039f"
             ],
             [
              0.2222222222222222,
              "#7201a8"
             ],
             [
              0.3333333333333333,
              "#9c179e"
             ],
             [
              0.4444444444444444,
              "#bd3786"
             ],
             [
              0.5555555555555556,
              "#d8576b"
             ],
             [
              0.6666666666666666,
              "#ed7953"
             ],
             [
              0.7777777777777778,
              "#fb9f3a"
             ],
             [
              0.8888888888888888,
              "#fdca26"
             ],
             [
              1,
              "#f0f921"
             ]
            ],
            "type": "surface"
           }
          ],
          "table": [
           {
            "cells": {
             "fill": {
              "color": "#EBF0F8"
             },
             "line": {
              "color": "white"
             }
            },
            "header": {
             "fill": {
              "color": "#C8D4E3"
             },
             "line": {
              "color": "white"
             }
            },
            "type": "table"
           }
          ]
         },
         "layout": {
          "annotationdefaults": {
           "arrowcolor": "#2a3f5f",
           "arrowhead": 0,
           "arrowwidth": 1
          },
          "autotypenumbers": "strict",
          "coloraxis": {
           "colorbar": {
            "outlinewidth": 0,
            "ticks": ""
           }
          },
          "colorscale": {
           "diverging": [
            [
             0,
             "#8e0152"
            ],
            [
             0.1,
             "#c51b7d"
            ],
            [
             0.2,
             "#de77ae"
            ],
            [
             0.3,
             "#f1b6da"
            ],
            [
             0.4,
             "#fde0ef"
            ],
            [
             0.5,
             "#f7f7f7"
            ],
            [
             0.6,
             "#e6f5d0"
            ],
            [
             0.7,
             "#b8e186"
            ],
            [
             0.8,
             "#7fbc41"
            ],
            [
             0.9,
             "#4d9221"
            ],
            [
             1,
             "#276419"
            ]
           ],
           "sequential": [
            [
             0,
             "#0d0887"
            ],
            [
             0.1111111111111111,
             "#46039f"
            ],
            [
             0.2222222222222222,
             "#7201a8"
            ],
            [
             0.3333333333333333,
             "#9c179e"
            ],
            [
             0.4444444444444444,
             "#bd3786"
            ],
            [
             0.5555555555555556,
             "#d8576b"
            ],
            [
             0.6666666666666666,
             "#ed7953"
            ],
            [
             0.7777777777777778,
             "#fb9f3a"
            ],
            [
             0.8888888888888888,
             "#fdca26"
            ],
            [
             1,
             "#f0f921"
            ]
           ],
           "sequentialminus": [
            [
             0,
             "#0d0887"
            ],
            [
             0.1111111111111111,
             "#46039f"
            ],
            [
             0.2222222222222222,
             "#7201a8"
            ],
            [
             0.3333333333333333,
             "#9c179e"
            ],
            [
             0.4444444444444444,
             "#bd3786"
            ],
            [
             0.5555555555555556,
             "#d8576b"
            ],
            [
             0.6666666666666666,
             "#ed7953"
            ],
            [
             0.7777777777777778,
             "#fb9f3a"
            ],
            [
             0.8888888888888888,
             "#fdca26"
            ],
            [
             1,
             "#f0f921"
            ]
           ]
          },
          "colorway": [
           "#636efa",
           "#EF553B",
           "#00cc96",
           "#ab63fa",
           "#FFA15A",
           "#19d3f3",
           "#FF6692",
           "#B6E880",
           "#FF97FF",
           "#FECB52"
          ],
          "font": {
           "color": "#2a3f5f"
          },
          "geo": {
           "bgcolor": "white",
           "lakecolor": "white",
           "landcolor": "white",
           "showlakes": true,
           "showland": true,
           "subunitcolor": "#C8D4E3"
          },
          "hoverlabel": {
           "align": "left"
          },
          "hovermode": "closest",
          "mapbox": {
           "style": "light"
          },
          "paper_bgcolor": "white",
          "plot_bgcolor": "white",
          "polar": {
           "angularaxis": {
            "gridcolor": "#EBF0F8",
            "linecolor": "#EBF0F8",
            "ticks": ""
           },
           "bgcolor": "white",
           "radialaxis": {
            "gridcolor": "#EBF0F8",
            "linecolor": "#EBF0F8",
            "ticks": ""
           }
          },
          "scene": {
           "xaxis": {
            "backgroundcolor": "white",
            "gridcolor": "#DFE8F3",
            "gridwidth": 2,
            "linecolor": "#EBF0F8",
            "showbackground": true,
            "ticks": "",
            "zerolinecolor": "#EBF0F8"
           },
           "yaxis": {
            "backgroundcolor": "white",
            "gridcolor": "#DFE8F3",
            "gridwidth": 2,
            "linecolor": "#EBF0F8",
            "showbackground": true,
            "ticks": "",
            "zerolinecolor": "#EBF0F8"
           },
           "zaxis": {
            "backgroundcolor": "white",
            "gridcolor": "#DFE8F3",
            "gridwidth": 2,
            "linecolor": "#EBF0F8",
            "showbackground": true,
            "ticks": "",
            "zerolinecolor": "#EBF0F8"
           }
          },
          "shapedefaults": {
           "line": {
            "color": "#2a3f5f"
           }
          },
          "ternary": {
           "aaxis": {
            "gridcolor": "#DFE8F3",
            "linecolor": "#A2B1C6",
            "ticks": ""
           },
           "baxis": {
            "gridcolor": "#DFE8F3",
            "linecolor": "#A2B1C6",
            "ticks": ""
           },
           "bgcolor": "white",
           "caxis": {
            "gridcolor": "#DFE8F3",
            "linecolor": "#A2B1C6",
            "ticks": ""
           }
          },
          "title": {
           "x": 0.05
          },
          "xaxis": {
           "automargin": true,
           "gridcolor": "#EBF0F8",
           "linecolor": "#EBF0F8",
           "ticks": "",
           "title": {
            "standoff": 15
           },
           "zerolinecolor": "#EBF0F8",
           "zerolinewidth": 2
          },
          "yaxis": {
           "automargin": true,
           "gridcolor": "#EBF0F8",
           "linecolor": "#EBF0F8",
           "ticks": "",
           "title": {
            "standoff": 15
           },
           "zerolinecolor": "#EBF0F8",
           "zerolinewidth": 2
          }
         }
        },
        "title": {
         "text": "CommSyncPosVel()"
        },
        "xaxis": {
         "title": {
          "text": "jobsize"
         }
        },
        "yaxis": {
         "title": {
          "text": "Avg time/rank"
         }
        }
       }
      },
      "text/html": [
       "<div>                            <div id=\"3696c69e-be1c-4b1a-bbd0-ef088d07e895\" class=\"plotly-graph-div\" style=\"height:525px; width:100%;\"></div>            <script type=\"text/javascript\">                require([\"plotly\"], function(Plotly) {                    window.PLOTLYENV=window.PLOTLYENV || {};                                    if (document.getElementById(\"3696c69e-be1c-4b1a-bbd0-ef088d07e895\")) {                    Plotly.newPlot(                        \"3696c69e-be1c-4b1a-bbd0-ef088d07e895\",                        [{\"name\":\"-0.202 + 0.261 * p^(1/3)\",\"type\":\"scatter\",\"x\":[8.0,11.35,14.7,18.049999999999997,21.4,24.75,28.099999999999998,31.449999999999996,34.8,38.15,41.5,44.849999999999994,48.199999999999996,51.55,54.89999999999999,58.24999999999999,61.599999999999994,64.94999999999999,68.3,71.64999999999999,75.0,78.35,81.69999999999999,85.05,88.39999999999999,91.74999999999999,95.1,98.44999999999999,101.79999999999998,105.14999999999999,108.49999999999999,111.85,115.19999999999999,118.54999999999998,121.89999999999999,125.24999999999999,128.6,131.95,135.29999999999998,138.64999999999998,142.0,145.35,148.7,152.04999999999998,155.39999999999998,158.74999999999997,162.1,165.45,168.79999999999998,172.14999999999998,175.49999999999997,178.85,182.2,185.54999999999998,188.89999999999998,192.24999999999997,195.59999999999997,198.95,202.29999999999998,205.64999999999998,208.99999999999997,212.34999999999997,215.7,219.04999999999998,222.39999999999998,225.74999999999997,229.09999999999997,232.45,235.79999999999998,239.14999999999998,242.49999999999997,245.84999999999997,249.2,252.54999999999998,255.89999999999998,259.25,262.59999999999997,265.95,269.29999999999995,272.65,276.0,279.34999999999997,282.7,286.04999999999995,289.4,292.74999999999994,296.09999999999997,299.45,302.79999999999995,306.15,309.49999999999994,312.84999999999997,316.2,319.54999999999995,322.9,326.24999999999994,329.59999999999997,332.95,336.29999999999995,339.65,342.99999999999994,346.34999999999997,349.7,353.04999999999995,356.4,359.74999999999994,363.09999999999997,366.45,369.79999999999995,373.15,376.49999999999994,379.84999999999997,383.19999999999993,386.54999999999995,389.9,393.24999999999994,396.59999999999997,399.94999999999993,403.29999999999995,406.65,409.99999999999994,413.34999999999997,416.69999999999993,420.04999999999995,423.4,426.74999999999994,430.09999999999997,433.44999999999993,436.79999999999995,440.15,443.49999999999994,446.84999999999997,450.19999999999993,453.54999999999995,456.9,460.24999999999994,463.59999999999997,466.94999999999993,470.29999999999995,473.65,476.99999999999994,480.34999999999997,483.69999999999993,487.04999999999995,490.4,493.74999999999994,497.09999999999997,500.44999999999993,503.79999999999995,507.1499999999999,510.49999999999994,513.8499999999999],\"y\":[0.3213031904761905,0.3859560719888331,0.43884959824570624,0.4842061099443913,0.5242453447047399,0.5602959332317778,0.5932237163659101,0.6236280734663223,0.6519431295309188,0.6784945877517398,0.7035338010694392,0.7272592837666553,0.7498308767459604,0.7713794066115622,0.7920134688677969,0.8118243130097111,0.8308894381883138,0.8492752907267,0.8670393221398567,0.884231582894772,0.9008959732478765,0.9170712368256282,0.9327917584955834,0.9480882114506488,0.962988086768406,0.9775161303975353,0.9916947065150716,1.0055441017959235,1.0190827818707973,1.0323276087992017,1.0452940265274069,1.0579962198799149,1.0704472515351433,1.0826591805808041,1.0946431655729245,1.1064095544912682,1.1179679635607458,1.1293273465690814,1.1404960560372412,1.151481897376904,1.162292176987929,1.172933745099978,1.1834130340397848,1.1937360925039122,1.2039086163322636,1.2139359762069168,1.2238232426415003,1.2335752085763556,1.2431964098524309,1.2526911438009751,1.2620634861555222,1.271317306466547,1.2804562821767769,1.2894839114958878,1.2984035251967185,1.3072182974407693,1.3159312557283076,1.3245452900575743,1.333063161368153,1.3414875093353198,1.349820859574971,1.358065630312393,1.3662241385625629,1.3742986058647566,1.3822911636098978,1.3902038579952438,1.398038654637597,1.4057974428732039,1.4134820397698091,1.4210941938739334,1.4286355887142983,1.436107846080402,1.4435125290935311,1.4508511450859538,1.4581251483026485,1.4653359424386794,1.4724848830242019,1.47957327966807,1.4866023981700935,1.49357346251117,1.500487656729762,1.5073461266925001,1.514149981766087,1.5209002963970981,1.5275981116057704,1.5342444363994006,1.5408402491105477,1.5473864986648387,1.5538841057828279,1.56033396412003,1.5667369413489418,1.5730938801866057,1.5794055993710001,1.5856728945893253,1.5918965393610283,1.5980772858782204,1.6042158658059575,1.6103129910446894,1.6163693544570243,1.6223856305608202,1.6283624761904756,1.6343005311281786,1.6402004187067494,1.6460627463856183,1.6518881063013808,1.6576770757942711,1.6634302179118328,1.6691480818909632,1.6748312036194604,1.6804801060781118,1.6860952997643155,1.6916772830981666,1.6972265428118736,1.7027435543233378,1.7082287820946622,1.7136826799763307,1.719105691537739,1.7244982503847353,1.729860780464781,1.7351936963603147,1.7404974035708705,1.7457722987844648,1.751018770138748,1.7562371974723843,1.7614279525670997,1.766591399380816,1.771727894272267,1.7768377862174687,1.7819214170184052,1.7869791215042632,1.7920112277255336,1.7970180571412944,1.8019999247999503,1.806957139513718,1.8118900040271066,1.81679881517965,1.821683864063123,1.8265454361734719,1.8313838115576662,1.8361992649556815,1.8409920659378098,1.845762479037476,1.8505107638797438,1.8552371753056773,1.85994196349272,1.8646253740712426,1.8692876482374157,1.87392902286253,1.8785497305989196,1.883149999982598,1.88773005553274,1.892290117848126]},{\"error_y\":{\"array\":[0.006841800000000009,0.025499800000000072,0.051285400000000037,0.4661126000000001,0.11988139999999992,0.15773300000000012],\"arrayminus\":[0.014407200000000009,0.01890320000000001,0.09168659999999995,0.8481494,0.3505866000000002,0.47991000000000006],\"color\":\"black\",\"thickness\":1.5,\"type\":\"data\",\"width\":3},\"marker\":{\"color\":\"black\",\"size\":7,\"symbol\":\"x\"},\"mode\":\"markers\",\"name\":\"mean\",\"type\":\"scatter\",\"x\":[8.0,27.0,64.0,125.0,216.0,343.0],\"y\":[0.3207118,0.5362048,0.8483444,1.3858806000000001,1.6343253999999998,1.598257]},{\"marker\":{\"color\":\"black\",\"size\":7,\"symbol\":\"triangle-up\"},\"mode\":\"markers\",\"name\":\"median\",\"type\":\"scatter\",\"x\":[8.0,27.0,64.0,125.0,216.0,343.0],\"y\":[0.318838,0.536266,0.847675,1.095684,1.574138,1.476396]},{\"name\":\"optimal scaling\",\"type\":\"scatter\",\"x\":[8.0,11.35,14.7,18.049999999999997,21.4,24.75,28.099999999999998,31.449999999999996,34.8,38.15,41.5,44.849999999999994,48.199999999999996,51.55,54.89999999999999,58.24999999999999,61.599999999999994,64.94999999999999,68.3,71.64999999999999,75.0,78.35,81.69999999999999,85.05,88.39999999999999,91.74999999999999,95.1,98.44999999999999,101.79999999999998,105.14999999999999,108.49999999999999,111.85,115.19999999999999,118.54999999999998,121.89999999999999,125.24999999999999,128.6,131.95,135.29999999999998,138.64999999999998,142.0,145.35,148.7,152.04999999999998,155.39999999999998,158.74999999999997,162.1,165.45,168.79999999999998,172.14999999999998,175.49999999999997,178.85,182.2,185.54999999999998,188.89999999999998,192.24999999999997,195.59999999999997,198.95,202.29999999999998,205.64999999999998,208.99999999999997,212.34999999999997,215.7,219.04999999999998,222.39999999999998,225.74999999999997,229.09999999999997,232.45,235.79999999999998,239.14999999999998,242.49999999999997,245.84999999999997,249.2,252.54999999999998,255.89999999999998,259.25,262.59999999999997,265.95,269.29999999999995,272.65,276.0,279.34999999999997,282.7,286.04999999999995,289.4,292.74999999999994,296.09999999999997,299.45,302.79999999999995,306.15,309.49999999999994,312.84999999999997,316.2,319.54999999999995,322.9,326.24999999999994,329.59999999999997,332.95,336.29999999999995,339.65,342.99999999999994,346.34999999999997,349.7,353.04999999999995,356.4,359.74999999999994,363.09999999999997,366.45,369.79999999999995,373.15,376.49999999999994,379.84999999999997,383.19999999999993,386.54999999999995,389.9,393.24999999999994,396.59999999999997,399.94999999999993,403.29999999999995,406.65,409.99999999999994,413.34999999999997,416.69999999999993,420.04999999999995,423.4,426.74999999999994,430.09999999999997,433.44999999999993,436.79999999999995,440.15,443.49999999999994,446.84999999999997,450.19999999999993,453.54999999999995,456.9,460.24999999999994,463.59999999999997,466.94999999999993,470.29999999999995,473.65,476.99999999999994,480.34999999999997,483.69999999999993,487.04999999999995,490.4,493.74999999999994,497.09999999999997,500.44999999999993,503.79999999999995,507.1499999999999,510.49999999999994,513.8499999999999],\"y\":[0.3207118,0.3207118,0.3207118,0.3207118,0.3207118,0.3207118,0.3207118,0.3207118,0.3207118,0.3207118,0.3207118,0.3207118,0.3207118,0.3207118,0.3207118,0.3207118,0.3207118,0.3207118,0.3207118,0.3207118,0.3207118,0.3207118,0.3207118,0.3207118,0.3207118,0.3207118,0.3207118,0.3207118,0.3207118,0.3207118,0.3207118,0.3207118,0.3207118,0.3207118,0.3207118,0.3207118,0.3207118,0.3207118,0.3207118,0.3207118,0.3207118,0.3207118,0.3207118,0.3207118,0.3207118,0.3207118,0.3207118,0.3207118,0.3207118,0.3207118,0.3207118,0.3207118,0.3207118,0.3207118,0.3207118,0.3207118,0.3207118,0.3207118,0.3207118,0.3207118,0.3207118,0.3207118,0.3207118,0.3207118,0.3207118,0.3207118,0.3207118,0.3207118,0.3207118,0.3207118,0.3207118,0.3207118,0.3207118,0.3207118,0.3207118,0.3207118,0.3207118,0.3207118,0.3207118,0.3207118,0.3207118,0.3207118,0.3207118,0.3207118,0.3207118,0.3207118,0.3207118,0.3207118,0.3207118,0.3207118,0.3207118,0.3207118,0.3207118,0.3207118,0.3207118,0.3207118,0.3207118,0.3207118,0.3207118,0.3207118,0.3207118,0.3207118,0.3207118,0.3207118,0.3207118,0.3207118,0.3207118,0.3207118,0.3207118,0.3207118,0.3207118,0.3207118,0.3207118,0.3207118,0.3207118,0.3207118,0.3207118,0.3207118,0.3207118,0.3207118,0.3207118,0.3207118,0.3207118,0.3207118,0.3207118,0.3207118,0.3207118,0.3207118,0.3207118,0.3207118,0.3207118,0.3207118,0.3207118,0.3207118,0.3207118,0.3207118,0.3207118,0.3207118,0.3207118,0.3207118,0.3207118,0.3207118,0.3207118,0.3207118,0.3207118,0.3207118,0.3207118,0.3207118,0.3207118,0.3207118,0.3207118,0.3207118]}],                        {\"template\":{\"data\":{\"bar\":[{\"error_x\":{\"color\":\"#2a3f5f\"},\"error_y\":{\"color\":\"#2a3f5f\"},\"marker\":{\"line\":{\"color\":\"white\",\"width\":0.5},\"pattern\":{\"fillmode\":\"overlay\",\"size\":10,\"solidity\":0.2}},\"type\":\"bar\"}],\"barpolar\":[{\"marker\":{\"line\":{\"color\":\"white\",\"width\":0.5},\"pattern\":{\"fillmode\":\"overlay\",\"size\":10,\"solidity\":0.2}},\"type\":\"barpolar\"}],\"carpet\":[{\"aaxis\":{\"endlinecolor\":\"#2a3f5f\",\"gridcolor\":\"#C8D4E3\",\"linecolor\":\"#C8D4E3\",\"minorgridcolor\":\"#C8D4E3\",\"startlinecolor\":\"#2a3f5f\"},\"baxis\":{\"endlinecolor\":\"#2a3f5f\",\"gridcolor\":\"#C8D4E3\",\"linecolor\":\"#C8D4E3\",\"minorgridcolor\":\"#C8D4E3\",\"startlinecolor\":\"#2a3f5f\"},\"type\":\"carpet\"}],\"choropleth\":[{\"colorbar\":{\"outlinewidth\":0,\"ticks\":\"\"},\"type\":\"choropleth\"}],\"contour\":[{\"colorbar\":{\"outlinewidth\":0,\"ticks\":\"\"},\"colorscale\":[[0.0,\"#0d0887\"],[0.1111111111111111,\"#46039f\"],[0.2222222222222222,\"#7201a8\"],[0.3333333333333333,\"#9c179e\"],[0.4444444444444444,\"#bd3786\"],[0.5555555555555556,\"#d8576b\"],[0.6666666666666666,\"#ed7953\"],[0.7777777777777778,\"#fb9f3a\"],[0.8888888888888888,\"#fdca26\"],[1.0,\"#f0f921\"]],\"type\":\"contour\"}],\"contourcarpet\":[{\"colorbar\":{\"outlinewidth\":0,\"ticks\":\"\"},\"type\":\"contourcarpet\"}],\"heatmap\":[{\"colorbar\":{\"outlinewidth\":0,\"ticks\":\"\"},\"colorscale\":[[0.0,\"#0d0887\"],[0.1111111111111111,\"#46039f\"],[0.2222222222222222,\"#7201a8\"],[0.3333333333333333,\"#9c179e\"],[0.4444444444444444,\"#bd3786\"],[0.5555555555555556,\"#d8576b\"],[0.6666666666666666,\"#ed7953\"],[0.7777777777777778,\"#fb9f3a\"],[0.8888888888888888,\"#fdca26\"],[1.0,\"#f0f921\"]],\"type\":\"heatmap\"}],\"heatmapgl\":[{\"colorbar\":{\"outlinewidth\":0,\"ticks\":\"\"},\"colorscale\":[[0.0,\"#0d0887\"],[0.1111111111111111,\"#46039f\"],[0.2222222222222222,\"#7201a8\"],[0.3333333333333333,\"#9c179e\"],[0.4444444444444444,\"#bd3786\"],[0.5555555555555556,\"#d8576b\"],[0.6666666666666666,\"#ed7953\"],[0.7777777777777778,\"#fb9f3a\"],[0.8888888888888888,\"#fdca26\"],[1.0,\"#f0f921\"]],\"type\":\"heatmapgl\"}],\"histogram\":[{\"marker\":{\"pattern\":{\"fillmode\":\"overlay\",\"size\":10,\"solidity\":0.2}},\"type\":\"histogram\"}],\"histogram2d\":[{\"colorbar\":{\"outlinewidth\":0,\"ticks\":\"\"},\"colorscale\":[[0.0,\"#0d0887\"],[0.1111111111111111,\"#46039f\"],[0.2222222222222222,\"#7201a8\"],[0.3333333333333333,\"#9c179e\"],[0.4444444444444444,\"#bd3786\"],[0.5555555555555556,\"#d8576b\"],[0.6666666666666666,\"#ed7953\"],[0.7777777777777778,\"#fb9f3a\"],[0.8888888888888888,\"#fdca26\"],[1.0,\"#f0f921\"]],\"type\":\"histogram2d\"}],\"histogram2dcontour\":[{\"colorbar\":{\"outlinewidth\":0,\"ticks\":\"\"},\"colorscale\":[[0.0,\"#0d0887\"],[0.1111111111111111,\"#46039f\"],[0.2222222222222222,\"#7201a8\"],[0.3333333333333333,\"#9c179e\"],[0.4444444444444444,\"#bd3786\"],[0.5555555555555556,\"#d8576b\"],[0.6666666666666666,\"#ed7953\"],[0.7777777777777778,\"#fb9f3a\"],[0.8888888888888888,\"#fdca26\"],[1.0,\"#f0f921\"]],\"type\":\"histogram2dcontour\"}],\"mesh3d\":[{\"colorbar\":{\"outlinewidth\":0,\"ticks\":\"\"},\"type\":\"mesh3d\"}],\"parcoords\":[{\"line\":{\"colorbar\":{\"outlinewidth\":0,\"ticks\":\"\"}},\"type\":\"parcoords\"}],\"pie\":[{\"automargin\":true,\"type\":\"pie\"}],\"scatter\":[{\"marker\":{\"colorbar\":{\"outlinewidth\":0,\"ticks\":\"\"}},\"type\":\"scatter\"}],\"scatter3d\":[{\"line\":{\"colorbar\":{\"outlinewidth\":0,\"ticks\":\"\"}},\"marker\":{\"colorbar\":{\"outlinewidth\":0,\"ticks\":\"\"}},\"type\":\"scatter3d\"}],\"scattercarpet\":[{\"marker\":{\"colorbar\":{\"outlinewidth\":0,\"ticks\":\"\"}},\"type\":\"scattercarpet\"}],\"scattergeo\":[{\"marker\":{\"colorbar\":{\"outlinewidth\":0,\"ticks\":\"\"}},\"type\":\"scattergeo\"}],\"scattergl\":[{\"marker\":{\"colorbar\":{\"outlinewidth\":0,\"ticks\":\"\"}},\"type\":\"scattergl\"}],\"scattermapbox\":[{\"marker\":{\"colorbar\":{\"outlinewidth\":0,\"ticks\":\"\"}},\"type\":\"scattermapbox\"}],\"scatterpolar\":[{\"marker\":{\"colorbar\":{\"outlinewidth\":0,\"ticks\":\"\"}},\"type\":\"scatterpolar\"}],\"scatterpolargl\":[{\"marker\":{\"colorbar\":{\"outlinewidth\":0,\"ticks\":\"\"}},\"type\":\"scatterpolargl\"}],\"scatterternary\":[{\"marker\":{\"colorbar\":{\"outlinewidth\":0,\"ticks\":\"\"}},\"type\":\"scatterternary\"}],\"surface\":[{\"colorbar\":{\"outlinewidth\":0,\"ticks\":\"\"},\"colorscale\":[[0.0,\"#0d0887\"],[0.1111111111111111,\"#46039f\"],[0.2222222222222222,\"#7201a8\"],[0.3333333333333333,\"#9c179e\"],[0.4444444444444444,\"#bd3786\"],[0.5555555555555556,\"#d8576b\"],[0.6666666666666666,\"#ed7953\"],[0.7777777777777778,\"#fb9f3a\"],[0.8888888888888888,\"#fdca26\"],[1.0,\"#f0f921\"]],\"type\":\"surface\"}],\"table\":[{\"cells\":{\"fill\":{\"color\":\"#EBF0F8\"},\"line\":{\"color\":\"white\"}},\"header\":{\"fill\":{\"color\":\"#C8D4E3\"},\"line\":{\"color\":\"white\"}},\"type\":\"table\"}]},\"layout\":{\"annotationdefaults\":{\"arrowcolor\":\"#2a3f5f\",\"arrowhead\":0,\"arrowwidth\":1},\"autotypenumbers\":\"strict\",\"coloraxis\":{\"colorbar\":{\"outlinewidth\":0,\"ticks\":\"\"}},\"colorscale\":{\"diverging\":[[0,\"#8e0152\"],[0.1,\"#c51b7d\"],[0.2,\"#de77ae\"],[0.3,\"#f1b6da\"],[0.4,\"#fde0ef\"],[0.5,\"#f7f7f7\"],[0.6,\"#e6f5d0\"],[0.7,\"#b8e186\"],[0.8,\"#7fbc41\"],[0.9,\"#4d9221\"],[1,\"#276419\"]],\"sequential\":[[0.0,\"#0d0887\"],[0.1111111111111111,\"#46039f\"],[0.2222222222222222,\"#7201a8\"],[0.3333333333333333,\"#9c179e\"],[0.4444444444444444,\"#bd3786\"],[0.5555555555555556,\"#d8576b\"],[0.6666666666666666,\"#ed7953\"],[0.7777777777777778,\"#fb9f3a\"],[0.8888888888888888,\"#fdca26\"],[1.0,\"#f0f921\"]],\"sequentialminus\":[[0.0,\"#0d0887\"],[0.1111111111111111,\"#46039f\"],[0.2222222222222222,\"#7201a8\"],[0.3333333333333333,\"#9c179e\"],[0.4444444444444444,\"#bd3786\"],[0.5555555555555556,\"#d8576b\"],[0.6666666666666666,\"#ed7953\"],[0.7777777777777778,\"#fb9f3a\"],[0.8888888888888888,\"#fdca26\"],[1.0,\"#f0f921\"]]},\"colorway\":[\"#636efa\",\"#EF553B\",\"#00cc96\",\"#ab63fa\",\"#FFA15A\",\"#19d3f3\",\"#FF6692\",\"#B6E880\",\"#FF97FF\",\"#FECB52\"],\"font\":{\"color\":\"#2a3f5f\"},\"geo\":{\"bgcolor\":\"white\",\"lakecolor\":\"white\",\"landcolor\":\"white\",\"showlakes\":true,\"showland\":true,\"subunitcolor\":\"#C8D4E3\"},\"hoverlabel\":{\"align\":\"left\"},\"hovermode\":\"closest\",\"mapbox\":{\"style\":\"light\"},\"paper_bgcolor\":\"white\",\"plot_bgcolor\":\"white\",\"polar\":{\"angularaxis\":{\"gridcolor\":\"#EBF0F8\",\"linecolor\":\"#EBF0F8\",\"ticks\":\"\"},\"bgcolor\":\"white\",\"radialaxis\":{\"gridcolor\":\"#EBF0F8\",\"linecolor\":\"#EBF0F8\",\"ticks\":\"\"}},\"scene\":{\"xaxis\":{\"backgroundcolor\":\"white\",\"gridcolor\":\"#DFE8F3\",\"gridwidth\":2,\"linecolor\":\"#EBF0F8\",\"showbackground\":true,\"ticks\":\"\",\"zerolinecolor\":\"#EBF0F8\"},\"yaxis\":{\"backgroundcolor\":\"white\",\"gridcolor\":\"#DFE8F3\",\"gridwidth\":2,\"linecolor\":\"#EBF0F8\",\"showbackground\":true,\"ticks\":\"\",\"zerolinecolor\":\"#EBF0F8\"},\"zaxis\":{\"backgroundcolor\":\"white\",\"gridcolor\":\"#DFE8F3\",\"gridwidth\":2,\"linecolor\":\"#EBF0F8\",\"showbackground\":true,\"ticks\":\"\",\"zerolinecolor\":\"#EBF0F8\"}},\"shapedefaults\":{\"line\":{\"color\":\"#2a3f5f\"}},\"ternary\":{\"aaxis\":{\"gridcolor\":\"#DFE8F3\",\"linecolor\":\"#A2B1C6\",\"ticks\":\"\"},\"baxis\":{\"gridcolor\":\"#DFE8F3\",\"linecolor\":\"#A2B1C6\",\"ticks\":\"\"},\"bgcolor\":\"white\",\"caxis\":{\"gridcolor\":\"#DFE8F3\",\"linecolor\":\"#A2B1C6\",\"ticks\":\"\"}},\"title\":{\"x\":0.05},\"xaxis\":{\"automargin\":true,\"gridcolor\":\"#EBF0F8\",\"linecolor\":\"#EBF0F8\",\"ticks\":\"\",\"title\":{\"standoff\":15},\"zerolinecolor\":\"#EBF0F8\",\"zerolinewidth\":2},\"yaxis\":{\"automargin\":true,\"gridcolor\":\"#EBF0F8\",\"linecolor\":\"#EBF0F8\",\"ticks\":\"\",\"title\":{\"standoff\":15},\"zerolinecolor\":\"#EBF0F8\",\"zerolinewidth\":2}}},\"title\":{\"text\":\"CommSyncPosVel()\"},\"xaxis\":{\"title\":{\"text\":\"jobsize\"}},\"yaxis\":{\"title\":{\"text\":\"Avg time/rank\"}}},                        {\"responsive\": true}                    ).then(function(){\n",
       "                            \n",
       "var gd = document.getElementById('3696c69e-be1c-4b1a-bbd0-ef088d07e895');\n",
       "var x = new MutationObserver(function (mutations, observer) {{\n",
       "        var display = window.getComputedStyle(gd).display;\n",
       "        if (!display || display === 'none') {{\n",
       "            console.log([gd, 'removed!']);\n",
       "            Plotly.purge(gd);\n",
       "            observer.disconnect();\n",
       "        }}\n",
       "}});\n",
       "\n",
       "// Listen for the removal of the full notebook cells\n",
       "var notebookContainer = gd.closest('#notebook-container');\n",
       "if (notebookContainer) {{\n",
       "    x.observe(notebookContainer, {childList: true});\n",
       "}}\n",
       "\n",
       "// Listen for the clearing of the current output cell\n",
       "var outputEl = gd.closest('.output');\n",
       "if (outputEl) {{\n",
       "    x.observe(outputEl, {childList: true});\n",
       "}}\n",
       "\n",
       "                        })                };                });            </script>        </div>"
      ]
     },
     "metadata": {},
     "output_type": "display_data"
    }
   ],
   "source": [
    "\n",
    "fig = model_obj.display(RSS=False)\n",
    "fig.show()"
   ]
  }
 ],
 "metadata": {
  "kernelspec": {
   "display_name": "thicket_env",
   "language": "python",
   "name": "python3"
  },
  "language_info": {
   "codemirror_mode": {
    "name": "ipython",
    "version": 3
   },
   "file_extension": ".py",
   "mimetype": "text/x-python",
   "name": "python",
   "nbconvert_exporter": "python",
   "pygments_lexer": "ipython3",
   "version": "3.9.12"
  },
  "orig_nbformat": 4
 },
 "nbformat": 4,
 "nbformat_minor": 2
}
