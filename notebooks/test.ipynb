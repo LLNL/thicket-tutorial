{
 "cells": [
  {
   "cell_type": "code",
   "execution_count": 1,
   "metadata": {},
   "outputs": [
    {
     "data": {
      "application/javascript": "var Roundtrip_Obj = {};\nvar refresh_cycle = false;\nvar clicked_cell = null;\nvar cached_cells = Jupyter.notebook.get_cell_elements();\n\n/**\n * @name unindentPyCode\n * @description Removes leading indentations from a python code string.\n * \n * @param {string} code Python code in string form\n * @returns Passed code string but with no leading indentations\n */\nfunction unindentPyCode(code){\n    let uicode = code.split('\\n');\n    let indent = 0;\n\n    uicode.forEach((l,i, arr)=>{\n        if(i == 0){\n            indent = l.search(/\\S/);\n        }\n        arr[i] = l.slice(indent);\n    })\n    uicode = uicode.join('\\n');\n    return uicode;\n}\n\n/**\n * @name buildPythonAssignment\n * @description Builds up a python code string which assigns javascript data back into jypyter notebook namespace\n * \n * @param {string} val This is data assigned back to the python code\n * @param {string} py_var This is the variable into which val is assigned\n * @param {string} converter This is a definition of a python function which translates data back to the desired format\n * @returns The python code to be run in the jupyter shell\n */\nfunction buildPythonAssignment(val, py_var, converter){\n    // console.log(val, py_var, converter);\n    var holder = `'${val}'`;\n    var code = `${unindentPyCode(converter.code)}`\n    code += `\\ntmp = ${holder}`;\n    code += `\\n${py_var} = ${converter.name}(tmp)`\n\n    return code\n}\n\n/**\n * @name manageNewCell\n * \n * @description  Increments all two way bound cell ids by the number of new cells which proceed them. \n *  Ex. Adding one cell at position 2 will increment a bound cell at position 3 from 3->4. \n * \n * @param {array} newCells A list of our current cells in the notebook to be compared against cached cells\n * @param {} obj The current roundtrip object containing all data bindings\n */\nfunction manageNewCell(newCells, obj){\n    let newIds = [];\n\n    Object.keys(newCells).forEach(function(i){\n        if(!Object.values(cached_cells).includes(newCells[i]) && !isNaN(i)){\n            newIds.push(i);\n        }\n    });\n\n    //increment all bindings past each new id\n    for(let js_var in obj){\n        for(let id of newIds){\n            for(let key in obj[js_var][\"two_way\"]){\n                obj[js_var][\"two_way\"][key].forEach((two_way_id, i) => {\n                    if(two_way_id > id){\n                        obj[js_var][\"two_way\"][key][i] += 1;\n                    }\n                });\n            }\n        }   \n    }\n\n    cached_cells = newCells;\n}\n\nfunction manageDeletedCell(newCells, obj){\n    let deletedId = null;\n    \n    for(i of Object.keys(cachedCells)){\n        if (cached_cells[i] !== newCells[i]){\n            deletedId = i;\n            break;\n        }\n    }\n\n}\n\n\nfunction bindClickDetectToCells(){\n    let cells = Jupyter.notebook.get_cell_elements();\n\n    for(let i in Object.keys(cells)){\n        let cell = cells[i];\n\n        if(cell !== undefined){\n            cell.addEventListener('mousedown', () => {\n                    clicked_cell = i;\n                }, true)\n        }\n    }\n}\n\nbindClickDetectToCells();\n\n/**\n * @name RT_Handler\n * @description A wrapper for our roundtrip object. It is called as a proxy for the\n *      roundtrip object defined above. This enables us to define custom call backs for\n *      gets and sets on the roundtrip object. The custom set handles necessary data conversion,\n *      the registering of two-way bound variables and automatic updating of watched cells. The get\n *      allows users to interact with the underlying object without worrying about the proxy.\n */\nvar RT_Handler = {\n    set(obj, prop, value){\n        //Do cell housekeeping\n\n\n        //Initial pass of value into roundtrip object\n        // from python code; there may be multiple different\n        // visualizations of the same type we need to catch\n        if (typeof value === 'object' && value.hasOwnProperty('origin') && value.origin == 'INIT'){\n            \n            /**\n             * In this code block we need to check if there is already a \n             * an array of id's which are two way bound already defined and \n             * add to it or remove from it\n             */\n            let ida = Jupyter.notebook.get_selected_index()-1;\n            value.id = ida;\n            let new_val = value;\n\n            // Block updating bindings while jupyter is running\n            if(refresh_cycle){\n                new_val = obj[prop];\n                new_val.data = value.data;\n                return Reflect.set(obj, prop, new_val);\n            }\n\n            /**\n             * The broad case where we are updating bindings \n             * on existing data\n             */\n            if(obj[prop] != undefined){\n                new_val = obj[prop];\n                new_val.data = value.data;\n                new_val.converter = value.converter;\n\n                // If there is no two way array, create one\n                // Else push on our new id\n                if(value.two_way === true){\n                    if(!Object.keys(new_val.two_way).includes(value['python_var'])){\n                        new_val.two_way[value['python_var']] = [];\n                    }\n\n                    let pybinding = new_val.two_way[value['python_var']];\n\n                    if(!pybinding.includes(value.id)){\n                        pybinding.push(value.id);\n                    }\n\n                }\n\n                //Deregister a cell id from being two-way bound now\n                else if(value.two_way === false && Object.keys(new_val.two_way).includes(value['python_var'])){\n                    let pybinding = new_val.two_way[value['python_var']];\n                    const index = pybinding.indexOf(value.id);\n                    \n                    if (index > -1) {\n                        pybinding.splice(index, 1);\n                    }\n                }\n            }\n\n            //Initalize a new two-way object if\n            // one did not exist\n            else{\n                if(new_val.two_way == true){\n                    new_val.two_way = {};\n                    new_val.two_way[value['python_var']] = [value.id];\n                }\n                else{\n                    new_val.two_way = {};\n                }\n                delete new_val.id;\n                delete new_val.from_py;\n                delete new_val.python_var;\n            }\n\n            return Reflect.set(obj, prop, new_val);\n        }\n        //Assignment from javascript code\n        else {\n            // TODO: make the py/js data identification object a\n            // formal class\n            if(obj[prop] === undefined){\n                obj[prop] = {\n                    two_way: {},\n                    origin: \"JS\",\n                    data: null,\n                    python_var: \"\",\n                    converter: null,\n                    type: typeof(value)\n                }\n            }\n\n            var execable_cells = [];\n            let origin = 'STANDARD';\n            let python_var = '';\n\n            if (typeof value === 'object' && \n                value.hasOwnProperty('origin') && \n                value.origin == 'PYASSIGN'){\n\n                origin = value.origin;\n                python_var = value.python_var;\n                value = value.data;\n            }\n\n            //TODO: Replace with imported, webpacked D3\n            require(['https://d3js.org/d3.v4.min.js'], function(d3) {\n\n                // When 2 way bound this calls automatically when something changes\n                if (obj[prop] !== undefined && Object.keys(obj[prop][\"two_way\"]).length > 0){\n\n                    let current_cell = Number(clicked_cell);\n                    let py_var = '';\n\n                    //ust set the data without updating if our current cell is not two way bound\n                    if(origin == 'STANDARD'){\n                        let found = false;\n                        for(let key in obj[prop][\"two_way\"]){\n                            if (obj[prop][\"two_way\"][key].includes(current_cell)){\n                                found = true;\n                                py_var = key;\n                            }\n                        }\n\n                        if(!found){\n                            return Reflect.set(obj[prop], \"data\", value);\n                        }\n                    }\n\n\n                    if(origin == 'PYASSIGN'){\n                        py_var = python_var;\n                    }\n\n\n                    /**\n                     * We now have a list of registered cells we can execute.\n                     * So we look through our javascript variables to see if they\n                     * are bound to the same py variable as our current assignment\n                     * TODO: Make this list update when cells are moved up or down\n                     */\n\n                    for(let js_var in obj){\n                        let boundpyvars =  Object.keys(obj[js_var][\"two_way\"]);\n\n                        if(boundpyvars.includes(py_var)){\n                            let clls = obj[js_var][\"two_way\"][py_var].filter(x => x != current_cell );\n                            execable_cells = execable_cells.concat(clls);\n                        }\n                    }\n\n                    if(origin == 'STANDARD'){\n                        // TODO:THROW AN ERROR IF CONVERTER == NONE\n                        const code = buildPythonAssignment(value, py_var, obj[prop][\"converter\"]);\n                        \n                        //TODO: Turn this into a function that manages error reporting and printing\n                        Jupyter.notebook.kernel.execute(code, { \n                                                            shell:{\n                                                                reply: function(r){\n                                                                    //consider putting this in a reserved jupyter variable\n                                                                    if(r.content.status == 'error'){\n                                                                        console.error(`${r.content.ename} in JS->Python coversion:\\n ${r.content.evalue}`)\n                                                                    }\n                                                                }\n                                                            }\n                                                        });\n                    }\n\n                    refresh_cycle = true;\n                    Jupyter.notebook.execute_cells(execable_cells);\n\n                    /**\n                     * Test every half second to see if some of the\n                     * jupyter cells are still running. Avoids a race condition\n                     * where incorrect ids were stored in our roundtrip object.\n                     */\n                    const test_running = function(){\n                        let runtest = d3.selectAll(\".running\");\n                        if(runtest.empty()){\n                            refresh_cycle = false;\n                            return;\n                        }\n                        else{\n                            setTimeout(test_running, 500);\n                        }\n                    }\n\n                    test_running();\n                }\n\n            });\n        }   \n\n        return Reflect.set(obj[prop], \"data\", value);\n    },\n    get(obj, prop, reciever){\n        let ret = obj[prop].data\n        return ret;  \n    }\n}\n\nwindow.Roundtrip = new Proxy(Roundtrip_Obj, RT_Handler);\n",
      "text/plain": [
       "<IPython.core.display.Javascript object>"
      ]
     },
     "metadata": {},
     "output_type": "display_data"
    },
    {
     "data": {
      "text/html": [
       "<style>.container { width:80% !important; }</style>"
      ],
      "text/plain": [
       "<IPython.core.display.HTML object>"
      ]
     },
     "metadata": {},
     "output_type": "display_data"
    }
   ],
   "source": [
    "import sys\n",
    "import matplotlib.pyplot as plt\n",
    "import pandas as pd\n",
    "from IPython.display import display\n",
    "from IPython.display import HTML\n",
    "\n",
    "import thicket as th\n",
    "from thicket.model_extrap import ExtrapInterface\n",
    "\n",
    "display(HTML(\"<style>.container { width:80% !important; }</style>\"))\n",
    "\n",
    "# display all columns from pandas data frames\n",
    "pd.options.display.max_columns = None\n",
    "\n",
    "data = \"../../data/LULESH/exclusive/weak\"\n",
    "thicket = th.Thicket.from_caliperreader(data)\n"
   ]
  },
  {
   "cell_type": "code",
   "execution_count": 2,
   "metadata": {},
   "outputs": [],
   "source": [
    "#thicket.metadata"
   ]
  },
  {
   "cell_type": "code",
   "execution_count": 3,
   "metadata": {},
   "outputs": [],
   "source": [
    "extrap_interface = ExtrapInterface()"
   ]
  },
  {
   "cell_type": "code",
   "execution_count": 4,
   "metadata": {},
   "outputs": [
    {
     "name": "stdout",
     "output_type": "stream",
     "text": [
      "Available Extra-P Modeler: ['default', 'basic', 'multi-parameter', 'refining']\n"
     ]
    }
   ],
   "source": [
    "extrap_interface.print_modelers()"
   ]
  },
  {
   "cell_type": "code",
   "execution_count": 5,
   "metadata": {},
   "outputs": [
    {
     "name": "stdout",
     "output_type": "stream",
     "text": [
      "Modeler Options\n",
      "--------------\n",
      "allow_log_terms\t BOOL\t Allows models with logarithmic terms\n",
      "use_crossvalidation\t BOOL\t Enables cross-validation\n",
      "compare_with_RSS\t BOOL\t If enabled the models are compared using their residual sum of squares (RSS) instead of their symmetric mean absolute percentage error (SMAPE)\n",
      "poly_exponents\t STR\t Set of polynomial exponents. Use comma separated list.\n",
      "log_exponents\t STR\t Set of logarithmic exponents. Use comma separated list.\n",
      "retain_default_exponents\t BOOL\t If set the default exponents are added to the given ones.\n",
      "force_combination_exponents\t BOOL\t If set the exact combination of exponents is forced.\n",
      "allow_negative_exponents\t BOOL\t If set adds neagtive exponents for strong scaling.\n",
      "\n"
     ]
    }
   ],
   "source": [
    "extrap_interface.print_modeler_options(\"default\")"
   ]
  },
  {
   "cell_type": "code",
   "execution_count": 6,
   "metadata": {},
   "outputs": [
    {
     "name": "stderr",
     "output_type": "stream",
     "text": [
      "/usr/WS2/ritter5/thicket/thicket/model_extrap.py:1284: FutureWarning: Setting an item of incompatible dtype is deprecated and will raise in a future error of pandas. Value '$-1.039\\times10^{−3}+4.453\\times10^{−4}\\cdot \\log_2{p}^{1}$' has dtype incompatible with float64, please explicitly cast to a compatible dtype first.\n",
      "  tht.statsframe.dataframe.at[\n",
      "/usr/WS2/ritter5/thicket/thicket/model_extrap.py:1284: FutureWarning: Setting an item of incompatible dtype is deprecated and will raise in a future error of pandas. Value '$-1.039\\times10^{−3}+4.453\\times10^{−4}\\cdot \\log_2{p}^{1}$' has dtype incompatible with float64, please explicitly cast to a compatible dtype first.\n",
      "  tht.statsframe.dataframe.at[\n",
      "/usr/WS2/ritter5/thicket/thicket/model_extrap.py:1284: FutureWarning: Setting an item of incompatible dtype is deprecated and will raise in a future error of pandas. Value '$-1.039\\times10^{−3}+4.453\\times10^{−4}\\cdot \\log_2{p}^{1}$' has dtype incompatible with float64, please explicitly cast to a compatible dtype first.\n",
      "  tht.statsframe.dataframe.at[\n"
     ]
    },
    {
     "data": {
      "text/plain": [
       "'\\nextrap_interface.create_models(thicket, \\n                               parameters=[\\n                                   \"problem_size\"\\n                                ], \\n                               metrics=[\\n                                   \"Avg time/rank\",\\n                                   \"Avg time/rank (exc)\",\\n                                   ], \\n                               add_stats = False,\\n                               use_median=False,\\n                               modeler=\"refining\",\\n                               model_name=\"config3\")'"
      ]
     },
     "execution_count": 6,
     "metadata": {},
     "output_type": "execute_result"
    }
   ],
   "source": [
    "extrap_interface = ExtrapInterface()\n",
    "\n",
    "modeler_options = {'allow_log_terms': True,\n",
    "                   'use_crossvalidation': True,\n",
    "                   'compare_with_RSS': False,\n",
    "                   'poly_exponents': \"0,1,2,3,4,5\",\n",
    "                   'log_exponents': \"0,1,2\",\n",
    "                  }\n",
    "\n",
    "extrap_interface.create_models(thicket, \n",
    "                               parameters=[\n",
    "                                   \"jobsize\",\n",
    "                                   #\"problem_size\"\n",
    "                                ], \n",
    "                               metrics=[\n",
    "                                   #\"Avg time/rank (exc)\",\n",
    "                                   \"Avg time/rank\"\n",
    "                                   ], \n",
    "                               use_median=True,\n",
    "                               modeler=\"default\",\n",
    "                               model_name=\"config1\")\n",
    "\n",
    "extrap_interface.create_models(thicket, \n",
    "                               parameters=[\n",
    "                                   \"jobsize\",\n",
    "                                ], \n",
    "                               metrics=[\n",
    "                                   \"Avg time/rank (exc)\",\n",
    "                                   \"Avg time/rank\"\n",
    "                                   ], \n",
    "                               modeler=\"default\",\n",
    "                               model_name=\"config2\",\n",
    "                               modeler_options=modeler_options)\n",
    "\n",
    "\n"
   ]
  },
  {
   "cell_type": "code",
   "execution_count": 7,
   "metadata": {},
   "outputs": [],
   "source": [
    "with pd.option_context(\"display.max_colwidth\", 1):\n",
    "    display(HTML(extrap_interface.to_html(thicket, show_mean=True, show_median=True, \n",
    "                            show_min_max=True, RSS=True, \n",
    "                            AR2=True, show_opt_scaling=False)))\n"
   ]
  },
  {
   "cell_type": "code",
   "execution_count": null,
   "metadata": {},
   "outputs": [],
   "source": [
    "mdl.componentize_statsframe()\n",
    "\n",
    "xp_comp_df = t_ens.statsframe.dataframe\n",
    "\n",
    "xp_comp_df"
   ]
  },
  {
   "cell_type": "code",
   "execution_count": null,
   "metadata": {},
   "outputs": [],
   "source": [
    "#mdl.complexity_statsframe(eval_targets=[[512,70],[1024,80]])\n",
    "mdl.complexity_statsframe(eval_targets=[[512],[1024]])\n",
    "\n",
    "xp_comp_df = t_ens.statsframe.dataframe\n",
    "\n",
    "xp_comp_df"
   ]
  },
  {
   "cell_type": "code",
   "execution_count": null,
   "metadata": {},
   "outputs": [],
   "source": [
    "# sort by growth rank to identify bottlenecks\n",
    "#x = xp_comp_df.sort_values(by=[\"Avg time/rank (exc)_extrap-model_complexity_(512,70)\"])\n",
    "x = xp_comp_df.sort_values(by=[\"Avg time/rank (exc)_extrap-model_complexity_(512)\"])\n",
    "x"
   ]
  },
  {
   "cell_type": "code",
   "execution_count": null,
   "metadata": {},
   "outputs": [],
   "source": [
    "#x = xp_comp_df.groupby(\"Avg time/rank (exc)_extrap-model_complexity_(512,70)\")\n",
    "x = xp_comp_df.groupby(\"Avg time/rank (exc)_extrap-model_complexity_(512)\")\n",
    "for key, value in x.groups.items():\n",
    "    print(key)\n",
    "    print(value)\n"
   ]
  }
 ],
 "metadata": {
  "kernelspec": {
   "display_name": "Python 3 (ipykernel)",
   "language": "python",
   "name": "python3"
  },
  "language_info": {
   "codemirror_mode": {
    "name": "ipython",
    "version": 3
   },
   "file_extension": ".py",
   "mimetype": "text/x-python",
   "name": "python",
   "nbconvert_exporter": "python",
   "pygments_lexer": "ipython3",
   "version": "3.9.12"
  }
 },
 "nbformat": 4,
 "nbformat_minor": 4
}
